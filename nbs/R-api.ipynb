{
 "cells": [
  {
   "cell_type": "markdown",
   "metadata": {},
   "source": [
    "# Using Kipoi from R\n",
    "\n",
    "Thanks to the [reticulate](https://github.com/rstudio/reticulate) R package from RStudio, it is possible to easily call python functions from R. Hence one can use kipoi python API from R. This tutorial will show how to do that."
   ]
  },
  {
   "cell_type": "markdown",
   "metadata": {},
   "source": [
    "## Install and load `reticulate`\n",
    "\n",
    "Make sure you have the reticulate R package installed"
   ]
  },
  {
   "cell_type": "code",
   "execution_count": 6,
   "metadata": {},
   "outputs": [],
   "source": [
    "# install.packages(\"reticulate\")"
   ]
  },
  {
   "cell_type": "code",
   "execution_count": 2,
   "metadata": {},
   "outputs": [],
   "source": [
    "library(reticulate)"
   ]
  },
  {
   "cell_type": "markdown",
   "metadata": {},
   "source": [
    "## Setup the python environment\n",
    "\n",
    "With `reticulate::py_config()` you can check if the python configuration used by reticulate is correct. You can can also choose to use a different conda environment with `use_condaenv(...)`. This comes handy when using different models depending on different conda environments."
   ]
  },
  {
   "cell_type": "code",
   "execution_count": 3,
   "metadata": {},
   "outputs": [
    {
     "data": {
      "text/plain": [
       "python:         /opt/modules/i12g/anaconda/3-4.1.1/bin/python\n",
       "libpython:      /opt/modules/i12g/anaconda/3-4.1.1/lib/libpython3.5m.so\n",
       "pythonhome:     /opt/modules/i12g/anaconda/3-4.1.1:/opt/modules/i12g/anaconda/3-4.1.1\n",
       "version:        3.5.2 |Anaconda custom (64-bit)| (default, Jul  2 2016, 17:53:06)  [GCC 4.4.7 20120313 (Red Hat 4.4.7-1)]\n",
       "numpy:          /opt/modules/i12g/anaconda/3-4.1.1/lib/python3.5/site-packages/numpy\n",
       "numpy_version:  1.13.3\n",
       "\n",
       "python versions found: \n",
       " /opt/modules/i12g/anaconda/3-4.1.1/bin/python\n",
       " /usr/bin/python"
      ]
     },
     "metadata": {},
     "output_type": "display_data"
    }
   ],
   "source": [
    "reticulate::py_config()"
   ]
  },
  {
   "cell_type": "code",
   "execution_count": 15,
   "metadata": {},
   "outputs": [],
   "source": [
    "# reticulate::conda_list()"
   ]
  },
  {
   "cell_type": "code",
   "execution_count": 17,
   "metadata": {},
   "outputs": [],
   "source": [
    "# reticulate::use_condaenv(...)"
   ]
  },
  {
   "cell_type": "markdown",
   "metadata": {},
   "source": [
    "## Load kipoi"
   ]
  },
  {
   "cell_type": "code",
   "execution_count": 4,
   "metadata": {},
   "outputs": [],
   "source": [
    "kipoi <- import(\"kipoi\")"
   ]
  },
  {
   "cell_type": "markdown",
   "metadata": {},
   "source": [
    "### List models"
   ]
  },
  {
   "cell_type": "code",
   "execution_count": 5,
   "metadata": {},
   "outputs": [
    {
     "data": {
      "text/plain": [
       "  source                      model version  \\\n",
       "0  kipoi                 MaxEntScan     0.1   \n",
       "1  kipoi              extended_coda     0.1   \n",
       "2  kipoi                    DeepSEA     0.1   \n",
       "3  kipoi                        HAL     0.1   \n",
       "4  kipoi  CpGenie/MCF_7_ENCSR943EFS     0.1   \n",
       "\n",
       "                                             authors  \\\n",
       "0  [Author(name='Jun Cheng', github='s6juncheng',...   \n",
       "1  [Author(name='Johnny Israeli', github='jisrael...   \n",
       "2  [Author(name='Lara Urban', github='LaraUrban',...   \n",
       "3  [Author(name='Jun Cheng', github='s6juncheng',...   \n",
       "4  [Author(name='Haoyang Zeng', github='haoyangz'...   \n",
       "\n",
       "                                                 doc    type  \\\n",
       "0                              MaxEnt Splicing Model  custom   \n",
       "1            Single bp resolution ChIP-seq denoising   keras   \n",
       "2  This CNN is based on the DeepSEA model from Zh...   keras   \n",
       "3                      Model from Rosenberg ... TODO  custom   \n",
       "4  Abstract: DNA methylation plays a crucial role...   keras   \n",
       "\n",
       "                 inputs           targets tags  \n",
       "0                 [seq]             [psi]   []  \n",
       "1  [H3K27AC_subsampled]         [H3K27ac]   []  \n",
       "2                   seq        epigen_mod   []  \n",
       "3                 [seq]             [psi]   []  \n",
       "4                   seq  methylation_prob   []  "
      ]
     },
     "metadata": {},
     "output_type": "display_data"
    }
   ],
   "source": [
    "kipoi$list_models()$head()"
   ]
  },
  {
   "cell_type": "markdown",
   "metadata": {},
   "source": [
    "`reticulate` currently doesn't support direct convertion from `pandas.DataFrame` to R's `data.frame`. Let's make a convenience function to create an R dataframe via matrix conversion."
   ]
  },
  {
   "cell_type": "code",
   "execution_count": 6,
   "metadata": {},
   "outputs": [],
   "source": [
    "#' List models as an R data.frame\n",
    "kipoi_list_models <- function() {\n",
    "    df_models <- kipoi$list_models()\n",
    "    df <- data.frame(df_models$as_matrix())\n",
    "    colnames(df) = df_models$columns$tolist()\n",
    "    return(df)\n",
    "   \n",
    "}"
   ]
  },
  {
   "cell_type": "code",
   "execution_count": 7,
   "metadata": {},
   "outputs": [],
   "source": [
    "df <- kipoi_list_models()"
   ]
  },
  {
   "cell_type": "code",
   "execution_count": 8,
   "metadata": {},
   "outputs": [
    {
     "data": {
      "text/html": [
       "<table>\n",
       "<thead><tr><th scope=col>source</th><th scope=col>model</th><th scope=col>version</th><th scope=col>authors</th><th scope=col>doc</th><th scope=col>type</th><th scope=col>inputs</th><th scope=col>targets</th><th scope=col>tags</th></tr></thead>\n",
       "<tbody>\n",
       "\t<tr><td>kipoi                                                      </td><td>MaxEntScan                                                 </td><td>0.1                                                        </td><td>[Author(name='Jun Cheng', github='s6juncheng', email=None)]</td><td>MaxEnt Splicing Model                                      </td><td>custom                                                     </td><td>seq                                                        </td><td>psi                                                        </td><td>&lt;environment: 0x2b762e8&gt;                             </td></tr>\n",
       "\t<tr><td>kipoi                                                         </td><td>extended_coda                                                 </td><td>0.1                                                           </td><td>[Author(name='Johnny Israeli', github='jisraeli', email=None)]</td><td>Single bp resolution ChIP-seq denoising                       </td><td>keras                                                         </td><td>H3K27AC_subsampled                                            </td><td>H3K27ac                                                       </td><td>&lt;environment: 0x2b03270&gt;                                </td></tr>\n",
       "</tbody>\n",
       "</table>\n"
      ],
      "text/latex": [
       "\\begin{tabular}{r|lllllllll}\n",
       " source & model & version & authors & doc & type & inputs & targets & tags\\\\\n",
       "\\hline\n",
       "\t kipoi                                                           & MaxEntScan                                                      & 0.1                                                             & {[}Author(name='Jun Cheng', github='s6juncheng', email=None){]} & MaxEnt Splicing Model                                           & custom                                                          & seq                                                             & psi                                                             & <environment: 0x2b762e8>                                       \\\\\n",
       "\t kipoi                                                              & extended\\_coda                                                    & 0.1                                                                & {[}Author(name='Johnny Israeli', github='jisraeli', email=None){]} & Single bp resolution ChIP-seq denoising                            & keras                                                              & H3K27AC\\_subsampled                                               & H3K27ac                                                            & <environment: 0x2b03270>                                          \\\\\n",
       "\\end{tabular}\n"
      ],
      "text/markdown": [
       "\n",
       "source | model | version | authors | doc | type | inputs | targets | tags | \n",
       "|---|---|\n",
       "| kipoi                                                       | MaxEntScan                                                  | 0.1                                                         | [Author(name='Jun Cheng', github='s6juncheng', email=None)] | MaxEnt Splicing Model                                       | custom                                                      | seq                                                         | psi                                                         | <environment: 0x2b762e8>                                    | \n",
       "| kipoi                                                          | extended_coda                                                  | 0.1                                                            | [Author(name='Johnny Israeli', github='jisraeli', email=None)] | Single bp resolution ChIP-seq denoising                        | keras                                                          | H3K27AC_subsampled                                             | H3K27ac                                                        | <environment: 0x2b03270>                                       | \n",
       "\n",
       "\n"
      ],
      "text/plain": [
       "  source model         version\n",
       "1 kipoi  MaxEntScan    0.1    \n",
       "2 kipoi  extended_coda 0.1    \n",
       "  authors                                                       \n",
       "1 [Author(name='Jun Cheng', github='s6juncheng', email=None)]   \n",
       "2 [Author(name='Johnny Israeli', github='jisraeli', email=None)]\n",
       "  doc                                     type   inputs             targets\n",
       "1 MaxEnt Splicing Model                   custom seq                psi    \n",
       "2 Single bp resolution ChIP-seq denoising keras  H3K27AC_subsampled H3K27ac\n",
       "  tags                    \n",
       "1 <environment: 0x2b762e8>\n",
       "2 <environment: 0x2b03270>"
      ]
     },
     "metadata": {},
     "output_type": "display_data"
    }
   ],
   "source": [
    "head(df, 2)"
   ]
  },
  {
   "cell_type": "markdown",
   "metadata": {},
   "source": [
    "### Get the kipoi model and make a prediction for the example files"
   ]
  },
  {
   "cell_type": "code",
   "execution_count": 13,
   "metadata": {},
   "outputs": [],
   "source": [
    "model <- kipoi$get_model(\"rbp_eclip/CSTF2\")"
   ]
  },
  {
   "cell_type": "code",
   "execution_count": 14,
   "metadata": {},
   "outputs": [],
   "source": [
    "predictions <- model$pipeline$predict_example()"
   ]
  },
  {
   "cell_type": "code",
   "execution_count": 15,
   "metadata": {},
   "outputs": [
    {
     "data": {
      "text/html": [
       "<table>\n",
       "<tbody>\n",
       "\t<tr><td>0.27158695</td></tr>\n",
       "\t<tr><td>0.09449492</td></tr>\n",
       "\t<tr><td>0.09449492</td></tr>\n",
       "\t<tr><td>0.27158695</td></tr>\n",
       "\t<tr><td>0.27158695</td></tr>\n",
       "\t<tr><td>0.27158695</td></tr>\n",
       "\t<tr><td>0.09449492</td></tr>\n",
       "\t<tr><td>0.27158695</td></tr>\n",
       "\t<tr><td>0.27158695</td></tr>\n",
       "\t<tr><td>0.27158695</td></tr>\n",
       "\t<tr><td>0.27158695</td></tr>\n",
       "\t<tr><td>0.27158695</td></tr>\n",
       "\t<tr><td>0.27158695</td></tr>\n",
       "\t<tr><td>0.27158695</td></tr>\n",
       "</tbody>\n",
       "</table>\n"
      ],
      "text/latex": [
       "\\begin{tabular}{l}\n",
       "\t 0.27158695\\\\\n",
       "\t 0.09449492\\\\\n",
       "\t 0.09449492\\\\\n",
       "\t 0.27158695\\\\\n",
       "\t 0.27158695\\\\\n",
       "\t 0.27158695\\\\\n",
       "\t 0.09449492\\\\\n",
       "\t 0.27158695\\\\\n",
       "\t 0.27158695\\\\\n",
       "\t 0.27158695\\\\\n",
       "\t 0.27158695\\\\\n",
       "\t 0.27158695\\\\\n",
       "\t 0.27158695\\\\\n",
       "\t 0.27158695\\\\\n",
       "\\end{tabular}\n"
      ],
      "text/markdown": [
       "\n",
       "| 0.27158695 | \n",
       "| 0.09449492 | \n",
       "| 0.09449492 | \n",
       "| 0.27158695 | \n",
       "| 0.27158695 | \n",
       "| 0.27158695 | \n",
       "| 0.09449492 | \n",
       "| 0.27158695 | \n",
       "| 0.27158695 | \n",
       "| 0.27158695 | \n",
       "| 0.27158695 | \n",
       "| 0.27158695 | \n",
       "| 0.27158695 | \n",
       "| 0.27158695 | \n",
       "\n",
       "\n"
      ],
      "text/plain": [
       "      [,1]      \n",
       " [1,] 0.27158695\n",
       " [2,] 0.09449492\n",
       " [3,] 0.09449492\n",
       " [4,] 0.27158695\n",
       " [5,] 0.27158695\n",
       " [6,] 0.27158695\n",
       " [7,] 0.09449492\n",
       " [8,] 0.27158695\n",
       " [9,] 0.27158695\n",
       "[10,] 0.27158695\n",
       "[11,] 0.27158695\n",
       "[12,] 0.27158695\n",
       "[13,] 0.27158695\n",
       "[14,] 0.27158695"
      ]
     },
     "metadata": {},
     "output_type": "display_data"
    }
   ],
   "source": [
    "predictions"
   ]
  },
  {
   "cell_type": "code",
   "execution_count": 16,
   "metadata": {},
   "outputs": [
    {
     "data": {
      "text/html": [
       "'matrix'"
      ],
      "text/latex": [
       "'matrix'"
      ],
      "text/markdown": [
       "'matrix'"
      ],
      "text/plain": [
       "[1] \"matrix\""
      ]
     },
     "metadata": {},
     "output_type": "display_data"
    }
   ],
   "source": [
    "class(predictions)"
   ]
  }
 ],
 "metadata": {
  "kernelspec": {
   "display_name": "R",
   "language": "R",
   "name": "ir"
  },
  "language_info": {
   "codemirror_mode": "r",
   "file_extension": ".r",
   "mimetype": "text/x-r-source",
   "name": "R",
   "pygments_lexer": "r",
   "version": "3.4.2"
  }
 },
 "nbformat": 4,
 "nbformat_minor": 2
}
