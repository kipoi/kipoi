{
 "cells": [
  {
   "cell_type": "markdown",
   "metadata": {},
   "source": [
    "# `kipoi` python-sdk"
   ]
  },
  {
   "cell_type": "markdown",
   "metadata": {},
   "source": [
    "### Quick start"
   ]
  },
  {
   "cell_type": "markdown",
   "metadata": {},
   "source": [
    "There are three basic building blocks in kipoi:\n",
    "- **Source** - provides Models and DataLoaders.\n",
    "- **Model** - makes the prediction given the numpy arrays. \n",
    "- **DataLoader** - loads the data from raw files and transforms them into a form that is directly consumable by the Model"
   ]
  },
  {
   "cell_type": "markdown",
   "metadata": {},
   "source": [
    "## List of main commands\n",
    "\n",
    "- what if we had the following API:\n",
    "  - `kipoi.list_sources()`\n",
    "  - `kipoi.get_source()`\n",
    "  - `kipoi.list_models()`\n",
    "    - [ ] update the columns\n",
    "      - add flags:\n",
    "        - downloaded - if the model has already been downloaded\n",
    "        - size - model size\n",
    "  - `kipoi.get_model()`\n",
    "  - `kipoi.get_dataloader_factory()`\n",
    "- **TODO** `kipoi.list_dataloaders()`\n"
   ]
  },
  {
   "cell_type": "markdown",
   "metadata": {},
   "source": [
    "### Source\n",
    "\n",
    "Available sources are specified in the config file located at: `~/.kipoi/config.yaml`. Here is an example config file:\n",
    "\n",
    "```yaml\n",
    "model_sources:\n",
    "    kipoi: # default\n",
    "        type: git-lfs # git repository with large file storage (git-lfs)\n",
    "        remote_url: git@github.com:kipoi/models.git # git remote\n",
    "        local_path: ~/.kipoi/models/ # local storage path\n",
    "    my_git_models: # custom model\n",
    "        type: git\n",
    "        remote_url: git@github.com:myself/models.git\n",
    "        local_path: ~/.kipoi/my_git_models/\n",
    "    my_local_models: # custom model\n",
    "        type: local\n",
    "        local_path: /mnt/local_models/\n",
    "```\n",
    "\n",
    "There are three different model sources possible: \n",
    "- **`git-lfs`** - git repository with source files tracked normally by git and all the binary files like model weights (located in `files*` directories) are tracked by [git-lfs](https://git-lfs.github.com). \n",
    "  - Requires `git-lfs` to be installed.\n",
    "- **`git`** - all the files including weights (not recommended)\n",
    "- **`local`** - local directory containing models defined in subdirectories\n",
    "\n",
    "For **`git-lfs`** source type, larger files tracked by `git-lfs` will be downloaded into the specified directory `local_path` only after the model has been requested (when invoking `kipoi.get_model()`).\n",
    "\n",
    "#### Note\n",
    "\n",
    "A particular model/dataloader is defined by its source (say `kipoi` or `my_git_models`) and the relative path of the desired model directory from the model source root (say `rbp/`).\n",
    "\n",
    "A directory is considered a model if it contains a `model.yaml` file."
   ]
  },
  {
   "cell_type": "code",
   "execution_count": 141,
   "metadata": {},
   "outputs": [],
   "source": [
    "import kipoi"
   ]
  },
  {
   "cell_type": "code",
   "execution_count": null,
   "metadata": {},
   "outputs": [],
   "source": []
  },
  {
   "cell_type": "code",
   "execution_count": null,
   "metadata": {},
   "outputs": [],
   "source": []
  },
  {
   "cell_type": "code",
   "execution_count": null,
   "metadata": {},
   "outputs": [],
   "source": []
  },
  {
   "cell_type": "code",
   "execution_count": 2,
   "metadata": {
    "collapsed": true
   },
   "outputs": [],
   "source": [
    "import warnings\n",
    "warnings.filterwarnings('ignore')"
   ]
  },
  {
   "cell_type": "code",
   "execution_count": 3,
   "metadata": {},
   "outputs": [
    {
     "data": {
      "text/plain": [
       "<module 'kipoi' from '/opt/modules/i12g/anaconda/3-4.1.1/lib/python3.5/site-packages/kipoi/__init__.py'>"
      ]
     },
     "execution_count": 3,
     "metadata": {},
     "output_type": "execute_result"
    }
   ],
   "source": [
    "reload(kipoi)"
   ]
  },
  {
   "cell_type": "code",
   "execution_count": 4,
   "metadata": {},
   "outputs": [
    {
     "name": "stderr",
     "output_type": "stream",
     "text": [
      "INFO:2017-10-27 15:54:35,855:kipoi] Update /data/ouga/home/ag_gagneur/avsec/.kipoi/models/\n",
      "INFO:2017-10-27 15:54:35,855:kipoi] Update /data/ouga/home/ag_gagneur/avsec/.kipoi/models/\n",
      "INFO:2017-10-27 15:54:38,640:kipoi] Update /s/project/model-zoo/\n",
      "INFO:2017-10-27 15:54:38,640:kipoi] Update /s/project/model-zoo/\n",
      "INFO:2017-10-27 15:54:39,665:kipoi] model rbp loaded\n",
      "INFO:2017-10-27 15:54:39,665:kipoi] model rbp loaded\n"
     ]
    },
    {
     "data": {
      "text/html": [
       "<div>\n",
       "<style>\n",
       "    .dataframe thead tr:only-child th {\n",
       "        text-align: right;\n",
       "    }\n",
       "\n",
       "    .dataframe thead th {\n",
       "        text-align: left;\n",
       "    }\n",
       "\n",
       "    .dataframe tbody tr th {\n",
       "        vertical-align: top;\n",
       "    }\n",
       "</style>\n",
       "<table border=\"1\" class=\"dataframe\">\n",
       "  <thead>\n",
       "    <tr style=\"text-align: right;\">\n",
       "      <th></th>\n",
       "      <th>source</th>\n",
       "      <th>type</th>\n",
       "      <th>location</th>\n",
       "      <th>local_size</th>\n",
       "      <th>n_models</th>\n",
       "      <th>n_dataloaders</th>\n",
       "    </tr>\n",
       "  </thead>\n",
       "  <tbody>\n",
       "    <tr>\n",
       "      <th>0</th>\n",
       "      <td>kipoi</td>\n",
       "      <td>git-lfs</td>\n",
       "      <td>/data/ouga/home/ag_ga...</td>\n",
       "      <td>205M</td>\n",
       "      <td>3</td>\n",
       "      <td>3</td>\n",
       "    </tr>\n",
       "    <tr>\n",
       "      <th>1</th>\n",
       "      <td>gl</td>\n",
       "      <td>git</td>\n",
       "      <td>/s/project/model-zoo/</td>\n",
       "      <td>112M</td>\n",
       "      <td>1</td>\n",
       "      <td>1</td>\n",
       "    </tr>\n",
       "  </tbody>\n",
       "</table>\n",
       "</div>"
      ],
      "text/plain": [
       "  source     type                  location local_size  n_models  n_dataloaders\n",
       "0  kipoi  git-lfs  /data/ouga/home/ag_ga...       205M         3              3\n",
       "1     gl      git     /s/project/model-zoo/       112M         1              1"
      ]
     },
     "execution_count": 4,
     "metadata": {},
     "output_type": "execute_result"
    }
   ],
   "source": [
    "# TODO - update\n",
    "kipoi.list_sources()"
   ]
  },
  {
   "cell_type": "code",
   "execution_count": 6,
   "metadata": {},
   "outputs": [],
   "source": [
    "s = kipoi.get_source(\"kipoi\")"
   ]
  },
  {
   "cell_type": "code",
   "execution_count": 7,
   "metadata": {},
   "outputs": [
    {
     "data": {
      "text/plain": [
       "GitLFSSource(remote_url='git@github.com:kipoi/models.git', local_path='/data/ouga/home/ag_gagneur/avsec/.kipoi/models/')"
      ]
     },
     "execution_count": 7,
     "metadata": {},
     "output_type": "execute_result"
    }
   ],
   "source": [
    "s"
   ]
  },
  {
   "cell_type": "code",
   "execution_count": 8,
   "metadata": {},
   "outputs": [
    {
     "name": "stderr",
     "output_type": "stream",
     "text": [
      "INFO:2017-10-27 15:54:48,614:kipoi] Update /data/ouga/home/ag_gagneur/avsec/.kipoi/models/\n",
      "INFO:2017-10-27 15:54:48,614:kipoi] Update /data/ouga/home/ag_gagneur/avsec/.kipoi/models/\n"
     ]
    },
    {
     "data": {
      "text/html": [
       "<div>\n",
       "<style>\n",
       "    .dataframe thead tr:only-child th {\n",
       "        text-align: right;\n",
       "    }\n",
       "\n",
       "    .dataframe thead th {\n",
       "        text-align: left;\n",
       "    }\n",
       "\n",
       "    .dataframe tbody tr th {\n",
       "        vertical-align: top;\n",
       "    }\n",
       "</style>\n",
       "<table border=\"1\" class=\"dataframe\">\n",
       "  <thead>\n",
       "    <tr style=\"text-align: right;\">\n",
       "      <th></th>\n",
       "      <th>source</th>\n",
       "      <th>model</th>\n",
       "      <th>name</th>\n",
       "      <th>version</th>\n",
       "      <th>author</th>\n",
       "      <th>descr</th>\n",
       "      <th>type</th>\n",
       "      <th>inputs</th>\n",
       "      <th>targets</th>\n",
       "      <th>tags</th>\n",
       "    </tr>\n",
       "  </thead>\n",
       "  <tbody>\n",
       "    <tr>\n",
       "      <th>0</th>\n",
       "      <td>kipoi</td>\n",
       "      <td>extended_coda</td>\n",
       "      <td>extended CODA</td>\n",
       "      <td>0.1</td>\n",
       "      <td>Johnny Israeli</td>\n",
       "      <td>Single bp resolution ...</td>\n",
       "      <td>keras</td>\n",
       "      <td>[H3K27ac_subsampled]</td>\n",
       "      <td>[H3K27ac]</td>\n",
       "      <td>[]</td>\n",
       "    </tr>\n",
       "    <tr>\n",
       "      <th>1</th>\n",
       "      <td>kipoi</td>\n",
       "      <td>rbp</td>\n",
       "      <td>rbp_eclip</td>\n",
       "      <td>0.1</td>\n",
       "      <td>Ziga Avsec</td>\n",
       "      <td>RBP binding prediction</td>\n",
       "      <td>keras</td>\n",
       "      <td>[seq, dist_polya_st]</td>\n",
       "      <td>[binding_site]</td>\n",
       "      <td>[]</td>\n",
       "    </tr>\n",
       "    <tr>\n",
       "      <th>2</th>\n",
       "      <td>kipoi</td>\n",
       "      <td>HAL</td>\n",
       "      <td>HAL</td>\n",
       "      <td>0.1</td>\n",
       "      <td>Jun Cheng, Ziga Avsec</td>\n",
       "      <td>Model from Rosenberg ...</td>\n",
       "      <td>custom</td>\n",
       "      <td>[seq]</td>\n",
       "      <td>[psi]</td>\n",
       "      <td>[]</td>\n",
       "    </tr>\n",
       "  </tbody>\n",
       "</table>\n",
       "</div>"
      ],
      "text/plain": [
       "  source          model           name  version                 author                     descr  \\\n",
       "0  kipoi  extended_coda  extended CODA      0.1         Johnny Israeli  Single bp resolution ...   \n",
       "1  kipoi            rbp      rbp_eclip      0.1             Ziga Avsec    RBP binding prediction   \n",
       "2  kipoi            HAL            HAL      0.1  Jun Cheng, Ziga Avsec  Model from Rosenberg ...   \n",
       "\n",
       "     type                inputs         targets tags  \n",
       "0   keras  [H3K27ac_subsampled]       [H3K27ac]   []  \n",
       "1   keras  [seq, dist_polya_st]  [binding_site]   []  \n",
       "2  custom                 [seq]           [psi]   []  "
      ]
     },
     "execution_count": 8,
     "metadata": {},
     "output_type": "execute_result"
    }
   ],
   "source": [
    "kipoi.list_models()"
   ]
  },
  {
   "cell_type": "markdown",
   "metadata": {},
   "source": [
    "## Model\n",
    "\n",
    "Let's choose to use the extended_coda model"
   ]
  },
  {
   "cell_type": "code",
   "execution_count": 9,
   "metadata": {},
   "outputs": [
    {
     "name": "stderr",
     "output_type": "stream",
     "text": [
      "INFO:2017-10-27 15:55:12,357:kipoi] git-lfs pull -I rbp/**\n",
      "INFO:2017-10-27 15:55:12,357:kipoi] git-lfs pull -I rbp/**\n",
      "INFO:2017-10-27 15:55:12,404:kipoi] model rbp loaded\n",
      "INFO:2017-10-27 15:55:12,404:kipoi] model rbp loaded\n",
      "INFO:2017-10-27 15:55:12,412:kipoi] git-lfs pull -I rbp/./**\n",
      "INFO:2017-10-27 15:55:12,412:kipoi] git-lfs pull -I rbp/./**\n",
      "INFO:2017-10-27 15:55:12,457:kipoi] model rbp/. loaded\n",
      "INFO:2017-10-27 15:55:12,457:kipoi] model rbp/. loaded\n",
      "Using TensorFlow backend.\n",
      "INFO:2017-10-27 15:55:25,952:kipoi] successfully loaded model architecture from <_io.TextIOWrapper name='model_files/model.json' mode='r' encoding='UTF-8'>\n",
      "INFO:2017-10-27 15:55:25,952:kipoi] successfully loaded model architecture from <_io.TextIOWrapper name='model_files/model.json' mode='r' encoding='UTF-8'>\n",
      "2017-10-27 15:55:25,952 [INFO] successfully loaded model architecture from <_io.TextIOWrapper name='model_files/model.json' mode='r' encoding='UTF-8'>\n",
      "INFO:2017-10-27 15:55:25,973:kipoi] successfully loaded model weights from model_files/weights.h5\n",
      "INFO:2017-10-27 15:55:25,973:kipoi] successfully loaded model weights from model_files/weights.h5\n",
      "2017-10-27 15:55:25,973 [INFO] successfully loaded model weights from model_files/weights.h5\n"
     ]
    }
   ],
   "source": [
    "model = kipoi.get_model(\"rbp\")"
   ]
  },
  {
   "cell_type": "markdown",
   "metadata": {},
   "source": [
    "### Available fields:\n",
    "\n",
    "From the model.yaml file:\n",
    "- type\n",
    "- args\n",
    "- info\n",
    "  - author\n",
    "  - name\n",
    "  - version\n",
    "  - tags\n",
    "  - descr\n",
    "- schema\n",
    "  - inputs\n",
    "  - targets\n",
    "- default_dataloader - loaded dataloader class\n",
    "\n",
    "Others:\n",
    "- predict_on_batch()\n",
    "- source\n",
    "- source_dir\n",
    "- pipeline\n",
    "  - predict()\n",
    "  - predict_generator()"
   ]
  },
  {
   "cell_type": "code",
   "execution_count": 18,
   "metadata": {},
   "outputs": [
    {
     "data": {
      "text/plain": [
       "<kipoi.model.KerasModel at 0x7fb732643b70>"
      ]
     },
     "execution_count": 18,
     "metadata": {},
     "output_type": "execute_result"
    }
   ],
   "source": [
    "model"
   ]
  },
  {
   "cell_type": "code",
   "execution_count": 19,
   "metadata": {},
   "outputs": [
    {
     "data": {
      "text/plain": [
       "'keras'"
      ]
     },
     "execution_count": 19,
     "metadata": {},
     "output_type": "execute_result"
    }
   ],
   "source": [
    "model.type"
   ]
  },
  {
   "cell_type": "markdown",
   "metadata": {},
   "source": [
    "### Info"
   ]
  },
  {
   "cell_type": "code",
   "execution_count": 20,
   "metadata": {},
   "outputs": [
    {
     "data": {
      "text/plain": [
       "Info(author='Ziga Avsec', name='rbp_eclip', version='0.1', descr='RBP binding prediction')"
      ]
     },
     "execution_count": 20,
     "metadata": {},
     "output_type": "execute_result"
    }
   ],
   "source": [
    "model.info"
   ]
  },
  {
   "cell_type": "code",
   "execution_count": 29,
   "metadata": {},
   "outputs": [
    {
     "data": {
      "text/plain": [
       "'0.1'"
      ]
     },
     "execution_count": 29,
     "metadata": {},
     "output_type": "execute_result"
    }
   ],
   "source": [
    "model.info.version"
   ]
  },
  {
   "cell_type": "markdown",
   "metadata": {},
   "source": [
    "### Schema"
   ]
  },
  {
   "cell_type": "code",
   "execution_count": 24,
   "metadata": {},
   "outputs": [
    {
     "data": {
      "text/plain": [
       "OrderedDict([('seq', ArraySchema(shape=('(', '4', ',', ' ', '1', '0', '1', ')'), descr='One-hot encoded RNA sequence', name='seq', special_type=<ArraySpecialType.DNASeq: 'DNASeq'>)), ('dist_polya_st', ArraySchema(shape=('(', 'N', 'o', 'n', 'e', ',', ' ', '1', ',', ' ', '1', '0', ')'), descr='Distance to poly-a site transformed with B-splines', name='dist_polya_st', special_type=None))])"
      ]
     },
     "execution_count": 24,
     "metadata": {},
     "output_type": "execute_result"
    }
   ],
   "source": [
    "model.schema.inputs"
   ]
  },
  {
   "cell_type": "code",
   "execution_count": 25,
   "metadata": {},
   "outputs": [
    {
     "data": {
      "text/plain": [
       "OrderedDict([('binding_site', ArraySchema(shape=('(', '1', ',', ' ', ')'), descr='Predicted binding strength', name='binding_site', special_type=None))])"
      ]
     },
     "execution_count": 25,
     "metadata": {},
     "output_type": "execute_result"
    }
   ],
   "source": [
    "model.schema.targets"
   ]
  },
  {
   "cell_type": "markdown",
   "metadata": {},
   "source": [
    "### Default dataloader\n",
    "\n",
    "Model already has the default dataloder present. To use it, specify"
   ]
  },
  {
   "cell_type": "code",
   "execution_count": 42,
   "metadata": {},
   "outputs": [
    {
     "data": {
      "text/plain": [
       "'/data/ouga/home/ag_gagneur/avsec/.kipoi/models/rbp'"
      ]
     },
     "execution_count": 42,
     "metadata": {},
     "output_type": "execute_result"
    }
   ],
   "source": [
    "model.source_dir"
   ]
  },
  {
   "cell_type": "code",
   "execution_count": 27,
   "metadata": {},
   "outputs": [
    {
     "data": {
      "text/plain": [
       "dataloader.SeqDistDataset"
      ]
     },
     "execution_count": 27,
     "metadata": {},
     "output_type": "execute_result"
    }
   ],
   "source": [
    "model.default_dataloader"
   ]
  },
  {
   "cell_type": "code",
   "execution_count": 28,
   "metadata": {},
   "outputs": [
    {
     "data": {
      "text/plain": [
       "Info(author='Ziga Avsec', name='rbp_eclip', version='0.1', descr='RBP binding prediction')"
      ]
     },
     "execution_count": 28,
     "metadata": {},
     "output_type": "execute_result"
    }
   ],
   "source": [
    "model.default_dataloader.info"
   ]
  },
  {
   "cell_type": "markdown",
   "metadata": {},
   "source": [
    "### Predict_on_batch"
   ]
  },
  {
   "cell_type": "code",
   "execution_count": 32,
   "metadata": {},
   "outputs": [
    {
     "data": {
      "text/plain": [
       "<bound method KerasModel.predict_on_batch of <kipoi.model.KerasModel object at 0x7fb732643b70>>"
      ]
     },
     "execution_count": 32,
     "metadata": {},
     "output_type": "execute_result"
    }
   ],
   "source": [
    "model.predict_on_batch"
   ]
  },
  {
   "cell_type": "markdown",
   "metadata": {},
   "source": [
    "### Pipeline\n",
    "\n",
    "Pipeline object will take the dataloader arguments and run the whole pipeline:\n",
    "\n",
    "```\n",
    "dataloader arguments --Dataloader-->  numpy arrays --Model--> prediction\n",
    "```"
   ]
  },
  {
   "cell_type": "code",
   "execution_count": 38,
   "metadata": {},
   "outputs": [
    {
     "data": {
      "text/plain": [
       "\u001b[0;31mSignature:\u001b[0m \u001b[0mmodel\u001b[0m\u001b[0;34m.\u001b[0m\u001b[0mpipeline\u001b[0m\u001b[0;34m.\u001b[0m\u001b[0mpredict\u001b[0m\u001b[0;34m(\u001b[0m\u001b[0mdataloader_kwargs\u001b[0m\u001b[0;34m,\u001b[0m \u001b[0mbatch_size\u001b[0m\u001b[0;34m=\u001b[0m\u001b[0;36m32\u001b[0m\u001b[0;34m)\u001b[0m\u001b[0;34m\u001b[0m\u001b[0m\n",
       "\u001b[0;31mDocstring:\u001b[0m\n",
       "# Arguments\n",
       "    preproc_kwargs: Keyword arguments passed to the pre-processor\n",
       "\n",
       ":return: Predict the whole array\n",
       "\u001b[0;31mFile:\u001b[0m      /opt/modules/i12g/anaconda/3-4.1.1/lib/python3.5/site-packages/kipoi/pipeline.py\n",
       "\u001b[0;31mType:\u001b[0m      method\n"
      ]
     },
     "metadata": {},
     "output_type": "display_data"
    }
   ],
   "source": [
    "?model.pipeline.predict"
   ]
  },
  {
   "cell_type": "code",
   "execution_count": 39,
   "metadata": {},
   "outputs": [
    {
     "data": {
      "text/plain": [
       "\u001b[0;31mSignature:\u001b[0m \u001b[0mmodel\u001b[0m\u001b[0;34m.\u001b[0m\u001b[0mpipeline\u001b[0m\u001b[0;34m.\u001b[0m\u001b[0mpredict_generator\u001b[0m\u001b[0;34m(\u001b[0m\u001b[0mdataloader_kwargs\u001b[0m\u001b[0;34m,\u001b[0m \u001b[0mbatch_size\u001b[0m\u001b[0;34m=\u001b[0m\u001b[0;36m32\u001b[0m\u001b[0;34m)\u001b[0m\u001b[0;34m\u001b[0m\u001b[0m\n",
       "\u001b[0;31mDocstring:\u001b[0m\n",
       "Prediction generator\n",
       "\n",
       "# Arguments\n",
       "    preproc_kwargs: Keyword arguments passed to the pre-processor\n",
       "\n",
       "# Yields\n",
       "    model batch prediction\n",
       "\u001b[0;31mFile:\u001b[0m      /opt/modules/i12g/anaconda/3-4.1.1/lib/python3.5/site-packages/kipoi/pipeline.py\n",
       "\u001b[0;31mType:\u001b[0m      method\n"
      ]
     },
     "metadata": {},
     "output_type": "display_data"
    }
   ],
   "source": [
    "?model.pipeline.predict_generator"
   ]
  },
  {
   "cell_type": "markdown",
   "metadata": {},
   "source": [
    "### Others"
   ]
  },
  {
   "cell_type": "code",
   "execution_count": 44,
   "metadata": {},
   "outputs": [
    {
     "data": {
      "text/plain": [
       "GitLFSSource(remote_url='git@github.com:kipoi/models.git', local_path='/data/ouga/home/ag_gagneur/avsec/.kipoi/models/')"
      ]
     },
     "execution_count": 44,
     "metadata": {},
     "output_type": "execute_result"
    }
   ],
   "source": [
    "# Model source\n",
    "model.source"
   ]
  },
  {
   "cell_type": "code",
   "execution_count": 46,
   "metadata": {},
   "outputs": [
    {
     "data": {
      "text/plain": [
       "'/data/ouga/home/ag_gagneur/avsec/.kipoi/models/rbp'"
      ]
     },
     "execution_count": 46,
     "metadata": {},
     "output_type": "execute_result"
    }
   ],
   "source": [
    "# model location directory\n",
    "model.source_dir"
   ]
  },
  {
   "cell_type": "markdown",
   "metadata": {},
   "source": [
    "## DataLoader"
   ]
  },
  {
   "cell_type": "code",
   "execution_count": 12,
   "metadata": {
    "collapsed": false
   },
   "outputs": [
    {
     "name": "stderr",
     "output_type": "stream",
     "text": [
      "INFO:2017-10-27 15:55:39,598:kipoi] git-lfs pull -I rbp/**\n",
      "INFO:2017-10-27 15:55:39,598:kipoi] git-lfs pull -I rbp/**\n",
      "2017-10-27 15:55:39,598 [INFO] git-lfs pull -I rbp/**\n",
      "INFO:2017-10-27 15:55:39,683:kipoi] model rbp loaded\n",
      "INFO:2017-10-27 15:55:39,683:kipoi] model rbp loaded\n",
      "2017-10-27 15:55:39,683 [INFO] model rbp loaded\n"
     ]
    }
   ],
   "source": [
    "DataLoader = kipoi.get_dataloader_factory(\"rbp\")"
   ]
  },
  {
   "cell_type": "code",
   "execution_count": 13,
   "metadata": {},
   "outputs": [
    {
     "data": {
      "text/plain": [
       "\u001b[0;31mInit signature:\u001b[0m \u001b[0mDataLoader\u001b[0m\u001b[0;34m(\u001b[0m\u001b[0mintervals_file\u001b[0m\u001b[0;34m,\u001b[0m \u001b[0mfasta_file\u001b[0m\u001b[0;34m,\u001b[0m \u001b[0mgtf_file\u001b[0m\u001b[0;34m,\u001b[0m \u001b[0mpreproc_transformer\u001b[0m\u001b[0;34m,\u001b[0m \u001b[0mtarget_file\u001b[0m\u001b[0;34m=\u001b[0m\u001b[0;32mNone\u001b[0m\u001b[0;34m)\u001b[0m\u001b[0;34m\u001b[0m\u001b[0m\n",
       "\u001b[0;31mDocstring:\u001b[0m     \n",
       "Args:\n",
       "    intervals_file: file path; tsv file\n",
       "        Assumes bed-like `chrom start end id score strand` format.\n",
       "    fasta_file: file path; Genome sequence\n",
       "    gtf_file: file path; Genome annotation GTF file pickled using pandas.\n",
       "    preproc_transformer: file path; tranformer used for pre-processing.\n",
       "    target_file: file path; path to the targets\n",
       "    batch_size: int\n",
       "\u001b[0;31mType:\u001b[0m           type\n"
      ]
     },
     "metadata": {},
     "output_type": "display_data"
    }
   ],
   "source": [
    "?DataLoader"
   ]
  },
  {
   "cell_type": "markdown",
   "metadata": {},
   "source": [
    "## Run dataloader on some examples"
   ]
  },
  {
   "cell_type": "code",
   "execution_count": 14,
   "metadata": {},
   "outputs": [
    {
     "name": "stdout",
     "output_type": "stream",
     "text": [
      "/data/nasif12/home_if12/avsec/.kipoi/models/rbp/test_files\n"
     ]
    }
   ],
   "source": [
    "cd $model.source_dir/test_files"
   ]
  },
  {
   "cell_type": "code",
   "execution_count": 15,
   "metadata": {
    "collapsed": false
   },
   "outputs": [],
   "source": [
    "# example arguments\n",
    "import yaml\n",
    "with open(\"test.json\", \"r\") as f:\n",
    "    test_kwargs=yaml.load(f)"
   ]
  },
  {
   "cell_type": "code",
   "execution_count": 16,
   "metadata": {
    "collapsed": false
   },
   "outputs": [
    {
     "data": {
      "text/plain": [
       "{'fasta_file': 'hg38_chr22.fa',\n",
       " 'gtf_file': 'gencode_v25_chr22.gtf.pkl.gz',\n",
       " 'intervals_file': 'intervals.tsv',\n",
       " 'preproc_transformer': '../dataloader_files/encodeSplines.pkl',\n",
       " 'target_file': 'targets.tsv'}"
      ]
     },
     "execution_count": 16,
     "metadata": {},
     "output_type": "execute_result"
    }
   ],
   "source": [
    "test_kwargs"
   ]
  },
  {
   "cell_type": "code",
   "execution_count": 17,
   "metadata": {
    "collapsed": false
   },
   "outputs": [
    {
     "name": "stderr",
     "output_type": "stream",
     "text": [
      "INFO:2017-10-27 15:55:47,104:genomelake] Running landmark extractors..\n",
      "2017-10-27 15:55:47,104 [INFO] Running landmark extractors..\n",
      "INFO:2017-10-27 15:55:47,111:genomelake] Done!\n",
      "2017-10-27 15:55:47,111 [INFO] Done!\n"
     ]
    }
   ],
   "source": [
    "dl = DataLoader(**test_kwargs)"
   ]
  },
  {
   "cell_type": "code",
   "execution_count": 18,
   "metadata": {
    "collapsed": false,
    "scrolled": true
   },
   "outputs": [
    {
     "data": {
      "text/plain": [
       "dict_keys(['inputs', 'targets', 'metadata'])"
      ]
     },
     "execution_count": 18,
     "metadata": {},
     "output_type": "execute_result"
    }
   ],
   "source": [
    "dl[0].keys()"
   ]
  },
  {
   "cell_type": "code",
   "execution_count": 19,
   "metadata": {},
   "outputs": [
    {
     "data": {
      "text/plain": [
       "dict_keys(['seq', 'dist_polya_st'])"
      ]
     },
     "execution_count": 19,
     "metadata": {},
     "output_type": "execute_result"
    }
   ],
   "source": [
    "dl[0][\"inputs\"].keys()"
   ]
  },
  {
   "cell_type": "code",
   "execution_count": 20,
   "metadata": {},
   "outputs": [
    {
     "data": {
      "text/plain": [
       "array([[ 0.25,  0.25,  0.25,  0.25],\n",
       "       [ 0.25,  0.25,  0.25,  0.25],\n",
       "       [ 0.25,  0.25,  0.25,  0.25],\n",
       "       [ 0.25,  0.25,  0.25,  0.25],\n",
       "       [ 0.25,  0.25,  0.25,  0.25]], dtype=float32)"
      ]
     },
     "execution_count": 20,
     "metadata": {},
     "output_type": "execute_result"
    }
   ],
   "source": [
    "dl[0][\"inputs\"][\"seq\"][:5]"
   ]
  },
  {
   "cell_type": "code",
   "execution_count": 21,
   "metadata": {
    "collapsed": false
   },
   "outputs": [
    {
     "data": {
      "text/plain": [
       "14"
      ]
     },
     "execution_count": 21,
     "metadata": {},
     "output_type": "execute_result"
    }
   ],
   "source": [
    "len(dl)"
   ]
  },
  {
   "cell_type": "markdown",
   "metadata": {},
   "source": [
    "### Get the whole dataset"
   ]
  },
  {
   "cell_type": "code",
   "execution_count": 22,
   "metadata": {},
   "outputs": [
    {
     "name": "stderr",
     "output_type": "stream",
     "text": [
      "\r",
      "  0%|          | 0/1 [00:00<?, ?it/s]\r",
      "100%|██████████| 1/1 [00:00<00:00, 25.87it/s]\n"
     ]
    }
   ],
   "source": [
    "whole_data = dl.load_all()"
   ]
  },
  {
   "cell_type": "code",
   "execution_count": 23,
   "metadata": {},
   "outputs": [
    {
     "data": {
      "text/plain": [
       "dict_keys(['inputs', 'targets', 'metadata'])"
      ]
     },
     "execution_count": 23,
     "metadata": {},
     "output_type": "execute_result"
    }
   ],
   "source": [
    "whole_data.keys()"
   ]
  },
  {
   "cell_type": "code",
   "execution_count": 24,
   "metadata": {},
   "outputs": [
    {
     "data": {
      "text/plain": [
       "(14, 101, 4)"
      ]
     },
     "execution_count": 24,
     "metadata": {},
     "output_type": "execute_result"
    }
   ],
   "source": [
    "whole_data[\"inputs\"][\"seq\"].shape"
   ]
  },
  {
   "cell_type": "markdown",
   "metadata": {},
   "source": [
    "### Get the iterator to run predictions"
   ]
  },
  {
   "cell_type": "code",
   "execution_count": 118,
   "metadata": {},
   "outputs": [],
   "source": [
    "it = dl.batch_iter(batch_size=1, shuffle=False, num_workers=0, drop_last=False)"
   ]
  },
  {
   "cell_type": "code",
   "execution_count": 119,
   "metadata": {},
   "outputs": [
    {
     "data": {
      "text/plain": [
       "(1, 101, 4)"
      ]
     },
     "execution_count": 119,
     "metadata": {},
     "output_type": "execute_result"
    }
   ],
   "source": [
    "next(it)[\"inputs\"][\"seq\"].shape"
   ]
  },
  {
   "cell_type": "code",
   "execution_count": 120,
   "metadata": {},
   "outputs": [
    {
     "data": {
      "text/plain": [
       "array([[ 0.2263]], dtype=float32)"
      ]
     },
     "execution_count": 120,
     "metadata": {},
     "output_type": "execute_result"
    }
   ],
   "source": [
    "model.predict_on_batch(next(it)[\"inputs\"])"
   ]
  },
  {
   "cell_type": "markdown",
   "metadata": {},
   "source": [
    "### Train the Keras model\n",
    "\n",
    "Keras model is stored under the `.model` attribute."
   ]
  },
  {
   "cell_type": "code",
   "execution_count": 121,
   "metadata": {},
   "outputs": [],
   "source": [
    "model.model.compile(\"adam\", \"binary_crossentropy\")"
   ]
  },
  {
   "cell_type": "code",
   "execution_count": 122,
   "metadata": {},
   "outputs": [],
   "source": [
    "train_it = map(lambda x: (x[\"inputs\"], x[\"targets\"][\"binding_site\"]), it)"
   ]
  },
  {
   "cell_type": "code",
   "execution_count": 123,
   "metadata": {},
   "outputs": [
    {
     "name": "stdout",
     "output_type": "stream",
     "text": [
      "____________________________________________________________________________________________________\n",
      "Layer (type)                     Output Shape          Param #     Connected to                     \n",
      "====================================================================================================\n",
      "seq (InputLayer)                 (None, 101, 4)        0                                            \n",
      "____________________________________________________________________________________________________\n",
      "conv1 (Conv1D)                   (None, 93, 10)        370         seq[0][0]                        \n",
      "____________________________________________________________________________________________________\n",
      "average_pooling1d_6 (AveragePool (None, 23, 10)        0           conv1[0][0]                      \n",
      "____________________________________________________________________________________________________\n",
      "dist_polya_st (InputLayer)       (None, 1, 10)         0                                            \n",
      "____________________________________________________________________________________________________\n",
      "flatten_6 (Flatten)              (None, 230)           0           average_pooling1d_6[0][0]        \n",
      "____________________________________________________________________________________________________\n",
      "spline_t_6 (SplineT)             (None, 1)             10          dist_polya_st[0][0]              \n",
      "____________________________________________________________________________________________________\n",
      "concatenate_6 (Concatenate)      (None, 231)           0           flatten_6[0][0]                  \n",
      "                                                                   spline_t_6[0][0]                 \n",
      "____________________________________________________________________________________________________\n",
      "dense_6 (Dense)                  (None, 1)             232         concatenate_6[0][0]              \n",
      "====================================================================================================\n",
      "Total params: 612\n",
      "Trainable params: 612\n",
      "Non-trainable params: 0\n",
      "____________________________________________________________________________________________________\n"
     ]
    }
   ],
   "source": [
    "model.model.summary()"
   ]
  },
  {
   "cell_type": "code",
   "execution_count": 124,
   "metadata": {},
   "outputs": [
    {
     "name": "stdout",
     "output_type": "stream",
     "text": [
      "Epoch 1/1\n",
      "\r",
      "1/3 [=========>....................] - ETA: 0s - loss: 1.4858\b\b\b\b\b\b\b\b\b\b\b\b\b\b\b\b\b\b\b\b\b\b\b\b\b\b\b\b\b\b\b\b\b\b\b\b\b\b\b\b\b\b\b\b\b\b\b\b\b\b\b\b\b\b\b\b\b\b\b\b\b\r",
      "3/3 [==============================] - 0s - loss: 0.6926     \n"
     ]
    },
    {
     "data": {
      "text/plain": [
       "<keras.callbacks.History at 0x7f9990817240>"
      ]
     },
     "execution_count": 124,
     "metadata": {},
     "output_type": "execute_result"
    }
   ],
   "source": [
    "model.model.fit_generator(train_it, steps_per_epoch=3, epochs=1)"
   ]
  },
  {
   "cell_type": "markdown",
   "metadata": {},
   "source": [
    "## Pipeline: `raw files -> dataloader -> model -> prediction`"
   ]
  },
  {
   "cell_type": "code",
   "execution_count": 133,
   "metadata": {
    "collapsed": false,
    "scrolled": true
   },
   "outputs": [
    {
     "name": "stderr",
     "output_type": "stream",
     "text": [
      "INFO:2017-10-27 17:20:58,817:kipoi] Initialized data generator. Running batches...\n",
      "INFO:2017-10-27 17:20:58,817:kipoi] Initialized data generator. Running batches...\n",
      "2017-10-27 17:20:58,817 [INFO] Initialized data generator. Running batches...\n",
      "INFO:2017-10-27 17:20:58,914:genomelake] Running landmark extractors..\n",
      "2017-10-27 17:20:58,914 [INFO] Running landmark extractors..\n",
      "INFO:2017-10-27 17:20:58,924:genomelake] Done!\n",
      "2017-10-27 17:20:58,924 [INFO] Done!\n"
     ]
    },
    {
     "data": {
      "text/plain": [
       "array([[ 0.2557],\n",
       "       [ 0.2294],\n",
       "       [ 0.2294],\n",
       "       [ 0.2557],\n",
       "       [ 0.2557],\n",
       "       [ 0.2557],\n",
       "       [ 0.2294],\n",
       "       [ 0.2557],\n",
       "       [ 0.2557],\n",
       "       [ 0.2557],\n",
       "       [ 0.2557],\n",
       "       [ 0.2557],\n",
       "       [ 0.2557],\n",
       "       [ 0.2557]], dtype=float32)"
      ]
     },
     "execution_count": 133,
     "metadata": {},
     "output_type": "execute_result"
    }
   ],
   "source": [
    "model.pipeline.predict(test_kwargs)"
   ]
  },
  {
   "cell_type": "code",
   "execution_count": 134,
   "metadata": {
    "collapsed": false,
    "scrolled": true
   },
   "outputs": [
    {
     "name": "stderr",
     "output_type": "stream",
     "text": [
      "INFO:2017-10-27 17:21:05,826:kipoi] Initialized data generator. Running batches...\n",
      "INFO:2017-10-27 17:21:05,826:kipoi] Initialized data generator. Running batches...\n",
      "2017-10-27 17:21:05,826 [INFO] Initialized data generator. Running batches...\n",
      "INFO:2017-10-27 17:21:05,937:genomelake] Running landmark extractors..\n",
      "2017-10-27 17:21:05,937 [INFO] Running landmark extractors..\n",
      "INFO:2017-10-27 17:21:05,946:genomelake] Done!\n",
      "2017-10-27 17:21:05,946 [INFO] Done!\n"
     ]
    },
    {
     "data": {
      "text/plain": [
       "array([[ 0.2557],\n",
       "       [ 0.2294]], dtype=float32)"
      ]
     },
     "execution_count": 134,
     "metadata": {},
     "output_type": "execute_result"
    }
   ],
   "source": [
    "next(model.pipeline.predict_generator(test_kwargs, batch_size=2))"
   ]
  }
 ],
 "metadata": {
  "anaconda-cloud": {},
  "kernelspec": {
   "display_name": "Python [default]",
   "language": "python",
   "name": "python3"
  },
  "language_info": {
   "codemirror_mode": {
    "name": "ipython",
    "version": 3
   },
   "file_extension": ".py",
   "mimetype": "text/x-python",
   "name": "python",
   "nbconvert_exporter": "python",
   "pygments_lexer": "ipython3",
   "version": "3.5.2"
  }
 },
 "nbformat": 4,
 "nbformat_minor": 2
}
