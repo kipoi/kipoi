{
 "cells": [
  {
   "cell_type": "markdown",
   "metadata": {},
   "source": [
    "# Kipoi python-sdk"
   ]
  },
  {
   "cell_type": "markdown",
   "metadata": {},
   "source": [
    "## Quick start"
   ]
  },
  {
   "cell_type": "markdown",
   "metadata": {},
   "source": [
    "There are three basic building blocks in kipoi:\n",
    "- **Source** - provides Models and DataLoaders.\n",
    "- **Model** - makes the prediction given the numpy arrays. \n",
    "- **Dataloader** - loads the data from raw files and transforms them into a form that is directly consumable by the Model"
   ]
  },
  {
   "cell_type": "markdown",
   "metadata": {},
   "source": [
    "![img](../docs/img/kipoi-workflow.png)"
   ]
  },
  {
   "cell_type": "markdown",
   "metadata": {},
   "source": [
    "## List of main commands\n",
    "\n",
    "\n",
    "- `kipoi.list_sources()`\n",
    "- `kipoi.get_source()`\n",
    "\n",
    "\n",
    "- `kipoi.list_models()`\n",
    "- `kipoi.list_dataloaders()`\n",
    "\n",
    "\n",
    "- `kipoi.get_model()`\n",
    "- `kipoi.get_dataloader_factory()`\n",
    "\n"
   ]
  },
  {
   "cell_type": "markdown",
   "metadata": {},
   "source": [
    "### Source\n",
    "\n",
    "Available sources are specified in the config file located at: `~/.kipoi/config.yaml`. Here is an example config file:\n",
    "\n",
    "```yaml\n",
    "model_sources:\n",
    "    kipoi: # default\n",
    "        type: git-lfs # git repository with large file storage (git-lfs)\n",
    "        remote_url: git@github.com:kipoi/models.git # git remote\n",
    "        local_path: ~/.kipoi/models/ # local storage path\n",
    "    gl:\n",
    "        type: git-lfs  # custom model\n",
    "        remote_url: https://i12g-gagneurweb.informatik.tu-muenchen.de/gitlab/gagneurlab/model-zoo.git\n",
    "        local_path: /s/project/model-zoo\n",
    "```\n",
    "\n",
    "There are three different model sources possible: \n",
    "- **`git-lfs`** - git repository with source files tracked normally by git and all the binary files like model weights (located in `files*` directories) are tracked by [git-lfs](https://git-lfs.github.com). \n",
    "  - Requires `git-lfs` to be installed.\n",
    "- **`git`** - all the files including weights (not recommended)\n",
    "- **`local`** - local directory containing models defined in subdirectories\n",
    "\n",
    "For **`git-lfs`** source type, larger files tracked by `git-lfs` will be downloaded into the specified directory `local_path` only after the model has been requested (when invoking `kipoi.get_model()`).\n",
    "\n",
    "#### Note\n",
    "\n",
    "A particular model/dataloader is defined by its source (say `kipoi` or `my_git_models`) and the relative path of the desired model directory from the model source root (say `rbp/`).\n",
    "\n",
    "A directory is considered a model if it contains a `model.yaml` file."
   ]
  },
  {
   "cell_type": "code",
   "execution_count": 2,
   "metadata": {},
   "outputs": [],
   "source": [
    "import kipoi"
   ]
  },
  {
   "cell_type": "code",
   "execution_count": 3,
   "metadata": {
    "collapsed": true
   },
   "outputs": [],
   "source": [
    "import warnings\n",
    "warnings.filterwarnings('ignore')"
   ]
  },
  {
   "cell_type": "code",
   "execution_count": 4,
   "metadata": {},
   "outputs": [
    {
     "data": {
      "text/html": [
       "<div>\n",
       "<style scoped>\n",
       "    .dataframe tbody tr th:only-of-type {\n",
       "        vertical-align: middle;\n",
       "    }\n",
       "\n",
       "    .dataframe tbody tr th {\n",
       "        vertical-align: top;\n",
       "    }\n",
       "\n",
       "    .dataframe thead th {\n",
       "        text-align: right;\n",
       "    }\n",
       "</style>\n",
       "<table border=\"1\" class=\"dataframe\">\n",
       "  <thead>\n",
       "    <tr style=\"text-align: right;\">\n",
       "      <th></th>\n",
       "      <th>source</th>\n",
       "      <th>type</th>\n",
       "      <th>location</th>\n",
       "      <th>local_size</th>\n",
       "      <th>n_models</th>\n",
       "      <th>n_dataloaders</th>\n",
       "    </tr>\n",
       "  </thead>\n",
       "  <tbody>\n",
       "    <tr>\n",
       "      <th>0</th>\n",
       "      <td>kipoi</td>\n",
       "      <td>git-lfs</td>\n",
       "      <td>/data/ouga/home/ag_ga...</td>\n",
       "      <td>11G</td>\n",
       "      <td>173</td>\n",
       "      <td>173</td>\n",
       "    </tr>\n",
       "    <tr>\n",
       "      <th>1</th>\n",
       "      <td>gl</td>\n",
       "      <td>git</td>\n",
       "      <td>/s/project/model-zoo/</td>\n",
       "      <td>167M</td>\n",
       "      <td>1</td>\n",
       "      <td>1</td>\n",
       "    </tr>\n",
       "  </tbody>\n",
       "</table>\n",
       "</div>"
      ],
      "text/plain": [
       "  source     type                  location local_size  n_models  n_dataloaders\n",
       "0  kipoi  git-lfs  /data/ouga/home/ag_ga...        11G       173            173\n",
       "1     gl      git     /s/project/model-zoo/       167M         1              1"
      ]
     },
     "execution_count": 4,
     "metadata": {},
     "output_type": "execute_result"
    }
   ],
   "source": [
    "kipoi.list_sources()"
   ]
  },
  {
   "cell_type": "code",
   "execution_count": 5,
   "metadata": {},
   "outputs": [],
   "source": [
    "s = kipoi.get_source(\"kipoi\")"
   ]
  },
  {
   "cell_type": "code",
   "execution_count": 6,
   "metadata": {},
   "outputs": [
    {
     "data": {
      "text/plain": [
       "GitLFSSource(remote_url='git@github.com:kipoi/models.git', local_path='/data/ouga/home/ag_gagneur/avsec/.kipoi/models/')"
      ]
     },
     "execution_count": 6,
     "metadata": {},
     "output_type": "execute_result"
    }
   ],
   "source": [
    "s"
   ]
  },
  {
   "cell_type": "code",
   "execution_count": 7,
   "metadata": {},
   "outputs": [
    {
     "data": {
      "text/html": [
       "<div>\n",
       "<style scoped>\n",
       "    .dataframe tbody tr th:only-of-type {\n",
       "        vertical-align: middle;\n",
       "    }\n",
       "\n",
       "    .dataframe tbody tr th {\n",
       "        vertical-align: top;\n",
       "    }\n",
       "\n",
       "    .dataframe thead th {\n",
       "        text-align: right;\n",
       "    }\n",
       "</style>\n",
       "<table border=\"1\" class=\"dataframe\">\n",
       "  <thead>\n",
       "    <tr style=\"text-align: right;\">\n",
       "      <th></th>\n",
       "      <th>source</th>\n",
       "      <th>model</th>\n",
       "      <th>version</th>\n",
       "      <th>authors</th>\n",
       "      <th>doc</th>\n",
       "      <th>type</th>\n",
       "      <th>inputs</th>\n",
       "      <th>targets</th>\n",
       "      <th>license</th>\n",
       "      <th>cite_as</th>\n",
       "      <th>trained_on</th>\n",
       "      <th>training_procedure</th>\n",
       "      <th>tags</th>\n",
       "    </tr>\n",
       "  </thead>\n",
       "  <tbody>\n",
       "    <tr>\n",
       "      <th>0</th>\n",
       "      <td>kipoi</td>\n",
       "      <td>MaxEntScan</td>\n",
       "      <td>0.1</td>\n",
       "      <td>[Author(name='Gene Ye...</td>\n",
       "      <td>MaxEnt Splicing Model...</td>\n",
       "      <td>custom</td>\n",
       "      <td>seq</td>\n",
       "      <td>psi</td>\n",
       "      <td>MIT</td>\n",
       "      <td>https://doi.org/10.10...</td>\n",
       "      <td>Described in http://o...</td>\n",
       "      <td>Described in http://o...</td>\n",
       "      <td>[]</td>\n",
       "    </tr>\n",
       "    <tr>\n",
       "      <th>1</th>\n",
       "      <td>kipoi</td>\n",
       "      <td>extended_coda</td>\n",
       "      <td>0.1</td>\n",
       "      <td>[Author(name='Johnny ...</td>\n",
       "      <td>Single bp resolution ...</td>\n",
       "      <td>keras</td>\n",
       "      <td>[H3K27AC_subsampled]</td>\n",
       "      <td>[H3K27ac]</td>\n",
       "      <td>MIT</td>\n",
       "      <td>https://doi.org/10.10...</td>\n",
       "      <td>Described in https://...</td>\n",
       "      <td>Described in https://...</td>\n",
       "      <td>[]</td>\n",
       "    </tr>\n",
       "    <tr>\n",
       "      <th>2</th>\n",
       "      <td>kipoi</td>\n",
       "      <td>DeepSEA</td>\n",
       "      <td>0.1</td>\n",
       "      <td>[Author(name='Lara Ur...</td>\n",
       "      <td>This CNN is based on ...</td>\n",
       "      <td>keras</td>\n",
       "      <td>seq</td>\n",
       "      <td>TFBS_DHS_probs</td>\n",
       "      <td>MIT</td>\n",
       "      <td>https://doi.org/10.10...</td>\n",
       "      <td>ENCODE and Roadmap Ep...</td>\n",
       "      <td>https://www.nature.co...</td>\n",
       "      <td>[]</td>\n",
       "    </tr>\n",
       "    <tr>\n",
       "      <th>...</th>\n",
       "      <td>...</td>\n",
       "      <td>...</td>\n",
       "      <td>...</td>\n",
       "      <td>...</td>\n",
       "      <td>...</td>\n",
       "      <td>...</td>\n",
       "      <td>...</td>\n",
       "      <td>...</td>\n",
       "      <td>...</td>\n",
       "      <td>...</td>\n",
       "      <td>...</td>\n",
       "      <td>...</td>\n",
       "      <td>...</td>\n",
       "    </tr>\n",
       "    <tr>\n",
       "      <th>172</th>\n",
       "      <td>kipoi</td>\n",
       "      <td>rbp_eclip/HNRNPK</td>\n",
       "      <td>0.1</td>\n",
       "      <td>[Author(name='Ziga Av...</td>\n",
       "      <td>'RBP binding model fr...</td>\n",
       "      <td>keras</td>\n",
       "      <td>[seq, dist_tss, dist_...</td>\n",
       "      <td>None</td>\n",
       "      <td>MIT</td>\n",
       "      <td>https://doi.org/10.10...</td>\n",
       "      <td>RBP occupancy peaks m...</td>\n",
       "      <td>Single task training ...</td>\n",
       "      <td>[]</td>\n",
       "    </tr>\n",
       "    <tr>\n",
       "      <th>173</th>\n",
       "      <td>kipoi</td>\n",
       "      <td>rbp_eclip/FXR2</td>\n",
       "      <td>0.1</td>\n",
       "      <td>[Author(name='Ziga Av...</td>\n",
       "      <td>'RBP binding model fr...</td>\n",
       "      <td>keras</td>\n",
       "      <td>[seq, dist_tss, dist_...</td>\n",
       "      <td>None</td>\n",
       "      <td>MIT</td>\n",
       "      <td>https://doi.org/10.10...</td>\n",
       "      <td>RBP occupancy peaks m...</td>\n",
       "      <td>Single task training ...</td>\n",
       "      <td>[]</td>\n",
       "    </tr>\n",
       "    <tr>\n",
       "      <th>174</th>\n",
       "      <td>kipoi</td>\n",
       "      <td>rbp_eclip/GRSF1</td>\n",
       "      <td>0.1</td>\n",
       "      <td>[Author(name='Ziga Av...</td>\n",
       "      <td>'RBP binding model fr...</td>\n",
       "      <td>keras</td>\n",
       "      <td>[seq, dist_tss, dist_...</td>\n",
       "      <td>None</td>\n",
       "      <td>MIT</td>\n",
       "      <td>https://doi.org/10.10...</td>\n",
       "      <td>RBP occupancy peaks m...</td>\n",
       "      <td>Single task training ...</td>\n",
       "      <td>[]</td>\n",
       "    </tr>\n",
       "  </tbody>\n",
       "</table>\n",
       "<p>173 rows × 13 columns</p>\n",
       "</div>"
      ],
      "text/plain": [
       "    source             model version                   authors                       doc    type  \\\n",
       "0    kipoi        MaxEntScan     0.1  [Author(name='Gene Ye...  MaxEnt Splicing Model...  custom   \n",
       "1    kipoi     extended_coda     0.1  [Author(name='Johnny ...  Single bp resolution ...   keras   \n",
       "2    kipoi           DeepSEA     0.1  [Author(name='Lara Ur...  This CNN is based on ...   keras   \n",
       "..     ...               ...     ...                       ...                       ...     ...   \n",
       "172  kipoi  rbp_eclip/HNRNPK     0.1  [Author(name='Ziga Av...  'RBP binding model fr...   keras   \n",
       "173  kipoi    rbp_eclip/FXR2     0.1  [Author(name='Ziga Av...  'RBP binding model fr...   keras   \n",
       "174  kipoi   rbp_eclip/GRSF1     0.1  [Author(name='Ziga Av...  'RBP binding model fr...   keras   \n",
       "\n",
       "                       inputs         targets license                   cite_as  \\\n",
       "0                         seq             psi     MIT  https://doi.org/10.10...   \n",
       "1        [H3K27AC_subsampled]       [H3K27ac]     MIT  https://doi.org/10.10...   \n",
       "2                         seq  TFBS_DHS_probs     MIT  https://doi.org/10.10...   \n",
       "..                        ...             ...     ...                       ...   \n",
       "172  [seq, dist_tss, dist_...            None     MIT  https://doi.org/10.10...   \n",
       "173  [seq, dist_tss, dist_...            None     MIT  https://doi.org/10.10...   \n",
       "174  [seq, dist_tss, dist_...            None     MIT  https://doi.org/10.10...   \n",
       "\n",
       "                   trained_on        training_procedure tags  \n",
       "0    Described in http://o...  Described in http://o...   []  \n",
       "1    Described in https://...  Described in https://...   []  \n",
       "2    ENCODE and Roadmap Ep...  https://www.nature.co...   []  \n",
       "..                        ...                       ...  ...  \n",
       "172  RBP occupancy peaks m...  Single task training ...   []  \n",
       "173  RBP occupancy peaks m...  Single task training ...   []  \n",
       "174  RBP occupancy peaks m...  Single task training ...   []  \n",
       "\n",
       "[173 rows x 13 columns]"
      ]
     },
     "execution_count": 7,
     "metadata": {},
     "output_type": "execute_result"
    }
   ],
   "source": [
    "kipoi.list_models()"
   ]
  },
  {
   "cell_type": "markdown",
   "metadata": {},
   "source": [
    "## Model\n",
    "\n",
    "Let's choose to use the HAL model from kipoi"
   ]
  },
  {
   "cell_type": "code",
   "execution_count": 8,
   "metadata": {},
   "outputs": [
    {
     "name": "stderr",
     "output_type": "stream",
     "text": [
      "Using TensorFlow backend.\n",
      "2018-01-25 16:23:06,774 [INFO] successfully loaded the dataloader from /data/ouga/home/ag_gagneur/avsec/.kipoi/models/rbp_eclip/UPF1/dataloader.py::SeqDistDataset\n",
      "2018-01-25 16:23:08,836 [INFO] successfully loaded the model from model_files/model.h5\n",
      "2018-01-25 16:23:08,836 [INFO] dataloader.output_schema is compatible with model.schema\n"
     ]
    }
   ],
   "source": [
    "# Note. Install all the dependencies for that model using\n",
    "# kipoi install \n",
    "model = kipoi.get_model(\"rbp_eclip/UPF1\")"
   ]
  },
  {
   "cell_type": "markdown",
   "metadata": {},
   "source": [
    "### Available fields:\n",
    "\n",
    "#### Model\n",
    "\n",
    "- type\n",
    "- args\n",
    "- info\n",
    "  - authors\n",
    "  - name\n",
    "  - version\n",
    "  - tags\n",
    "  - doc\n",
    "- schema\n",
    "  - inputs\n",
    "  - targets\n",
    "- default_dataloader - loaded dataloader class\n",
    "\n",
    "\n",
    "- predict_on_batch()\n",
    "- source\n",
    "- source_dir\n",
    "- pipeline\n",
    "  - predict()\n",
    "  - predict_example()\n",
    "  - predict_generator()\n",
    "  \n",
    "#### Dataloader\n",
    "\n",
    "- type\n",
    "- defined_as\n",
    "- args\n",
    "- info (same as for the model)\n",
    "- output_schema\n",
    "  - inputs\n",
    "  - targets\n",
    "  - metadata\n",
    "\n",
    "\n",
    "- source\n",
    "- source_dir\n",
    "- example_kwargs\n",
    "- init_example()\n",
    "- batch_iter()\n",
    "- batch_train_iter()\n",
    "- batch_predict_iter()\n",
    "- load_all()"
   ]
  },
  {
   "cell_type": "code",
   "execution_count": 9,
   "metadata": {},
   "outputs": [
    {
     "data": {
      "text/plain": [
       "<kipoi.model.KerasModel at 0x7f7bce92fdd8>"
      ]
     },
     "execution_count": 9,
     "metadata": {},
     "output_type": "execute_result"
    }
   ],
   "source": [
    "model"
   ]
  },
  {
   "cell_type": "code",
   "execution_count": 10,
   "metadata": {},
   "outputs": [
    {
     "data": {
      "text/plain": [
       "'keras'"
      ]
     },
     "execution_count": 10,
     "metadata": {},
     "output_type": "execute_result"
    }
   ],
   "source": [
    "model.type"
   ]
  },
  {
   "cell_type": "markdown",
   "metadata": {},
   "source": [
    "### Info"
   ]
  },
  {
   "cell_type": "code",
   "execution_count": 11,
   "metadata": {},
   "outputs": [
    {
     "data": {
      "text/plain": [
       "ModelInfo(authors=[Author(name='Ziga Avsec', github='avsecz', email=None)], doc='\\'RBP binding model from Avsec et al: \"Modeling positional effects of regulatory sequences with spline transformations increases prediction accuracy of deep neural networks\". \\'\\n', name=None, version='0.1', license='MIT', tags=[], cite_as='https://doi.org/10.1093/bioinformatics/btx727', trained_on='RBP occupancy peaks measured by eCLIP-seq (Van Nostrand et al., 2016 - https://doi.org/10.1038/nmeth.3810), https://github.com/gagneurlab/Manuscript_Avsec_Bioinformatics_2017\\n', training_procedure='Single task training with ADAM')"
      ]
     },
     "execution_count": 11,
     "metadata": {},
     "output_type": "execute_result"
    }
   ],
   "source": [
    "model.info"
   ]
  },
  {
   "cell_type": "code",
   "execution_count": 12,
   "metadata": {},
   "outputs": [
    {
     "data": {
      "text/plain": [
       "'0.1'"
      ]
     },
     "execution_count": 12,
     "metadata": {},
     "output_type": "execute_result"
    }
   ],
   "source": [
    "model.info.version"
   ]
  },
  {
   "cell_type": "markdown",
   "metadata": {},
   "source": [
    "### Schema"
   ]
  },
  {
   "cell_type": "code",
   "execution_count": 13,
   "metadata": {},
   "outputs": [
    {
     "data": {
      "text/plain": [
       "OrderedDict([('seq',\n",
       "              ArraySchema(shape=(101, 4), doc='One-hot encoded RNA sequence', name='seq', special_type=<ArraySpecialType.DNASeq: 'DNASeq'>, associated_metadata=[], column_labels=None)),\n",
       "             ('dist_tss',\n",
       "              ArraySchema(shape=(1, 10), doc='Distance the nearest TSS site transformed with B-splines', name='dist_tss', special_type=None, associated_metadata=[], column_labels=None)),\n",
       "             ('dist_polya',\n",
       "              ArraySchema(shape=(1, 10), doc='Distance the nearest Poly-A site transformed with B-splines', name='dist_polya', special_type=None, associated_metadata=[], column_labels=None)),\n",
       "             ('dist_exon_intron',\n",
       "              ArraySchema(shape=(1, 10), doc='Distance the nearest exon_intron (splice donor) site transformed with B-splines', name='dist_exon_intron', special_type=None, associated_metadata=[], column_labels=None)),\n",
       "             ('dist_intron_exon',\n",
       "              ArraySchema(shape=(1, 10), doc='Distance the nearest intron_exon (splice acceptor) site transformed with B-splines', name='dist_intron_exon', special_type=None, associated_metadata=[], column_labels=None)),\n",
       "             ('dist_start_codon',\n",
       "              ArraySchema(shape=(1, 10), doc='Distance the nearest start codon transformed with B-splines', name='dist_start_codon', special_type=None, associated_metadata=[], column_labels=None)),\n",
       "             ('dist_stop_codon',\n",
       "              ArraySchema(shape=(1, 10), doc='Distance the nearest stop codon transformed with B-splines', name='dist_stop_codon', special_type=None, associated_metadata=[], column_labels=None)),\n",
       "             ('dist_gene_start',\n",
       "              ArraySchema(shape=(1, 10), doc='Distance the nearest gene start transformed with B-splines', name='dist_gene_start', special_type=None, associated_metadata=[], column_labels=None)),\n",
       "             ('dist_gene_end',\n",
       "              ArraySchema(shape=(1, 10), doc='Distance the nearest gene end transformed with B-splines', name='dist_gene_end', special_type=None, associated_metadata=[], column_labels=None))])"
      ]
     },
     "execution_count": 13,
     "metadata": {},
     "output_type": "execute_result"
    }
   ],
   "source": [
    "model.schema.inputs"
   ]
  },
  {
   "cell_type": "code",
   "execution_count": 14,
   "metadata": {},
   "outputs": [
    {
     "data": {
      "text/plain": [
       "ArraySchema(shape=(1,), doc='Predicted binding strength', name=None, special_type=None, associated_metadata=[], column_labels=None)"
      ]
     },
     "execution_count": 14,
     "metadata": {},
     "output_type": "execute_result"
    }
   ],
   "source": [
    "model.schema.targets"
   ]
  },
  {
   "cell_type": "markdown",
   "metadata": {},
   "source": [
    "### Default dataloader\n",
    "\n",
    "Model already has the default dataloder present. To use it, specify"
   ]
  },
  {
   "cell_type": "code",
   "execution_count": 15,
   "metadata": {},
   "outputs": [
    {
     "data": {
      "text/plain": [
       "'/data/ouga/home/ag_gagneur/avsec/.kipoi/models/rbp_eclip/UPF1'"
      ]
     },
     "execution_count": 15,
     "metadata": {},
     "output_type": "execute_result"
    }
   ],
   "source": [
    "model.source_dir"
   ]
  },
  {
   "cell_type": "code",
   "execution_count": 16,
   "metadata": {},
   "outputs": [
    {
     "data": {
      "text/plain": [
       "dataloader.SeqDistDataset"
      ]
     },
     "execution_count": 16,
     "metadata": {},
     "output_type": "execute_result"
    }
   ],
   "source": [
    "model.default_dataloader"
   ]
  },
  {
   "cell_type": "code",
   "execution_count": 17,
   "metadata": {},
   "outputs": [
    {
     "data": {
      "text/plain": [
       "Info(authors=[Author(name='Ziga Avsec', github='avsecz', email=None)], doc='RBP binding prediction for UPF1 protein', name=None, version='0.1', license='MIT', tags=[])"
      ]
     },
     "execution_count": 17,
     "metadata": {},
     "output_type": "execute_result"
    }
   ],
   "source": [
    "model.default_dataloader.info"
   ]
  },
  {
   "cell_type": "markdown",
   "metadata": {},
   "source": [
    "### Predict_on_batch"
   ]
  },
  {
   "cell_type": "code",
   "execution_count": 18,
   "metadata": {},
   "outputs": [
    {
     "data": {
      "text/plain": [
       "<bound method KerasModel.predict_on_batch of <kipoi.model.KerasModel object at 0x7f7bce92fdd8>>"
      ]
     },
     "execution_count": 18,
     "metadata": {},
     "output_type": "execute_result"
    }
   ],
   "source": [
    "model.predict_on_batch"
   ]
  },
  {
   "cell_type": "markdown",
   "metadata": {},
   "source": [
    "### Pipeline\n",
    "\n",
    "Pipeline object will take the dataloader arguments and run the whole pipeline:\n",
    "\n",
    "```\n",
    "dataloader arguments --Dataloader-->  numpy arrays --Model--> prediction\n",
    "```"
   ]
  },
  {
   "cell_type": "code",
   "execution_count": 19,
   "metadata": {},
   "outputs": [
    {
     "data": {
      "text/plain": [
       "\u001b[0;31mSignature:\u001b[0m \u001b[0mmodel\u001b[0m\u001b[0;34m.\u001b[0m\u001b[0mpipeline\u001b[0m\u001b[0;34m.\u001b[0m\u001b[0mpredict\u001b[0m\u001b[0;34m(\u001b[0m\u001b[0mdataloader_kwargs\u001b[0m\u001b[0;34m,\u001b[0m \u001b[0mbatch_size\u001b[0m\u001b[0;34m=\u001b[0m\u001b[0;36m32\u001b[0m\u001b[0;34m)\u001b[0m\u001b[0;34m\u001b[0m\u001b[0m\n",
       "\u001b[0;31mDocstring:\u001b[0m\n",
       "# Arguments\n",
       "    preproc_kwargs: Keyword arguments passed to the pre-processor\n",
       "\n",
       ":return: Predict the whole array\n",
       "\u001b[0;31mFile:\u001b[0m      /data/nasif12/home_if12/avsec/projects-work/kipoi/kipoi/pipeline.py\n",
       "\u001b[0;31mType:\u001b[0m      method\n"
      ]
     },
     "metadata": {},
     "output_type": "display_data"
    }
   ],
   "source": [
    "?model.pipeline.predict"
   ]
  },
  {
   "cell_type": "code",
   "execution_count": 20,
   "metadata": {},
   "outputs": [
    {
     "data": {
      "text/plain": [
       "\u001b[0;31mSignature:\u001b[0m \u001b[0mmodel\u001b[0m\u001b[0;34m.\u001b[0m\u001b[0mpipeline\u001b[0m\u001b[0;34m.\u001b[0m\u001b[0mpredict_generator\u001b[0m\u001b[0;34m(\u001b[0m\u001b[0mdataloader_kwargs\u001b[0m\u001b[0;34m,\u001b[0m \u001b[0mbatch_size\u001b[0m\u001b[0;34m=\u001b[0m\u001b[0;36m32\u001b[0m\u001b[0;34m)\u001b[0m\u001b[0;34m\u001b[0m\u001b[0m\n",
       "\u001b[0;31mDocstring:\u001b[0m\n",
       "Prediction generator\n",
       "\n",
       "# Arguments\n",
       "    preproc_kwargs: Keyword arguments passed to the pre-processor\n",
       "\n",
       "# Yields\n",
       "    model batch prediction\n",
       "\u001b[0;31mFile:\u001b[0m      /data/nasif12/home_if12/avsec/projects-work/kipoi/kipoi/pipeline.py\n",
       "\u001b[0;31mType:\u001b[0m      method\n"
      ]
     },
     "metadata": {},
     "output_type": "display_data"
    }
   ],
   "source": [
    "?model.pipeline.predict_generator"
   ]
  },
  {
   "cell_type": "markdown",
   "metadata": {},
   "source": [
    "### Others"
   ]
  },
  {
   "cell_type": "code",
   "execution_count": 21,
   "metadata": {},
   "outputs": [
    {
     "data": {
      "text/plain": [
       "GitLFSSource(remote_url='git@github.com:kipoi/models.git', local_path='/data/ouga/home/ag_gagneur/avsec/.kipoi/models/')"
      ]
     },
     "execution_count": 21,
     "metadata": {},
     "output_type": "execute_result"
    }
   ],
   "source": [
    "# Model source\n",
    "model.source"
   ]
  },
  {
   "cell_type": "code",
   "execution_count": 22,
   "metadata": {},
   "outputs": [
    {
     "data": {
      "text/plain": [
       "'/data/ouga/home/ag_gagneur/avsec/.kipoi/models/rbp_eclip/UPF1'"
      ]
     },
     "execution_count": 22,
     "metadata": {},
     "output_type": "execute_result"
    }
   ],
   "source": [
    "# model location directory\n",
    "model.source_dir"
   ]
  },
  {
   "cell_type": "markdown",
   "metadata": {},
   "source": [
    "## DataLoader"
   ]
  },
  {
   "cell_type": "code",
   "execution_count": 23,
   "metadata": {
    "collapsed": false
   },
   "outputs": [
    {
     "name": "stderr",
     "output_type": "stream",
     "text": [
      "2018-01-25 16:23:26,782 [INFO] git-lfs pull -I rbp_eclip/UPF1/**\n",
      "2018-01-25 16:23:27,028 [INFO] dataloader rbp_eclip/UPF1 loaded\n",
      "2018-01-25 16:23:27,050 [INFO] successfully loaded the dataloader from /data/ouga/home/ag_gagneur/avsec/.kipoi/models/rbp_eclip/UPF1/dataloader.py::SeqDistDataset\n"
     ]
    }
   ],
   "source": [
    "DataLoader = kipoi.get_dataloader_factory(\"rbp_eclip/UPF1\")"
   ]
  },
  {
   "cell_type": "code",
   "execution_count": 24,
   "metadata": {},
   "outputs": [
    {
     "data": {
      "text/plain": [
       "\u001b[0;31mInit signature:\u001b[0m \u001b[0mDataLoader\u001b[0m\u001b[0;34m(\u001b[0m\u001b[0mintervals_file\u001b[0m\u001b[0;34m,\u001b[0m \u001b[0mfasta_file\u001b[0m\u001b[0;34m,\u001b[0m \u001b[0mgtf_file\u001b[0m\u001b[0;34m,\u001b[0m \u001b[0mtarget_file\u001b[0m\u001b[0;34m=\u001b[0m\u001b[0;32mNone\u001b[0m\u001b[0;34m,\u001b[0m \u001b[0muse_linecache\u001b[0m\u001b[0;34m=\u001b[0m\u001b[0;32mFalse\u001b[0m\u001b[0;34m)\u001b[0m\u001b[0;34m\u001b[0m\u001b[0m\n",
       "\u001b[0;31mDocstring:\u001b[0m     \n",
       "Args:\n",
       "    intervals_file: file path; tsv file\n",
       "        Assumes bed-like `chrom start end id score strand` format.\n",
       "    fasta_file: file path; Genome sequence\n",
       "    gtf_file: file path; Genome annotation GTF file.\n",
       "    preproc_transformer: file path; tranformer used for pre-processing.\n",
       "    target_file: file path; path to the targets\n",
       "    batch_size: int\n",
       "\u001b[0;31mType:\u001b[0m           type\n"
      ]
     },
     "metadata": {},
     "output_type": "display_data"
    }
   ],
   "source": [
    "?DataLoader"
   ]
  },
  {
   "cell_type": "markdown",
   "metadata": {},
   "source": [
    "## Run dataloader on some examples"
   ]
  },
  {
   "cell_type": "code",
   "execution_count": 25,
   "metadata": {
    "collapsed": false
   },
   "outputs": [
    {
     "data": {
      "text/plain": [
       "{'fasta_file': 'example_files/hg38_chr22.fa',\n",
       " 'gtf_file': 'example_files/gencode.v24.annotation_chr22.gtf',\n",
       " 'intervals_file': 'example_files/intervals.bed',\n",
       " 'target_file': 'example_files/targets.tsv'}"
      ]
     },
     "execution_count": 25,
     "metadata": {},
     "output_type": "execute_result"
    }
   ],
   "source": [
    "# each dataloader already provides the example files\n",
    "DataLoader.example_kwargs"
   ]
  },
  {
   "cell_type": "code",
   "execution_count": 26,
   "metadata": {},
   "outputs": [],
   "source": [
    "import os"
   ]
  },
  {
   "cell_type": "code",
   "execution_count": 27,
   "metadata": {},
   "outputs": [],
   "source": [
    "# cd into the source directory \n",
    "os.chdir(DataLoader.source_dir)"
   ]
  },
  {
   "cell_type": "code",
   "execution_count": 28,
   "metadata": {},
   "outputs": [
    {
     "name": "stdout",
     "output_type": "stream",
     "text": [
      ".\n",
      "├── custom_keras_objects.py -> ../template/custom_keras_objects.py\n",
      "├── dataloader_files\n",
      "│   └── position_transformer.pkl\n",
      "├── dataloader.py -> ../template/dataloader.py\n",
      "├── dataloader.yaml -> ../template/dataloader.yaml\n",
      "├── example_files -> ../template/example_files\n",
      "├── model_files\n",
      "│   └── model.h5\n",
      "├── model.yaml -> ../template/model.yaml\n",
      "└── __pycache__\n",
      "    ├── custom_keras_objects.cpython-35.pyc\n",
      "    └── dataloader.cpython-35.pyc\n",
      "\n",
      "4 directories, 8 files\n"
     ]
    }
   ],
   "source": [
    "!tree"
   ]
  },
  {
   "cell_type": "code",
   "execution_count": 29,
   "metadata": {
    "collapsed": false
   },
   "outputs": [
    {
     "name": "stderr",
     "output_type": "stream",
     "text": [
      "2018-01-25 16:23:31,080 [INFO] Extracted GTF attributes: ['gene_id', 'gene_type', 'gene_status', 'gene_name', 'level', 'transcript_id', 'transcript_type', 'transcript_status', 'transcript_name', 'tag', 'transcript_support_level', 'exon_number', 'exon_id', 'havana_gene', 'ont', 'havana_transcript', 'protein_id', 'ccdsid']\n",
      "INFO:2018-01-25 16:23:31,173:genomelake] Running landmark extractors..\n",
      "2018-01-25 16:23:31,173 [INFO] Running landmark extractors..\n",
      "INFO:2018-01-25 16:23:31,407:genomelake] Done!\n",
      "2018-01-25 16:23:31,407 [INFO] Done!\n"
     ]
    }
   ],
   "source": [
    "dl = DataLoader(**DataLoader.example_kwargs)\n",
    "# could be also done with DataLoader.init_example()"
   ]
  },
  {
   "cell_type": "code",
   "execution_count": 30,
   "metadata": {
    "collapsed": false,
    "scrolled": true
   },
   "outputs": [
    {
     "data": {
      "text/plain": [
       "dict_keys(['metadata', 'inputs', 'targets'])"
      ]
     },
     "execution_count": 30,
     "metadata": {},
     "output_type": "execute_result"
    }
   ],
   "source": [
    "# This particular dataloader is of type Dataset\n",
    "# i.e. it implements the __getitem__ method:\n",
    "dl[0].keys()"
   ]
  },
  {
   "cell_type": "code",
   "execution_count": 31,
   "metadata": {},
   "outputs": [
    {
     "data": {
      "text/plain": [
       "dict_keys(['dist_start_codon', 'dist_intron_exon', 'dist_polya', 'dist_tss', 'dist_stop_codon', 'dist_gene_end', 'dist_gene_start', 'seq', 'dist_exon_intron'])"
      ]
     },
     "execution_count": 31,
     "metadata": {},
     "output_type": "execute_result"
    }
   ],
   "source": [
    "dl[0][\"inputs\"].keys()"
   ]
  },
  {
   "cell_type": "code",
   "execution_count": 32,
   "metadata": {},
   "outputs": [
    {
     "data": {
      "text/plain": [
       "array([[ 0.25,  0.25,  0.25,  0.25],\n",
       "       [ 0.25,  0.25,  0.25,  0.25],\n",
       "       [ 0.25,  0.25,  0.25,  0.25],\n",
       "       [ 0.25,  0.25,  0.25,  0.25],\n",
       "       [ 0.25,  0.25,  0.25,  0.25]], dtype=float32)"
      ]
     },
     "execution_count": 32,
     "metadata": {},
     "output_type": "execute_result"
    }
   ],
   "source": [
    "dl[0][\"inputs\"][\"seq\"][:5]"
   ]
  },
  {
   "cell_type": "code",
   "execution_count": 33,
   "metadata": {
    "collapsed": false
   },
   "outputs": [
    {
     "data": {
      "text/plain": [
       "14"
      ]
     },
     "execution_count": 33,
     "metadata": {},
     "output_type": "execute_result"
    }
   ],
   "source": [
    "len(dl)"
   ]
  },
  {
   "cell_type": "markdown",
   "metadata": {},
   "source": [
    "### Get the whole dataset"
   ]
  },
  {
   "cell_type": "code",
   "execution_count": 34,
   "metadata": {},
   "outputs": [
    {
     "name": "stderr",
     "output_type": "stream",
     "text": [
      "100%|██████████| 1/1 [00:00<00:00,  6.62it/s]\n"
     ]
    }
   ],
   "source": [
    "whole_data = dl.load_all()"
   ]
  },
  {
   "cell_type": "code",
   "execution_count": 35,
   "metadata": {},
   "outputs": [
    {
     "data": {
      "text/plain": [
       "dict_keys(['metadata', 'inputs', 'targets'])"
      ]
     },
     "execution_count": 35,
     "metadata": {},
     "output_type": "execute_result"
    }
   ],
   "source": [
    "whole_data.keys()"
   ]
  },
  {
   "cell_type": "code",
   "execution_count": 36,
   "metadata": {},
   "outputs": [
    {
     "data": {
      "text/plain": [
       "(14, 101, 4)"
      ]
     },
     "execution_count": 36,
     "metadata": {},
     "output_type": "execute_result"
    }
   ],
   "source": [
    "whole_data[\"inputs\"][\"seq\"].shape"
   ]
  },
  {
   "cell_type": "markdown",
   "metadata": {},
   "source": [
    "### Get the iterator to run predictions"
   ]
  },
  {
   "cell_type": "code",
   "execution_count": 37,
   "metadata": {},
   "outputs": [],
   "source": [
    "it = dl.batch_iter(batch_size=1, shuffle=False, num_workers=0, drop_last=False)"
   ]
  },
  {
   "cell_type": "code",
   "execution_count": 38,
   "metadata": {},
   "outputs": [
    {
     "data": {
      "text/plain": [
       "(1, 101, 4)"
      ]
     },
     "execution_count": 38,
     "metadata": {},
     "output_type": "execute_result"
    }
   ],
   "source": [
    "next(it)[\"inputs\"][\"seq\"].shape"
   ]
  },
  {
   "cell_type": "code",
   "execution_count": 39,
   "metadata": {},
   "outputs": [
    {
     "data": {
      "text/plain": [
       "array([[ 0.0005]], dtype=float32)"
      ]
     },
     "execution_count": 39,
     "metadata": {},
     "output_type": "execute_result"
    }
   ],
   "source": [
    "model.predict_on_batch(next(it)[\"inputs\"])"
   ]
  },
  {
   "cell_type": "markdown",
   "metadata": {},
   "source": [
    "### Train the Keras model\n",
    "\n",
    "Keras model is stored under the `.model` attribute."
   ]
  },
  {
   "cell_type": "code",
   "execution_count": 40,
   "metadata": {},
   "outputs": [],
   "source": [
    "model.model.compile(\"adam\", \"binary_crossentropy\")"
   ]
  },
  {
   "cell_type": "code",
   "execution_count": 42,
   "metadata": {},
   "outputs": [],
   "source": [
    "train_it = dl.batch_train_iter(batch_size=2)"
   ]
  },
  {
   "cell_type": "code",
   "execution_count": 51,
   "metadata": {},
   "outputs": [],
   "source": [
    "# model.model.summary()"
   ]
  },
  {
   "cell_type": "code",
   "execution_count": 44,
   "metadata": {},
   "outputs": [
    {
     "name": "stdout",
     "output_type": "stream",
     "text": [
      "Epoch 1/1\n",
      "3/3 [==============================] - 1s 172ms/step - loss: 1.0374\n"
     ]
    },
    {
     "data": {
      "text/plain": [
       "<keras.callbacks.History at 0x7f7b91b38f98>"
      ]
     },
     "execution_count": 44,
     "metadata": {},
     "output_type": "execute_result"
    }
   ],
   "source": [
    "model.model.fit_generator(train_it, steps_per_epoch=3, epochs=1)"
   ]
  },
  {
   "cell_type": "markdown",
   "metadata": {},
   "source": [
    "## Pipeline: `raw files -[dataloader]-> numpy arrays -[model]-> prediction`"
   ]
  },
  {
   "cell_type": "code",
   "execution_count": 45,
   "metadata": {},
   "outputs": [],
   "source": [
    "example_kwargs = model.default_dataloader.example_kwargs"
   ]
  },
  {
   "cell_type": "code",
   "execution_count": 46,
   "metadata": {
    "collapsed": false,
    "scrolled": true
   },
   "outputs": [
    {
     "name": "stderr",
     "output_type": "stream",
     "text": [
      "2018-01-25 16:23:41,248 [INFO] Initialized data generator. Running batches...\n",
      "2018-01-25 16:23:42,548 [INFO] Extracted GTF attributes: ['gene_id', 'gene_type', 'gene_status', 'gene_name', 'level', 'transcript_id', 'transcript_type', 'transcript_status', 'transcript_name', 'tag', 'transcript_support_level', 'exon_number', 'exon_id', 'havana_gene', 'ont', 'havana_transcript', 'protein_id', 'ccdsid']\n",
      "INFO:2018-01-25 16:23:42,616:genomelake] Running landmark extractors..\n",
      "2018-01-25 16:23:42,616 [INFO] Running landmark extractors..\n",
      "INFO:2018-01-25 16:23:42,853:genomelake] Done!\n",
      "2018-01-25 16:23:42,853 [INFO] Done!\n"
     ]
    },
    {
     "data": {
      "text/plain": [
       "array([[ 0.143 ],\n",
       "       [ 0.0005],\n",
       "       [ 0.0005],\n",
       "       [ 0.143 ],\n",
       "       [ 0.143 ],\n",
       "       [ 0.143 ],\n",
       "       [ 0.0005],\n",
       "       [ 0.143 ],\n",
       "       [ 0.143 ],\n",
       "       [ 0.143 ],\n",
       "       [ 0.143 ],\n",
       "       [ 0.143 ],\n",
       "       [ 0.143 ],\n",
       "       [ 0.143 ]], dtype=float32)"
      ]
     },
     "execution_count": 46,
     "metadata": {},
     "output_type": "execute_result"
    }
   ],
   "source": [
    "model.pipeline.predict(example_kwargs)"
   ]
  },
  {
   "cell_type": "code",
   "execution_count": 47,
   "metadata": {
    "collapsed": false,
    "scrolled": true
   },
   "outputs": [
    {
     "name": "stderr",
     "output_type": "stream",
     "text": [
      "2018-01-25 16:23:43,706 [INFO] Initialized data generator. Running batches...\n",
      "2018-01-25 16:23:45,006 [INFO] Extracted GTF attributes: ['gene_id', 'gene_type', 'gene_status', 'gene_name', 'level', 'transcript_id', 'transcript_type', 'transcript_status', 'transcript_name', 'tag', 'transcript_support_level', 'exon_number', 'exon_id', 'havana_gene', 'ont', 'havana_transcript', 'protein_id', 'ccdsid']\n",
      "INFO:2018-01-25 16:23:45,080:genomelake] Running landmark extractors..\n",
      "2018-01-25 16:23:45,080 [INFO] Running landmark extractors..\n",
      "INFO:2018-01-25 16:23:45,225:genomelake] Done!\n",
      "2018-01-25 16:23:45,225 [INFO] Done!\n"
     ]
    },
    {
     "data": {
      "text/plain": [
       "array([[ 0.143 ],\n",
       "       [ 0.0005]], dtype=float32)"
      ]
     },
     "execution_count": 47,
     "metadata": {},
     "output_type": "execute_result"
    }
   ],
   "source": [
    "next(model.pipeline.predict_generator(example_kwargs, batch_size=2))"
   ]
  }
 ],
 "metadata": {
  "anaconda-cloud": {},
  "kernelspec": {
   "display_name": "Python [conda env:dev-kipoi-py35]",
   "language": "python",
   "name": "conda-env-dev-kipoi-py35-py"
  },
  "language_info": {
   "codemirror_mode": {
    "name": "ipython",
    "version": 3
   },
   "file_extension": ".py",
   "mimetype": "text/x-python",
   "name": "python",
   "nbconvert_exporter": "python",
   "pygments_lexer": "ipython3",
   "version": "3.5.4"
  }
 },
 "nbformat": 4,
 "nbformat_minor": 2
}
