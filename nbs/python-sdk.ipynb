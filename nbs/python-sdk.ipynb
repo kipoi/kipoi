{
 "cells": [
  {
   "cell_type": "markdown",
   "metadata": {},
   "source": [
    "# Kipoi python-sdk"
   ]
  },
  {
   "cell_type": "markdown",
   "metadata": {},
   "source": [
    "### Quick start"
   ]
  },
  {
   "cell_type": "markdown",
   "metadata": {},
   "source": [
    "There are three basic building blocks in kipoi:\n",
    "- **Source** - provides Models and DataLoaders.\n",
    "- **Model** - makes the prediction given the numpy arrays. \n",
    "- **Dataloader** - loads the data from raw files and transforms them into a form that is directly consumable by the Model"
   ]
  },
  {
   "cell_type": "markdown",
   "metadata": {},
   "source": [
    "![img](../docs/img/kipoi-workflow.png)"
   ]
  },
  {
   "cell_type": "markdown",
   "metadata": {},
   "source": [
    "## List of main commands\n",
    "\n",
    "\n",
    "- `kipoi.list_sources()`\n",
    "- `kipoi.get_source()`\n",
    "\n",
    "\n",
    "- `kipoi.list_models()`\n",
    "- `kipoi.list_dataloaders()`\n",
    "\n",
    "\n",
    "- `kipoi.get_model()`\n",
    "- `kipoi.get_dataloader_factory()`\n",
    "\n"
   ]
  },
  {
   "cell_type": "markdown",
   "metadata": {},
   "source": [
    "### Source\n",
    "\n",
    "Available sources are specified in the config file located at: `~/.kipoi/config.yaml`. Here is an example config file:\n",
    "\n",
    "```yaml\n",
    "model_sources:\n",
    "    kipoi: # default\n",
    "        type: git-lfs # git repository with large file storage (git-lfs)\n",
    "        remote_url: git@github.com:kipoi/models.git # git remote\n",
    "        local_path: ~/.kipoi/models/ # local storage path\n",
    "    gl:\n",
    "        type: git-lfs  # custom model\n",
    "        remote_url: https://i12g-gagneurweb.informatik.tu-muenchen.de/gitlab/gagneurlab/model-zoo.git\n",
    "        local_path: /s/project/model-zoo\n",
    "```\n",
    "\n",
    "There are three different model sources possible: \n",
    "- **`git-lfs`** - git repository with source files tracked normally by git and all the binary files like model weights (located in `files*` directories) are tracked by [git-lfs](https://git-lfs.github.com). \n",
    "  - Requires `git-lfs` to be installed.\n",
    "- **`git`** - all the files including weights (not recommended)\n",
    "- **`local`** - local directory containing models defined in subdirectories\n",
    "\n",
    "For **`git-lfs`** source type, larger files tracked by `git-lfs` will be downloaded into the specified directory `local_path` only after the model has been requested (when invoking `kipoi.get_model()`).\n",
    "\n",
    "#### Note\n",
    "\n",
    "A particular model/dataloader is defined by its source (say `kipoi` or `my_git_models`) and the relative path of the desired model directory from the model source root (say `rbp/`).\n",
    "\n",
    "A directory is considered a model if it contains a `model.yaml` file."
   ]
  },
  {
   "cell_type": "code",
   "execution_count": 2,
   "metadata": {},
   "outputs": [],
   "source": [
    "import kipoi"
   ]
  },
  {
   "cell_type": "code",
   "execution_count": 4,
   "metadata": {
    "collapsed": true
   },
   "outputs": [],
   "source": [
    "import warnings\n",
    "warnings.filterwarnings('ignore')"
   ]
  },
  {
   "cell_type": "code",
   "execution_count": 5,
   "metadata": {},
   "outputs": [
    {
     "data": {
      "text/html": [
       "<div>\n",
       "<style>\n",
       "    .dataframe thead tr:only-child th {\n",
       "        text-align: right;\n",
       "    }\n",
       "\n",
       "    .dataframe thead th {\n",
       "        text-align: left;\n",
       "    }\n",
       "\n",
       "    .dataframe tbody tr th {\n",
       "        vertical-align: top;\n",
       "    }\n",
       "</style>\n",
       "<table border=\"1\" class=\"dataframe\">\n",
       "  <thead>\n",
       "    <tr style=\"text-align: right;\">\n",
       "      <th></th>\n",
       "      <th>source</th>\n",
       "      <th>type</th>\n",
       "      <th>location</th>\n",
       "      <th>local_size</th>\n",
       "      <th>n_models</th>\n",
       "      <th>n_dataloaders</th>\n",
       "    </tr>\n",
       "  </thead>\n",
       "  <tbody>\n",
       "    <tr>\n",
       "      <th>0</th>\n",
       "      <td>kipoi</td>\n",
       "      <td>git-lfs</td>\n",
       "      <td>/data/ouga/home/ag_ga...</td>\n",
       "      <td>1.5G</td>\n",
       "      <td>4</td>\n",
       "      <td>4</td>\n",
       "    </tr>\n",
       "    <tr>\n",
       "      <th>1</th>\n",
       "      <td>gl</td>\n",
       "      <td>git</td>\n",
       "      <td>/s/project/model-zoo/</td>\n",
       "      <td>112M</td>\n",
       "      <td>1</td>\n",
       "      <td>1</td>\n",
       "    </tr>\n",
       "    <tr>\n",
       "      <th>2</th>\n",
       "      <td>dir</td>\n",
       "      <td>local</td>\n",
       "      <td>./</td>\n",
       "      <td>188K</td>\n",
       "      <td>0</td>\n",
       "      <td>0</td>\n",
       "    </tr>\n",
       "  </tbody>\n",
       "</table>\n",
       "</div>"
      ],
      "text/plain": [
       "  source     type                  location local_size  n_models  n_dataloaders\n",
       "0  kipoi  git-lfs  /data/ouga/home/ag_ga...       1.5G         4              4\n",
       "1     gl      git     /s/project/model-zoo/       112M         1              1\n",
       "2    dir    local                        ./       188K         0              0"
      ]
     },
     "execution_count": 5,
     "metadata": {},
     "output_type": "execute_result"
    }
   ],
   "source": [
    "kipoi.list_sources()"
   ]
  },
  {
   "cell_type": "code",
   "execution_count": 6,
   "metadata": {},
   "outputs": [],
   "source": [
    "s = kipoi.get_source(\"kipoi\")"
   ]
  },
  {
   "cell_type": "code",
   "execution_count": 7,
   "metadata": {},
   "outputs": [
    {
     "data": {
      "text/plain": [
       "GitLFSSource(remote_url='git@github.com:kipoi/models.git', local_path='/data/ouga/home/ag_gagneur/avsec/.kipoi/models/')"
      ]
     },
     "execution_count": 7,
     "metadata": {},
     "output_type": "execute_result"
    }
   ],
   "source": [
    "s"
   ]
  },
  {
   "cell_type": "code",
   "execution_count": 8,
   "metadata": {},
   "outputs": [
    {
     "data": {
      "text/html": [
       "<div>\n",
       "<style>\n",
       "    .dataframe thead tr:only-child th {\n",
       "        text-align: right;\n",
       "    }\n",
       "\n",
       "    .dataframe thead th {\n",
       "        text-align: left;\n",
       "    }\n",
       "\n",
       "    .dataframe tbody tr th {\n",
       "        vertical-align: top;\n",
       "    }\n",
       "</style>\n",
       "<table border=\"1\" class=\"dataframe\">\n",
       "  <thead>\n",
       "    <tr style=\"text-align: right;\">\n",
       "      <th></th>\n",
       "      <th>source</th>\n",
       "      <th>model</th>\n",
       "      <th>name</th>\n",
       "      <th>version</th>\n",
       "      <th>author</th>\n",
       "      <th>descr</th>\n",
       "      <th>type</th>\n",
       "      <th>inputs</th>\n",
       "      <th>targets</th>\n",
       "      <th>tags</th>\n",
       "    </tr>\n",
       "  </thead>\n",
       "  <tbody>\n",
       "    <tr>\n",
       "      <th>0</th>\n",
       "      <td>kipoi</td>\n",
       "      <td>extended_coda</td>\n",
       "      <td>extended CODA</td>\n",
       "      <td>0.1</td>\n",
       "      <td>Johnny Israeli</td>\n",
       "      <td>Single bp resolution ...</td>\n",
       "      <td>keras</td>\n",
       "      <td>[H3K27AC_subsampled]</td>\n",
       "      <td>[H3K27ac]</td>\n",
       "      <td>[]</td>\n",
       "    </tr>\n",
       "    <tr>\n",
       "      <th>1</th>\n",
       "      <td>kipoi</td>\n",
       "      <td>DeepSEA</td>\n",
       "      <td>DeepSEA</td>\n",
       "      <td>0.1</td>\n",
       "      <td>Lara Urban</td>\n",
       "      <td>This CNN is based on ...</td>\n",
       "      <td>keras</td>\n",
       "      <td>seq</td>\n",
       "      <td>epigen_mod</td>\n",
       "      <td>[]</td>\n",
       "    </tr>\n",
       "    <tr>\n",
       "      <th>2</th>\n",
       "      <td>kipoi</td>\n",
       "      <td>rbp</td>\n",
       "      <td>rbp_eclip</td>\n",
       "      <td>0.1</td>\n",
       "      <td>Ziga Avsec</td>\n",
       "      <td>RBP binding prediction</td>\n",
       "      <td>keras</td>\n",
       "      <td>[seq, dist_polya_st]</td>\n",
       "      <td>None</td>\n",
       "      <td>[]</td>\n",
       "    </tr>\n",
       "    <tr>\n",
       "      <th>3</th>\n",
       "      <td>kipoi</td>\n",
       "      <td>HAL</td>\n",
       "      <td>HAL</td>\n",
       "      <td>0.1</td>\n",
       "      <td>Jun Cheng, Ziga Avsec</td>\n",
       "      <td>Model from Rosenberg ...</td>\n",
       "      <td>custom</td>\n",
       "      <td>[seq]</td>\n",
       "      <td>[psi]</td>\n",
       "      <td>[]</td>\n",
       "    </tr>\n",
       "  </tbody>\n",
       "</table>\n",
       "</div>"
      ],
      "text/plain": [
       "  source          model           name version                 author                     descr  \\\n",
       "0  kipoi  extended_coda  extended CODA     0.1         Johnny Israeli  Single bp resolution ...   \n",
       "1  kipoi        DeepSEA        DeepSEA     0.1             Lara Urban  This CNN is based on ...   \n",
       "2  kipoi            rbp      rbp_eclip     0.1             Ziga Avsec    RBP binding prediction   \n",
       "3  kipoi            HAL            HAL     0.1  Jun Cheng, Ziga Avsec  Model from Rosenberg ...   \n",
       "\n",
       "     type                inputs     targets tags  \n",
       "0   keras  [H3K27AC_subsampled]   [H3K27ac]   []  \n",
       "1   keras                   seq  epigen_mod   []  \n",
       "2   keras  [seq, dist_polya_st]        None   []  \n",
       "3  custom                 [seq]       [psi]   []  "
      ]
     },
     "execution_count": 8,
     "metadata": {},
     "output_type": "execute_result"
    }
   ],
   "source": [
    "kipoi.list_models()"
   ]
  },
  {
   "cell_type": "markdown",
   "metadata": {},
   "source": [
    "## Model\n",
    "\n",
    "Let's choose to use the extended_coda model"
   ]
  },
  {
   "cell_type": "code",
   "execution_count": 9,
   "metadata": {},
   "outputs": [
    {
     "name": "stderr",
     "output_type": "stream",
     "text": [
      "Using TensorFlow backend.\n",
      "2017-11-13 17:23:23,976 [INFO] successfully loaded the dataloader from /data/ouga/home/ag_gagneur/avsec/.kipoi/models/rbp/dataloader.py::SeqDistDataset\n",
      "2017-11-13 17:23:24,030 [INFO] successfully loaded model architecture from <_io.TextIOWrapper name='model_files/model.json' mode='r' encoding='UTF-8'>\n",
      "2017-11-13 17:23:24,054 [INFO] successfully loaded model weights from model_files/weights.h5\n",
      "2017-11-13 17:23:24,055 [INFO] dataloader.output_schema is compatible with model.schema\n"
     ]
    }
   ],
   "source": [
    "model = kipoi.get_model(\"rbp\")"
   ]
  },
  {
   "cell_type": "markdown",
   "metadata": {},
   "source": [
    "### Available fields:\n",
    "\n",
    "#### Model\n",
    "\n",
    "- type\n",
    "- args\n",
    "- info\n",
    "  - author\n",
    "  - name\n",
    "  - version\n",
    "  - tags\n",
    "  - descr\n",
    "- schema\n",
    "  - inputs\n",
    "  - targets\n",
    "- default_dataloader - loaded dataloader class\n",
    "\n",
    "\n",
    "- predict_on_batch()\n",
    "- source\n",
    "- source_dir\n",
    "- pipeline\n",
    "  - predict()\n",
    "  - predict_example()\n",
    "  - predict_generator()\n",
    "  \n",
    "#### Dataloader\n",
    "\n",
    "- type\n",
    "- defined_as\n",
    "- args\n",
    "- info (same as for the model)\n",
    "- output_schema\n",
    "  - inputs\n",
    "  - targets\n",
    "  - metadata\n",
    "\n",
    "\n",
    "- source\n",
    "- source_dir\n",
    "- example_kwargs\n",
    "- init_example()\n",
    "- batch_iter()\n",
    "- batch_train_iter()\n",
    "- batch_predict_iter()\n",
    "- load_all()"
   ]
  },
  {
   "cell_type": "code",
   "execution_count": 10,
   "metadata": {},
   "outputs": [
    {
     "data": {
      "text/plain": [
       "<kipoi.model.KerasModel at 0x7f3cafd8f710>"
      ]
     },
     "execution_count": 10,
     "metadata": {},
     "output_type": "execute_result"
    }
   ],
   "source": [
    "model"
   ]
  },
  {
   "cell_type": "code",
   "execution_count": 11,
   "metadata": {},
   "outputs": [
    {
     "data": {
      "text/plain": [
       "'keras'"
      ]
     },
     "execution_count": 11,
     "metadata": {},
     "output_type": "execute_result"
    }
   ],
   "source": [
    "model.type"
   ]
  },
  {
   "cell_type": "markdown",
   "metadata": {},
   "source": [
    "### Info"
   ]
  },
  {
   "cell_type": "code",
   "execution_count": 12,
   "metadata": {},
   "outputs": [
    {
     "data": {
      "text/plain": [
       "Info(author='Ziga Avsec', name='rbp_eclip', version='0.1', descr='RBP binding prediction', tags=[])"
      ]
     },
     "execution_count": 12,
     "metadata": {},
     "output_type": "execute_result"
    }
   ],
   "source": [
    "model.info"
   ]
  },
  {
   "cell_type": "code",
   "execution_count": 13,
   "metadata": {},
   "outputs": [
    {
     "data": {
      "text/plain": [
       "'0.1'"
      ]
     },
     "execution_count": 13,
     "metadata": {},
     "output_type": "execute_result"
    }
   ],
   "source": [
    "model.info.version"
   ]
  },
  {
   "cell_type": "markdown",
   "metadata": {},
   "source": [
    "### Schema"
   ]
  },
  {
   "cell_type": "code",
   "execution_count": 14,
   "metadata": {},
   "outputs": [
    {
     "data": {
      "text/plain": [
       "OrderedDict([('seq',\n",
       "              ArraySchema(shape=(101, 4), descr='One-hot encoded RNA sequence', name='seq', special_type=<ArraySpecialType.DNASeq: 'DNASeq'>, associated_metadata=[])),\n",
       "             ('dist_polya_st',\n",
       "              ArraySchema(shape=(1, 10), descr='Distance to poly-a site transformed with B-splines', name='dist_polya_st', special_type=None, associated_metadata=[]))])"
      ]
     },
     "execution_count": 14,
     "metadata": {},
     "output_type": "execute_result"
    }
   ],
   "source": [
    "model.schema.inputs"
   ]
  },
  {
   "cell_type": "code",
   "execution_count": 15,
   "metadata": {},
   "outputs": [
    {
     "data": {
      "text/plain": [
       "ArraySchema(shape=(1,), descr='Predicted binding strength', name=None, special_type=None, associated_metadata=[])"
      ]
     },
     "execution_count": 15,
     "metadata": {},
     "output_type": "execute_result"
    }
   ],
   "source": [
    "model.schema.targets"
   ]
  },
  {
   "cell_type": "markdown",
   "metadata": {},
   "source": [
    "### Default dataloader\n",
    "\n",
    "Model already has the default dataloder present. To use it, specify"
   ]
  },
  {
   "cell_type": "code",
   "execution_count": 16,
   "metadata": {},
   "outputs": [
    {
     "data": {
      "text/plain": [
       "'/data/ouga/home/ag_gagneur/avsec/.kipoi/models/rbp'"
      ]
     },
     "execution_count": 16,
     "metadata": {},
     "output_type": "execute_result"
    }
   ],
   "source": [
    "model.source_dir"
   ]
  },
  {
   "cell_type": "code",
   "execution_count": 17,
   "metadata": {},
   "outputs": [
    {
     "data": {
      "text/plain": [
       "dataloader.SeqDistDataset"
      ]
     },
     "execution_count": 17,
     "metadata": {},
     "output_type": "execute_result"
    }
   ],
   "source": [
    "model.default_dataloader"
   ]
  },
  {
   "cell_type": "code",
   "execution_count": 18,
   "metadata": {},
   "outputs": [
    {
     "data": {
      "text/plain": [
       "Info(author='Ziga Avsec', name='rbp_eclip', version='0.1', descr='RBP binding prediction', tags=[])"
      ]
     },
     "execution_count": 18,
     "metadata": {},
     "output_type": "execute_result"
    }
   ],
   "source": [
    "model.default_dataloader.info"
   ]
  },
  {
   "cell_type": "markdown",
   "metadata": {},
   "source": [
    "### Predict_on_batch"
   ]
  },
  {
   "cell_type": "code",
   "execution_count": 19,
   "metadata": {},
   "outputs": [
    {
     "data": {
      "text/plain": [
       "<bound method KerasModel.predict_on_batch of <kipoi.model.KerasModel object at 0x7f3cafd8f710>>"
      ]
     },
     "execution_count": 19,
     "metadata": {},
     "output_type": "execute_result"
    }
   ],
   "source": [
    "model.predict_on_batch"
   ]
  },
  {
   "cell_type": "markdown",
   "metadata": {},
   "source": [
    "### Pipeline\n",
    "\n",
    "Pipeline object will take the dataloader arguments and run the whole pipeline:\n",
    "\n",
    "```\n",
    "dataloader arguments --Dataloader-->  numpy arrays --Model--> prediction\n",
    "```"
   ]
  },
  {
   "cell_type": "code",
   "execution_count": 20,
   "metadata": {},
   "outputs": [
    {
     "data": {
      "text/plain": [
       "\u001b[0;31mSignature:\u001b[0m \u001b[0mmodel\u001b[0m\u001b[0;34m.\u001b[0m\u001b[0mpipeline\u001b[0m\u001b[0;34m.\u001b[0m\u001b[0mpredict\u001b[0m\u001b[0;34m(\u001b[0m\u001b[0mdataloader_kwargs\u001b[0m\u001b[0;34m,\u001b[0m \u001b[0mbatch_size\u001b[0m\u001b[0;34m=\u001b[0m\u001b[0;36m32\u001b[0m\u001b[0;34m)\u001b[0m\u001b[0;34m\u001b[0m\u001b[0m\n",
       "\u001b[0;31mDocstring:\u001b[0m\n",
       "# Arguments\n",
       "    preproc_kwargs: Keyword arguments passed to the pre-processor\n",
       "\n",
       ":return: Predict the whole array\n",
       "\u001b[0;31mFile:\u001b[0m      /data/nasif12/home_if12/avsec/projects-work/kipoi/kipoi/pipeline.py\n",
       "\u001b[0;31mType:\u001b[0m      method\n"
      ]
     },
     "metadata": {},
     "output_type": "display_data"
    }
   ],
   "source": [
    "?model.pipeline.predict"
   ]
  },
  {
   "cell_type": "code",
   "execution_count": 21,
   "metadata": {},
   "outputs": [
    {
     "data": {
      "text/plain": [
       "\u001b[0;31mSignature:\u001b[0m \u001b[0mmodel\u001b[0m\u001b[0;34m.\u001b[0m\u001b[0mpipeline\u001b[0m\u001b[0;34m.\u001b[0m\u001b[0mpredict_generator\u001b[0m\u001b[0;34m(\u001b[0m\u001b[0mdataloader_kwargs\u001b[0m\u001b[0;34m,\u001b[0m \u001b[0mbatch_size\u001b[0m\u001b[0;34m=\u001b[0m\u001b[0;36m32\u001b[0m\u001b[0;34m)\u001b[0m\u001b[0;34m\u001b[0m\u001b[0m\n",
       "\u001b[0;31mDocstring:\u001b[0m\n",
       "Prediction generator\n",
       "\n",
       "# Arguments\n",
       "    preproc_kwargs: Keyword arguments passed to the pre-processor\n",
       "\n",
       "# Yields\n",
       "    model batch prediction\n",
       "\u001b[0;31mFile:\u001b[0m      /data/nasif12/home_if12/avsec/projects-work/kipoi/kipoi/pipeline.py\n",
       "\u001b[0;31mType:\u001b[0m      method\n"
      ]
     },
     "metadata": {},
     "output_type": "display_data"
    }
   ],
   "source": [
    "?model.pipeline.predict_generator"
   ]
  },
  {
   "cell_type": "markdown",
   "metadata": {},
   "source": [
    "### Others"
   ]
  },
  {
   "cell_type": "code",
   "execution_count": 22,
   "metadata": {},
   "outputs": [
    {
     "data": {
      "text/plain": [
       "GitLFSSource(remote_url='git@github.com:kipoi/models.git', local_path='/data/ouga/home/ag_gagneur/avsec/.kipoi/models/')"
      ]
     },
     "execution_count": 22,
     "metadata": {},
     "output_type": "execute_result"
    }
   ],
   "source": [
    "# Model source\n",
    "model.source"
   ]
  },
  {
   "cell_type": "code",
   "execution_count": 23,
   "metadata": {},
   "outputs": [
    {
     "data": {
      "text/plain": [
       "'/data/ouga/home/ag_gagneur/avsec/.kipoi/models/rbp'"
      ]
     },
     "execution_count": 23,
     "metadata": {},
     "output_type": "execute_result"
    }
   ],
   "source": [
    "# model location directory\n",
    "model.source_dir"
   ]
  },
  {
   "cell_type": "markdown",
   "metadata": {},
   "source": [
    "## DataLoader"
   ]
  },
  {
   "cell_type": "code",
   "execution_count": 24,
   "metadata": {
    "collapsed": false
   },
   "outputs": [
    {
     "name": "stderr",
     "output_type": "stream",
     "text": [
      "2017-11-13 17:23:54,533 [INFO] git-lfs pull -I rbp/**\n",
      "2017-11-13 17:23:54,616 [INFO] dataloader rbp loaded\n",
      "2017-11-13 17:23:54,627 [INFO] successfully loaded the dataloader from /data/ouga/home/ag_gagneur/avsec/.kipoi/models/rbp/dataloader.py::SeqDistDataset\n"
     ]
    }
   ],
   "source": [
    "DataLoader = kipoi.get_dataloader_factory(\"rbp\")"
   ]
  },
  {
   "cell_type": "code",
   "execution_count": 25,
   "metadata": {},
   "outputs": [
    {
     "data": {
      "text/plain": [
       "\u001b[0;31mInit signature:\u001b[0m \u001b[0mDataLoader\u001b[0m\u001b[0;34m(\u001b[0m\u001b[0mintervals_file\u001b[0m\u001b[0;34m,\u001b[0m \u001b[0mfasta_file\u001b[0m\u001b[0;34m,\u001b[0m \u001b[0mgtf_file\u001b[0m\u001b[0;34m,\u001b[0m \u001b[0mpreproc_transformer\u001b[0m\u001b[0;34m,\u001b[0m \u001b[0mtarget_file\u001b[0m\u001b[0;34m=\u001b[0m\u001b[0;32mNone\u001b[0m\u001b[0;34m)\u001b[0m\u001b[0;34m\u001b[0m\u001b[0m\n",
       "\u001b[0;31mDocstring:\u001b[0m     \n",
       "Args:\n",
       "    intervals_file: file path; tsv file\n",
       "        Assumes bed-like `chrom start end id score strand` format.\n",
       "    fasta_file: file path; Genome sequence\n",
       "    gtf_file: file path; Genome annotation GTF file pickled using pandas.\n",
       "    preproc_transformer: file path; tranformer used for pre-processing.\n",
       "    target_file: file path; path to the targets\n",
       "    batch_size: int\n",
       "\u001b[0;31mType:\u001b[0m           type\n"
      ]
     },
     "metadata": {},
     "output_type": "display_data"
    }
   ],
   "source": [
    "?DataLoader"
   ]
  },
  {
   "cell_type": "markdown",
   "metadata": {},
   "source": [
    "## Run dataloader on some examples"
   ]
  },
  {
   "cell_type": "code",
   "execution_count": 85,
   "metadata": {
    "collapsed": false
   },
   "outputs": [
    {
     "data": {
      "text/plain": [
       "{'fasta_file': 'example_files/hg38_chr22.fa',\n",
       " 'gtf_file': 'example_files/gencode_v25_chr22.gtf.pkl.gz',\n",
       " 'intervals_file': 'example_files/intervals.tsv',\n",
       " 'preproc_transformer': 'dataloader_files/encodeSplines.pkl',\n",
       " 'target_file': 'example_files/targets.tsv'}"
      ]
     },
     "execution_count": 85,
     "metadata": {},
     "output_type": "execute_result"
    }
   ],
   "source": [
    "# each dataloader already provides the example files\n",
    "DataLoader.example_kwargs"
   ]
  },
  {
   "cell_type": "code",
   "execution_count": 51,
   "metadata": {},
   "outputs": [],
   "source": [
    "import os"
   ]
  },
  {
   "cell_type": "code",
   "execution_count": 52,
   "metadata": {},
   "outputs": [],
   "source": [
    "# cd into the source directory \n",
    "os.chdir(DataLoader.source_dir)"
   ]
  },
  {
   "cell_type": "code",
   "execution_count": 96,
   "metadata": {},
   "outputs": [
    {
     "name": "stdout",
     "output_type": "stream",
     "text": [
      ".\r\n",
      "├── custom_keras_objects.py\r\n",
      "├── dataloader_files\r\n",
      "│   └── encodeSplines.pkl\r\n",
      "├── dataloader.py\r\n",
      "├── dataloader.pyc\r\n",
      "├── dataloader.yaml\r\n",
      "├── example_files\r\n",
      "│   ├── gencode_v25_chr22.gtf.pkl.gz\r\n",
      "│   ├── hg38_chr22.fa\r\n",
      "│   ├── hg38_chr22.fa.fai\r\n",
      "│   ├── intervals.tsv\r\n",
      "│   ├── predictions.h5\r\n",
      "│   ├── predictions.tsv\r\n",
      "│   └── targets.tsv\r\n",
      "├── model_files\r\n",
      "│   ├── model.json\r\n",
      "│   └── weights.h5\r\n",
      "├── model.yaml\r\n",
      "├── readme.md\r\n",
      "└── train_model.ipynb\r\n",
      "\r\n",
      "3 directories, 17 files\r\n"
     ]
    }
   ],
   "source": [
    "!tree"
   ]
  },
  {
   "cell_type": "code",
   "execution_count": 54,
   "metadata": {
    "collapsed": false
   },
   "outputs": [
    {
     "name": "stderr",
     "output_type": "stream",
     "text": [
      "INFO:2017-11-13 17:28:08,231:genomelake] Running landmark extractors..\n",
      "2017-11-13 17:28:08,231 [INFO] Running landmark extractors..\n",
      "INFO:2017-11-13 17:28:08,239:genomelake] Done!\n",
      "2017-11-13 17:28:08,239 [INFO] Done!\n"
     ]
    }
   ],
   "source": [
    "dl = DataLoader(**DataLoader.example_kwargs)\n",
    "# could be also done with DataLoader.init_example()"
   ]
  },
  {
   "cell_type": "code",
   "execution_count": 100,
   "metadata": {
    "collapsed": false,
    "scrolled": true
   },
   "outputs": [
    {
     "data": {
      "text/plain": [
       "dict_keys(['targets', 'metadata', 'inputs'])"
      ]
     },
     "execution_count": 100,
     "metadata": {},
     "output_type": "execute_result"
    }
   ],
   "source": [
    "# This particular dataloader is of type Dataset\n",
    "# i.e. it implements the __getitem__ method:\n",
    "dl[0].keys()"
   ]
  },
  {
   "cell_type": "code",
   "execution_count": 56,
   "metadata": {},
   "outputs": [
    {
     "data": {
      "text/plain": [
       "dict_keys(['dist_polya_st', 'seq'])"
      ]
     },
     "execution_count": 56,
     "metadata": {},
     "output_type": "execute_result"
    }
   ],
   "source": [
    "dl[0][\"inputs\"].keys()"
   ]
  },
  {
   "cell_type": "code",
   "execution_count": 57,
   "metadata": {},
   "outputs": [
    {
     "data": {
      "text/plain": [
       "array([[ 0.25,  0.25,  0.25,  0.25],\n",
       "       [ 0.25,  0.25,  0.25,  0.25],\n",
       "       [ 0.25,  0.25,  0.25,  0.25],\n",
       "       [ 0.25,  0.25,  0.25,  0.25],\n",
       "       [ 0.25,  0.25,  0.25,  0.25]], dtype=float32)"
      ]
     },
     "execution_count": 57,
     "metadata": {},
     "output_type": "execute_result"
    }
   ],
   "source": [
    "dl[0][\"inputs\"][\"seq\"][:5]"
   ]
  },
  {
   "cell_type": "code",
   "execution_count": 58,
   "metadata": {
    "collapsed": false
   },
   "outputs": [
    {
     "data": {
      "text/plain": [
       "14"
      ]
     },
     "execution_count": 58,
     "metadata": {},
     "output_type": "execute_result"
    }
   ],
   "source": [
    "len(dl)"
   ]
  },
  {
   "cell_type": "markdown",
   "metadata": {},
   "source": [
    "### Get the whole dataset"
   ]
  },
  {
   "cell_type": "code",
   "execution_count": 60,
   "metadata": {},
   "outputs": [
    {
     "name": "stderr",
     "output_type": "stream",
     "text": [
      "\r",
      "  0%|          | 0/1 [00:00<?, ?it/s]\r",
      "100%|██████████| 1/1 [00:00<00:00, 20.56it/s]\n"
     ]
    }
   ],
   "source": [
    "whole_data = dl.load_all()"
   ]
  },
  {
   "cell_type": "code",
   "execution_count": 61,
   "metadata": {},
   "outputs": [
    {
     "data": {
      "text/plain": [
       "dict_keys(['targets', 'metadata', 'inputs'])"
      ]
     },
     "execution_count": 61,
     "metadata": {},
     "output_type": "execute_result"
    }
   ],
   "source": [
    "whole_data.keys()"
   ]
  },
  {
   "cell_type": "code",
   "execution_count": 62,
   "metadata": {},
   "outputs": [
    {
     "data": {
      "text/plain": [
       "(14, 101, 4)"
      ]
     },
     "execution_count": 62,
     "metadata": {},
     "output_type": "execute_result"
    }
   ],
   "source": [
    "whole_data[\"inputs\"][\"seq\"].shape"
   ]
  },
  {
   "cell_type": "markdown",
   "metadata": {},
   "source": [
    "### Get the iterator to run predictions"
   ]
  },
  {
   "cell_type": "code",
   "execution_count": 63,
   "metadata": {},
   "outputs": [],
   "source": [
    "it = dl.batch_iter(batch_size=1, shuffle=False, num_workers=0, drop_last=False)"
   ]
  },
  {
   "cell_type": "code",
   "execution_count": 64,
   "metadata": {},
   "outputs": [
    {
     "data": {
      "text/plain": [
       "(1, 101, 4)"
      ]
     },
     "execution_count": 64,
     "metadata": {},
     "output_type": "execute_result"
    }
   ],
   "source": [
    "next(it)[\"inputs\"][\"seq\"].shape"
   ]
  },
  {
   "cell_type": "code",
   "execution_count": 65,
   "metadata": {},
   "outputs": [
    {
     "data": {
      "text/plain": [
       "array([[ 0.2135]], dtype=float32)"
      ]
     },
     "execution_count": 65,
     "metadata": {},
     "output_type": "execute_result"
    }
   ],
   "source": [
    "model.predict_on_batch(next(it)[\"inputs\"])"
   ]
  },
  {
   "cell_type": "markdown",
   "metadata": {},
   "source": [
    "### Train the Keras model\n",
    "\n",
    "Keras model is stored under the `.model` attribute."
   ]
  },
  {
   "cell_type": "code",
   "execution_count": 66,
   "metadata": {},
   "outputs": [],
   "source": [
    "model.model.compile(\"adam\", \"binary_crossentropy\")"
   ]
  },
  {
   "cell_type": "code",
   "execution_count": 75,
   "metadata": {},
   "outputs": [],
   "source": [
    "train_it = dl.batch_train_iter(batch_size=2)"
   ]
  },
  {
   "cell_type": "code",
   "execution_count": 76,
   "metadata": {},
   "outputs": [
    {
     "name": "stdout",
     "output_type": "stream",
     "text": [
      "__________________________________________________________________________________________________\n",
      "Layer (type)                    Output Shape         Param #     Connected to                     \n",
      "==================================================================================================\n",
      "seq (InputLayer)                (None, 101, 4)       0                                            \n",
      "__________________________________________________________________________________________________\n",
      "conv1 (Conv1D)                  (None, 93, 10)       370         seq[0][0]                        \n",
      "__________________________________________________________________________________________________\n",
      "average_pooling1d_6 (AveragePoo (None, 23, 10)       0           conv1[0][0]                      \n",
      "__________________________________________________________________________________________________\n",
      "dist_polya_st (InputLayer)      (None, 1, 10)        0                                            \n",
      "__________________________________________________________________________________________________\n",
      "flatten_6 (Flatten)             (None, 230)          0           average_pooling1d_6[0][0]        \n",
      "__________________________________________________________________________________________________\n",
      "spline_t_6 (SplineT)            (None, 1)            10          dist_polya_st[0][0]              \n",
      "__________________________________________________________________________________________________\n",
      "concatenate_6 (Concatenate)     (None, 231)          0           flatten_6[0][0]                  \n",
      "                                                                 spline_t_6[0][0]                 \n",
      "__________________________________________________________________________________________________\n",
      "dense_6 (Dense)                 (None, 1)            232         concatenate_6[0][0]              \n",
      "==================================================================================================\n",
      "Total params: 612\n",
      "Trainable params: 612\n",
      "Non-trainable params: 0\n",
      "__________________________________________________________________________________________________\n"
     ]
    }
   ],
   "source": [
    "model.model.summary()"
   ]
  },
  {
   "cell_type": "code",
   "execution_count": 77,
   "metadata": {},
   "outputs": [
    {
     "name": "stdout",
     "output_type": "stream",
     "text": [
      "Epoch 1/1\n",
      "\r",
      "1/3 [=========>....................] - ETA: 0s - loss: 0.7900\b\b\b\b\b\b\b\b\b\b\b\b\b\b\b\b\b\b\b\b\b\b\b\b\b\b\b\b\b\b\b\b\b\b\b\b\b\b\b\b\b\b\b\b\b\b\b\b\b\b\b\b\b\b\b\b\b\b\b\b\b\r",
      "3/3 [==============================] - 0s 15ms/step - loss: 0.6716\n"
     ]
    },
    {
     "data": {
      "text/plain": [
       "<keras.callbacks.History at 0x7f3c563bb080>"
      ]
     },
     "execution_count": 77,
     "metadata": {},
     "output_type": "execute_result"
    }
   ],
   "source": [
    "model.model.fit_generator(train_it, steps_per_epoch=3, epochs=1)"
   ]
  },
  {
   "cell_type": "markdown",
   "metadata": {},
   "source": [
    "## Pipeline: `raw files -[dataloader]-> numpy arrays -[model]-> prediction`"
   ]
  },
  {
   "cell_type": "code",
   "execution_count": 82,
   "metadata": {},
   "outputs": [],
   "source": [
    "example_kwargs = model.default_dataloader.example_kwargs"
   ]
  },
  {
   "cell_type": "code",
   "execution_count": 83,
   "metadata": {
    "collapsed": false,
    "scrolled": true
   },
   "outputs": [
    {
     "name": "stderr",
     "output_type": "stream",
     "text": [
      "2017-11-13 17:31:08,109 [INFO] Initialized data generator. Running batches...\n",
      "INFO:2017-11-13 17:31:08,219:genomelake] Running landmark extractors..\n",
      "2017-11-13 17:31:08,219 [INFO] Running landmark extractors..\n",
      "INFO:2017-11-13 17:31:08,225:genomelake] Done!\n",
      "2017-11-13 17:31:08,225 [INFO] Done!\n"
     ]
    },
    {
     "data": {
      "text/plain": [
       "array([[ 0.2645],\n",
       "       [ 0.2181],\n",
       "       [ 0.2181],\n",
       "       [ 0.2645],\n",
       "       [ 0.2645],\n",
       "       [ 0.2645],\n",
       "       [ 0.2181],\n",
       "       [ 0.2645],\n",
       "       [ 0.2645],\n",
       "       [ 0.2645],\n",
       "       [ 0.2645],\n",
       "       [ 0.2645],\n",
       "       [ 0.2645],\n",
       "       [ 0.2645]], dtype=float32)"
      ]
     },
     "execution_count": 83,
     "metadata": {},
     "output_type": "execute_result"
    }
   ],
   "source": [
    "model.pipeline.predict(example_kwargs)"
   ]
  },
  {
   "cell_type": "code",
   "execution_count": 84,
   "metadata": {
    "collapsed": false,
    "scrolled": true
   },
   "outputs": [
    {
     "name": "stderr",
     "output_type": "stream",
     "text": [
      "2017-11-13 17:31:08,868 [INFO] Initialized data generator. Running batches...\n",
      "INFO:2017-11-13 17:31:08,997:genomelake] Running landmark extractors..\n",
      "2017-11-13 17:31:08,997 [INFO] Running landmark extractors..\n",
      "INFO:2017-11-13 17:31:09,006:genomelake] Done!\n",
      "2017-11-13 17:31:09,006 [INFO] Done!\n"
     ]
    },
    {
     "data": {
      "text/plain": [
       "array([[ 0.2645],\n",
       "       [ 0.2181]], dtype=float32)"
      ]
     },
     "execution_count": 84,
     "metadata": {},
     "output_type": "execute_result"
    }
   ],
   "source": [
    "next(model.pipeline.predict_generator(example_kwargs, batch_size=2))"
   ]
  }
 ],
 "metadata": {
  "anaconda-cloud": {},
  "kernelspec": {
   "display_name": "Python [default]",
   "language": "python",
   "name": "python3"
  },
  "language_info": {
   "codemirror_mode": {
    "name": "ipython",
    "version": 3
   },
   "file_extension": ".py",
   "mimetype": "text/x-python",
   "name": "python",
   "nbconvert_exporter": "python",
   "pygments_lexer": "ipython3",
   "version": "3.5.2"
  }
 },
 "nbformat": 4,
 "nbformat_minor": 2
}
