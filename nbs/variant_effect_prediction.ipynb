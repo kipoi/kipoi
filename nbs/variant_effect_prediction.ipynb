{
 "cells": [
  {
   "cell_type": "markdown",
   "metadata": {},
   "source": [
    "# Variant effect prediction\n",
    "This notebook will explain how to run a variant effect prediction (ISM) on a model.\n",
    "\n",
    "This is automated functionality to predict the variant effects starting from a VCF file. At the moment only SNPs (no indels) are supported. There are a few basic requirements to the model and the dataloader in order to make use of this functionality:\n",
    "\n",
    "## The procedure (ISM)\n",
    "The basic procedure is that a VCF is loaded and the genomic position of variants is extracted. From this a bed file is created that is then used to run the dataloader together with the other input arguments. The generated model input is then in-silico mutated yielding 4 sets of prediction data (forward reference, forward alternative, reverse-complement reference, reverse-complement alternative). The individual precitions are then compared and the effect is returned.\n",
    "\n",
    "\n",
    "## Model and dataloader requirements\n",
    "\n",
    "* Model predicts (at least partly) based on DNA sequence input\n",
    "* Dataloader has a bed file argument defining the genomic region for which a data sample is generated\n",
    "* Dataloader outputs metadata with the DNA sequence that descibes the genomic position (chr, start, end) of the generated sequence\n",
    "\n",
    "\n",
    "## Setting up the _.yaml_ files\n",
    "First it is important to tell the variant effect prediction module that your model supports variant effect prediction. Thereor the postprocessing category has to be present in the model.yaml and in the dataloader.yaml in the following ways:\n",
    "\n",
    "I will assume here a model in which a DNA sequence input called `seq` is present. In model.yaml the following lines tell the variant effect predictor that the model input \"seq\" is the DNA sequence input that should be modified for an ISM analysis. \n",
    "\n",
    "*`model.yaml:`*\n",
    "```YAML\n",
    "...\n",
    "postprocessing:\n",
    "    - type: var_effect_prediction\n",
    "      args:\n",
    "          seq_input:\n",
    "            - seq\n",
    "```\n",
    "\n",
    "You can have multiple DNA sequence model inputs that should be modified, just add them one after the other in the `seq_input` category. Please consider that in the `dataloader.yaml` all those `seq` fields have to be linked to exactly one ranges metadata-element each. Reminder: See `dataloader.yaml > output_schema > inputs > seq > associated_metadata`.\n",
    "\n",
    "Additionally in order to enable the dataloader for variant effect prediction you will have to tell the variant effect predictor which dataloader argument is used to define the genomic ranges. At the moment only bed files are supported:\n",
    "\n",
    "*`dataloader.yaml:`*\n",
    "```YAML\n",
    "...\n",
    "postprocessing:\n",
    "    - type: var_effect_prediction\n",
    "      args:\n",
    "          bed_input:\n",
    "            - intervals_file\n",
    "```\n",
    "\n",
    "In this case the `dataloader.yaml > args` defines an argument `intervals_file` that expects a bed file as input and that tells the dataloader for which genomic region the datapoints should be generated. The `rbp`example model is set up in the way mentioned above. We will use that model in order to show how to run variant effect prediction. First we will need to load the required modules:"
   ]
  },
  {
   "cell_type": "code",
   "execution_count": null,
   "metadata": {
    "collapsed": false
   },
   "outputs": [],
   "source": [
    "import kipoi\n",
    "from kipoi.postprocessing.variant_effects import predict_snvs\n",
    "from kipoi.pipeline import install_model_requirements\n",
    "import warnings\n",
    "from kipoi.utils import cd\n",
    "warnings.filterwarnings('ignore')"
   ]
  },
  {
   "cell_type": "code",
   "execution_count": null,
   "metadata": {
    "collapsed": true
   },
   "outputs": [],
   "source": [
    "model_dir = kipoi.__path__[0] + \"/../examples/rbp/\""
   ]
  },
  {
   "cell_type": "markdown",
   "metadata": {},
   "source": [
    "We might decide to install the requirements defined by the model:"
   ]
  },
  {
   "cell_type": "code",
   "execution_count": null,
   "metadata": {
    "collapsed": true
   },
   "outputs": [],
   "source": [
    "install_model_requirements(model_dir, \"dir\", and_dataloaders=True)"
   ]
  },
  {
   "cell_type": "markdown",
   "metadata": {},
   "source": [
    "Now let's get the model and dataloader factory"
   ]
  },
  {
   "cell_type": "code",
   "execution_count": null,
   "metadata": {
    "collapsed": true
   },
   "outputs": [],
   "source": [
    "model = kipoi.get_model(model_dir, source=\"dir\")\n",
    "Dataloader = kipoi.get_dataloader_factory(model_dir, source=\"dir\")"
   ]
  },
  {
   "cell_type": "markdown",
   "metadata": {},
   "source": [
    "We will now need to define which input files should be used for predicting. For simplicity we will just use the sample input files delivered with the model:"
   ]
  },
  {
   "cell_type": "code",
   "execution_count": null,
   "metadata": {
    "collapsed": true
   },
   "outputs": [],
   "source": [
    "dataloader_arguments = {\n",
    "    \"fasta_file\": \"example_files/hg38_chr22.fa\",\n",
    "    \"preproc_transformer\": \"dataloader_files/encodeSplines.pkl\",\n",
    "    \"gtf_file\": \"example_files/gencode_v25_chr22.gtf.pkl.gz\",\n",
    " }"
   ]
  },
  {
   "cell_type": "markdown",
   "metadata": {},
   "source": [
    "You will have noticed that the `intervals_file` argument was not defined as this will be used by the variant effect predictor function. Reminder: This is an excerpt of the `dataloader.yaml`:\n",
    "\n",
    "```YAML\n",
    "args:\n",
    "    intervals_file:\n",
    "        ...\n",
    "    fasta_file:\n",
    "        ...\n",
    "    gtf_file:\n",
    "        ...\n",
    "    preproc_transformer:\n",
    "        ...\n",
    "    target_file:\n",
    "        ...\n",
    "        optional: True\n",
    "...\n",
    "postprocessing:\n",
    "    - type: var_effect_prediction\n",
    "      args:\n",
    "          bed_input:\n",
    "            - intervals_file\n",
    "\n",
    "```\n",
    "\n",
    "Now it is time to actually add in the vcf file we want to use:"
   ]
  },
  {
   "cell_type": "code",
   "execution_count": null,
   "metadata": {
    "collapsed": true
   },
   "outputs": [],
   "source": [
    "vcf_fpath = \"example_files/variants.vcf\"\n",
    "out_vcf_fpath = \"variants_pred.vcf\""
   ]
  },
  {
   "cell_type": "markdown",
   "metadata": {},
   "source": [
    "## Prediction\n",
    "After loading the model, the dataloader and defining which input files should be used, we need to add in a few more arguments:\n",
    "\n",
    "* The batch size for prediction - this will be limited by the available memory\n",
    "* Additional parameters for the evaluation function - here ISM is used (the only one which is supported at the moment), which can calculate the effect based on the difference (`\"diff\"`) or based on log odds ratios of predictions (`\"log_odds\"`)."
   ]
  },
  {
   "cell_type": "code",
   "execution_count": null,
   "metadata": {
    "collapsed": true
   },
   "outputs": [],
   "source": [
    "with cd(model.source_dir):\n",
    "    res = predict_snvs(model, vcf_fpath, dataloader_args=dataloader_arguments,\n",
    "                       dataloader=Dataloader, batch_size=32,\n",
    "                       evaluation_function_kwargs={\"diff_type\": \"diff\"},\n",
    "                       out_vcf_fpath=out_vcf_fpath)"
   ]
  },
  {
   "cell_type": "markdown",
   "metadata": {},
   "source": [
    "This will return a dictionary with the predictions from the model given the query VCF. At the moment only SNVs are predicted and no indels. If an output VCF path is given the results will be integrated into the input VCF-file in the `INFO` tag."
   ]
  },
  {
   "cell_type": "code",
   "execution_count": null,
   "metadata": {},
   "outputs": [],
   "source": [
    ""
   ]
  }
 ],
 "metadata": {
  "kernelspec": {
   "display_name": "Python 2",
   "language": "python",
   "name": "python2"
  },
  "language_info": {
   "codemirror_mode": {
    "name": "ipython",
    "version": 2.0
   },
   "file_extension": ".py",
   "mimetype": "text/x-python",
   "name": "python",
   "nbconvert_exporter": "python",
   "pygments_lexer": "ipython2",
   "version": "2.7.13"
  }
 },
 "nbformat": 4,
 "nbformat_minor": 0
}