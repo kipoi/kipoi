{
 "cells": [
  {
   "cell_type": "markdown",
   "metadata": {},
   "source": [
    "# Using Kipoi from R\n",
    "\n",
    "Thanks to the [reticulate](https://github.com/rstudio/reticulate) R package from RStudio, it is possible to easily call python functions from R. Hence one can use kipoi python API from R. This tutorial will show how to do that.\n",
    "\n",
    "Make sure you have git-lfs and Kipoi correctly installed: \n",
    "\n",
    "1. Install git-lfs\n",
    "    - `conda install -c conda-forge git-lfs && git lfs install` (alternatively see <https://git-lfs.github.com/>)\n",
    "2. Install kipoi\n",
    "    - `pip install kipoi`\n",
    "    \n",
    "    \n",
    "Please read [docs/using/getting started](http://kipoi.org/docs/using/01_Getting_started/) before going through this notebook."
   ]
  },
  {
   "cell_type": "markdown",
   "metadata": {},
   "source": [
    "## Install and load `reticulate`\n",
    "\n",
    "Make sure you have the reticulate R package installed"
   ]
  },
  {
   "cell_type": "code",
   "execution_count": 1,
   "metadata": {},
   "outputs": [],
   "source": [
    "# install.packages(\"reticulate\")"
   ]
  },
  {
   "cell_type": "code",
   "execution_count": 2,
   "metadata": {},
   "outputs": [],
   "source": [
    "library(reticulate)"
   ]
  },
  {
   "cell_type": "markdown",
   "metadata": {},
   "source": [
    "## Reticulate quick intro\n",
    "\n",
    "\n",
    "In general, using Kipoi from R is almost the same as using it from Python: instead of using `object.method()` or `object.attribute` as in python, use `$`: `object$method()`, `object$attribute`. "
   ]
  },
  {
   "cell_type": "code",
   "execution_count": 3,
   "metadata": {},
   "outputs": [
    {
     "data": {
      "text/html": [
       "'/tmp'"
      ],
      "text/latex": [
       "'/tmp'"
      ],
      "text/markdown": [
       "'/tmp'"
      ],
      "text/plain": [
       "[1] \"/tmp\""
      ]
     },
     "metadata": {},
     "output_type": "display_data"
    }
   ],
   "source": [
    "# short reticulate example \n",
    "os <- import(\"os\")\n",
    "os$chdir(\"/tmp\")\n",
    "os$getcwd()"
   ]
  },
  {
   "cell_type": "markdown",
   "metadata": {},
   "source": [
    "### Type mapping R <-> python\n",
    "\n",
    "Reticulate translates objects between R and python in the following way:\n",
    "\n",
    "| R                      | Python            | Examples                                    |\n",
    "|------------------------|-------------------|---------------------------------------------|\n",
    "| Single-element vector  | Scalar            | `1`, `1L`, `TRUE`, `\"foo\"`                  |\n",
    "| Multi-element vector   | List              | `c(1.0, 2.0, 3.0)`, `c(1L, 2L, 3L)`         |\n",
    "| List of multiple types | Tuple             | `list(1L, TRUE, \"foo\")`                     |\n",
    "| Named list             | Dict              | `list(a = 1L, b = 2.0)`, `dict(x = x_data)` |\n",
    "| Matrix/Array           | NumPy ndarray     | `matrix(c(1,2,3,4), nrow = 2, ncol = 2)`    |\n",
    "| Function               | Python function   | `function(x) x + 1`                         |\n",
    "| NULL, TRUE, FALSE      | None, True, False | `NULL`, `TRUE`, `FALSE`                     |\n",
    "\n",
    "\n",
    "For more info on reticulate, please visit https://github.com/rstudio/reticulate/."
   ]
  },
  {
   "cell_type": "markdown",
   "metadata": {},
   "source": [
    "## Setup the python environment\n",
    "\n",
    "With `reticulate::py_config()` you can check if the python configuration used by reticulate is correct. You can can also choose to use a different conda environment with `use_condaenv(...)`. This comes handy when using different models depending on different conda environments."
   ]
  },
  {
   "cell_type": "code",
   "execution_count": 4,
   "metadata": {},
   "outputs": [
    {
     "data": {
      "text/plain": [
       "python:         /home/avsec/bin/anaconda3/bin/python\n",
       "libpython:      /home/avsec/bin/anaconda3/lib/libpython3.6m.so\n",
       "pythonhome:     /home/avsec/bin/anaconda3:/home/avsec/bin/anaconda3\n",
       "version:        3.6.3 |Anaconda custom (64-bit)| (default, Oct 13 2017, 12:02:49)  [GCC 7.2.0]\n",
       "numpy:          /home/avsec/bin/anaconda3/lib/python3.6/site-packages/numpy\n",
       "numpy_version:  1.14.0\n",
       "os:             /home/avsec/bin/anaconda3/lib/python3.6/os.py\n",
       "\n",
       "python versions found: \n",
       " /home/avsec/bin/anaconda3/bin/python\n",
       " /usr/bin/python\n",
       " /usr/bin/python3"
      ]
     },
     "metadata": {},
     "output_type": "display_data"
    }
   ],
   "source": [
    "reticulate::py_config()"
   ]
  },
  {
   "cell_type": "markdown",
   "metadata": {},
   "source": [
    "List all conda environments:\n",
    "\n",
    "```R\n",
    "reticulate::conda_list()\n",
    "```\n",
    "\n",
    "Create a new conda environment for the model:\n",
    "\n",
    "```\n",
    "$ kipoi env create HAL\n",
    "```\n",
    "\n",
    "Use that environment in R:\n",
    "\n",
    "```R\n",
    "reticulate::use_condaenv(\"kipoi-HAL')\n",
    "```"
   ]
  },
  {
   "cell_type": "markdown",
   "metadata": {},
   "source": [
    "## Load kipoi"
   ]
  },
  {
   "cell_type": "code",
   "execution_count": 5,
   "metadata": {},
   "outputs": [],
   "source": [
    "kipoi <- import(\"kipoi\")"
   ]
  },
  {
   "cell_type": "markdown",
   "metadata": {},
   "source": [
    "### List models"
   ]
  },
  {
   "cell_type": "code",
   "execution_count": 6,
   "metadata": {},
   "outputs": [
    {
     "data": {
      "text/plain": [
       "  source                             model version  \\\n",
       "0  kipoi                      DeepSEAKeras     0.1   \n",
       "1  kipoi                     extended_coda     0.1   \n",
       "2  kipoi      DeepCpG_DNA/Hou2016_mESC_dna   1.0.4   \n",
       "3  kipoi  DeepCpG_DNA/Smallwood2014_2i_dna   1.0.4   \n",
       "4  kipoi     DeepCpG_DNA/Hou2016_HepG2_dna   1.0.4   \n",
       "\n",
       "                                             authors  \\\n",
       "0  [Author(name='Jian Zhou', github=None, email=N...   \n",
       "1  [Author(name='Pang Wei Koh', github='kohpangwe...   \n",
       "2  [Author(name='Christof Angermueller', github='...   \n",
       "3  [Author(name='Christof Angermueller', github='...   \n",
       "4  [Author(name='Christof Angermueller', github='...   \n",
       "\n",
       "                                        contributors  \\\n",
       "0  [Author(name='Lara Urban', github='LaraUrban',...   \n",
       "1  [Author(name='Johnny Israeli', github='jisrael...   \n",
       "2  [Author(name='Roman Kreuzhuber', github='krrom...   \n",
       "3  [Author(name='Roman Kreuzhuber', github='krrom...   \n",
       "4  [Author(name='Roman Kreuzhuber', github='krrom...   \n",
       "\n",
       "                                                 doc   type  \\\n",
       "0  This CNN is based on the DeepSEA model from Zh...  keras   \n",
       "1  Single bp resolution ChIP-seq denoising - http...  keras   \n",
       "2  This is the extraction of the DNA-part of the ...  keras   \n",
       "3  This is the extraction of the DNA-part of the ...  keras   \n",
       "4  This is the extraction of the DNA-part of the ...  keras   \n",
       "\n",
       "                 inputs                                            targets  \\\n",
       "0                   seq                                     TFBS_DHS_probs   \n",
       "1  [H3K27AC_subsampled]                                          [H3K27ac]   \n",
       "2                 [dna]  [cpg/mESC1, cpg/mESC2, cpg/mESC3, cpg/mESC4, c...   \n",
       "3                 [dna]  [cpg/BS24_1_2I, cpg/BS24_2_2I, cpg/BS24_4_2I, ...   \n",
       "4                 [dna]  [cpg/HepG21, cpg/HepG22, cpg/HepG23, cpg/HepG2...   \n",
       "\n",
       "   postproc_score_variants license  \\\n",
       "0                     True     MIT   \n",
       "1                    False     MIT   \n",
       "2                     True     MIT   \n",
       "3                     True     MIT   \n",
       "4                     True     MIT   \n",
       "\n",
       "                                             cite_as  \\\n",
       "0                 https://doi.org/10.1038/nmeth.3547   \n",
       "1      https://doi.org/10.1093/bioinformatics/btx243   \n",
       "2  https://doi.org/10.1186/s13059-017-1189-z, htt...   \n",
       "3  https://doi.org/10.1186/s13059-017-1189-z, htt...   \n",
       "4  https://doi.org/10.1186/s13059-017-1189-z, htt...   \n",
       "\n",
       "                                          trained_on  \\\n",
       "0  ENCODE and Roadmap Epigenomics chromatin profi...   \n",
       "1  Described in https://academic.oup.com/bioinfor...   \n",
       "2  scBS-seq and scRRBS-seq datasets, https://geno...   \n",
       "3  scBS-seq and scRRBS-seq datasets, https://geno...   \n",
       "4  scBS-seq and scRRBS-seq datasets, https://geno...   \n",
       "\n",
       "                                  training_procedure  \\\n",
       "0  https://www.nature.com/articles/nmeth.3547#met...   \n",
       "1  Described in https://academic.oup.com/bioinfor...   \n",
       "2  Described in https://genomebiology.biomedcentr...   \n",
       "3  Described in https://genomebiology.biomedcentr...   \n",
       "4  Described in https://genomebiology.biomedcentr...   \n",
       "\n",
       "                                                tags  \n",
       "0  [Histone modification, DNA binding, DNA access...  \n",
       "1                             [Histone modification]  \n",
       "2                                  [DNA methylation]  \n",
       "3                                  [DNA methylation]  \n",
       "4                                  [DNA methylation]  "
      ]
     },
     "metadata": {},
     "output_type": "display_data"
    }
   ],
   "source": [
    "kipoi$list_models()$head()"
   ]
  },
  {
   "cell_type": "markdown",
   "metadata": {},
   "source": [
    "`reticulate` currently doesn't support direct convertion from `pandas.DataFrame` to R's `data.frame`. Let's make a convenience function to create an R dataframe via matrix conversion."
   ]
  },
  {
   "cell_type": "code",
   "execution_count": 7,
   "metadata": {},
   "outputs": [],
   "source": [
    "#' List models as an R data.frame\n",
    "kipoi_list_models <- function() {\n",
    "    df_models <- kipoi$list_models()\n",
    "    df <- data.frame(df_models$as_matrix())\n",
    "    colnames(df) = df_models$columns$tolist()\n",
    "    return(df)\n",
    "   \n",
    "}"
   ]
  },
  {
   "cell_type": "code",
   "execution_count": 8,
   "metadata": {},
   "outputs": [],
   "source": [
    "df <- kipoi_list_models()"
   ]
  },
  {
   "cell_type": "code",
   "execution_count": 9,
   "metadata": {},
   "outputs": [
    {
     "data": {
      "text/html": [
       "<table>\n",
       "<thead><tr><th scope=col>source</th><th scope=col>model</th><th scope=col>version</th><th scope=col>authors</th><th scope=col>contributors</th><th scope=col>doc</th><th scope=col>type</th><th scope=col>inputs</th><th scope=col>targets</th><th scope=col>postproc_score_variants</th><th scope=col>license</th><th scope=col>cite_as</th><th scope=col>trained_on</th><th scope=col>training_procedure</th><th scope=col>tags</th></tr></thead>\n",
       "<tbody>\n",
       "\t<tr><td>kipoi                                                                                                                                                                                                                                                                                                                                                                                                                                                                              </td><td>DeepSEAKeras                                                                                                                                                                                                                                                                                                                                                                                                                                                                       </td><td>0.1                                                                                                                                                                                                                                                                                                                                                                                                                                                                                </td><td>&lt;environment: 0x556afc757e38&gt;                                                                                                                                                                                                                                                                                                                                                                                                                                                </td><td>&lt;environment: 0x556afbb0d538&gt;                                                                                                                                                                                                                                                                                                                                                                                                                                                </td><td>This CNN is based on the DeepSEA model from Zhou and Troyanskaya (2015). It categorically predicts 918 cell type-specific epigenetic features from DNA sequence. The model is trained on publicly available ENCODE and Roadmap Epigenomics data and on DNA sequences of size 1000bp. The input of the tensor has to be (N, 1000, 4) for N samples, 1000bp window size and 4 nucleotides. Per sample, 918 probabilities of showing a specific epigentic feature will be predicted.\n",
       "</td><td>keras                                                                                                                                                                                                                                                                                                                                                                                                                                                                              </td><td>seq                                                                                                                                                                                                                                                                                                                                                                                                                                                                                </td><td>TFBS_DHS_probs                                                                                                                                                                                                                                                                                                                                                                                                                                                                     </td><td>TRUE                                                                                                                                                                                                                                                                                                                                                                                                                                                                               </td><td>MIT                                                                                                                                                                                                                                                                                                                                                                                                                                                                                </td><td>https://doi.org/10.1038/nmeth.3547                                                                                                                                                                                                                                                                                                                                                                                                                                                 </td><td>ENCODE and Roadmap Epigenomics chromatin profiles https://www.nature.com/articles/nmeth.3547#methods                                                                                                                                                                                                                                                                                                                                                                               </td><td>https://www.nature.com/articles/nmeth.3547#methods                                                                                                                                                                                                                                                                                                                                                                                                                                 </td><td>&lt;environment: 0x556afcddfd50&gt;                                                                                                                                                                                                                                                                                                                                                                                                                                                </td></tr>\n",
       "\t<tr><td>kipoi                                                                                    </td><td>extended_coda                                                                            </td><td>0.1                                                                                      </td><td>&lt;environment: 0x556afc764260&gt;                                                      </td><td>&lt;environment: 0x556afbaff708&gt;                                                      </td><td>Single bp resolution ChIP-seq denoising - https://github.com/kundajelab/coda             </td><td>keras                                                                                    </td><td>H3K27AC_subsampled                                                                       </td><td>H3K27ac                                                                                  </td><td>FALSE                                                                                    </td><td>MIT                                                                                      </td><td>https://doi.org/10.1093/bioinformatics/btx243                                            </td><td>Described in https://academic.oup.com/bioinformatics/article/33/14/i225/3953958#100805343</td><td>Described in https://academic.oup.com/bioinformatics/article/33/14/i225/3953958#100805343</td><td>&lt;environment: 0x556afcde7f60&gt;                                                      </td></tr>\n",
       "</tbody>\n",
       "</table>\n"
      ],
      "text/latex": [
       "\\begin{tabular}{r|lllllllllllllll}\n",
       " source & model & version & authors & contributors & doc & type & inputs & targets & postproc\\_score\\_variants & license & cite\\_as & trained\\_on & training\\_procedure & tags\\\\\n",
       "\\hline\n",
       "\t kipoi                                                                                                                                                                                                                                                                                                                                                                                                                                                                               & DeepSEAKeras                                                                                                                                                                                                                                                                                                                                                                                                                                                                        & 0.1                                                                                                                                                                                                                                                                                                                                                                                                                                                                                 & <environment: 0x556afc757e38>                                                                                                                                                                                                                                                                                                                                                                                                                                                       & <environment: 0x556afbb0d538>                                                                                                                                                                                                                                                                                                                                                                                                                                                       & This CNN is based on the DeepSEA model from Zhou and Troyanskaya (2015). It categorically predicts 918 cell type-specific epigenetic features from DNA sequence. The model is trained on publicly available ENCODE and Roadmap Epigenomics data and on DNA sequences of size 1000bp. The input of the tensor has to be (N, 1000, 4) for N samples, 1000bp window size and 4 nucleotides. Per sample, 918 probabilities of showing a specific epigentic feature will be predicted.\n",
       " & keras                                                                                                                                                                                                                                                                                                                                                                                                                                                                               & seq                                                                                                                                                                                                                                                                                                                                                                                                                                                                                 & TFBS\\_DHS\\_probs                                                                                                                                                                                                                                                                                                                                                                                                                                                                  & TRUE                                                                                                                                                                                                                                                                                                                                                                                                                                                                                & MIT                                                                                                                                                                                                                                                                                                                                                                                                                                                                                 & https://doi.org/10.1038/nmeth.3547                                                                                                                                                                                                                                                                                                                                                                                                                                                  & ENCODE and Roadmap Epigenomics chromatin profiles https://www.nature.com/articles/nmeth.3547\\#methods                                                                                                                                                                                                                                                                                                                                                                              & https://www.nature.com/articles/nmeth.3547\\#methods                                                                                                                                                                                                                                                                                                                                                                                                                                & <environment: 0x556afcddfd50>                                                                                                                                                                                                                                                                                                                                                                                                                                                      \\\\\n",
       "\t kipoi                                                                                       & extended\\_coda                                                                             & 0.1                                                                                         & <environment: 0x556afc764260>                                                               & <environment: 0x556afbaff708>                                                               & Single bp resolution ChIP-seq denoising - https://github.com/kundajelab/coda                & keras                                                                                       & H3K27AC\\_subsampled                                                                        & H3K27ac                                                                                     & FALSE                                                                                       & MIT                                                                                         & https://doi.org/10.1093/bioinformatics/btx243                                               & Described in https://academic.oup.com/bioinformatics/article/33/14/i225/3953958\\#100805343 & Described in https://academic.oup.com/bioinformatics/article/33/14/i225/3953958\\#100805343 & <environment: 0x556afcde7f60>                                                              \\\\\n",
       "\\end{tabular}\n"
      ],
      "text/markdown": [
       "\n",
       "source | model | version | authors | contributors | doc | type | inputs | targets | postproc_score_variants | license | cite_as | trained_on | training_procedure | tags | \n",
       "|---|---|\n",
       "| kipoi                                                                                                                                                                                                                                                                                                                                                                                                                                                                               | DeepSEAKeras                                                                                                                                                                                                                                                                                                                                                                                                                                                                        | 0.1                                                                                                                                                                                                                                                                                                                                                                                                                                                                                 | <environment: 0x556afc757e38>                                                                                                                                                                                                                                                                                                                                                                                                                                                       | <environment: 0x556afbb0d538>                                                                                                                                                                                                                                                                                                                                                                                                                                                       | This CNN is based on the DeepSEA model from Zhou and Troyanskaya (2015). It categorically predicts 918 cell type-specific epigenetic features from DNA sequence. The model is trained on publicly available ENCODE and Roadmap Epigenomics data and on DNA sequences of size 1000bp. The input of the tensor has to be (N, 1000, 4) for N samples, 1000bp window size and 4 nucleotides. Per sample, 918 probabilities of showing a specific epigentic feature will be predicted.\n",
       " | keras                                                                                                                                                                                                                                                                                                                                                                                                                                                                               | seq                                                                                                                                                                                                                                                                                                                                                                                                                                                                                 | TFBS_DHS_probs                                                                                                                                                                                                                                                                                                                                                                                                                                                                      | TRUE                                                                                                                                                                                                                                                                                                                                                                                                                                                                                | MIT                                                                                                                                                                                                                                                                                                                                                                                                                                                                                 | https://doi.org/10.1038/nmeth.3547                                                                                                                                                                                                                                                                                                                                                                                                                                                  | ENCODE and Roadmap Epigenomics chromatin profiles https://www.nature.com/articles/nmeth.3547#methods                                                                                                                                                                                                                                                                                                                                                                                | https://www.nature.com/articles/nmeth.3547#methods                                                                                                                                                                                                                                                                                                                                                                                                                                  | <environment: 0x556afcddfd50>                                                                                                                                                                                                                                                                                                                                                                                                                                                       | \n",
       "| kipoi                                                                                     | extended_coda                                                                             | 0.1                                                                                       | <environment: 0x556afc764260>                                                             | <environment: 0x556afbaff708>                                                             | Single bp resolution ChIP-seq denoising - https://github.com/kundajelab/coda              | keras                                                                                     | H3K27AC_subsampled                                                                        | H3K27ac                                                                                   | FALSE                                                                                     | MIT                                                                                       | https://doi.org/10.1093/bioinformatics/btx243                                             | Described in https://academic.oup.com/bioinformatics/article/33/14/i225/3953958#100805343 | Described in https://academic.oup.com/bioinformatics/article/33/14/i225/3953958#100805343 | <environment: 0x556afcde7f60>                                                             | \n",
       "\n",
       "\n"
      ],
      "text/plain": [
       "  source model         version authors                      \n",
       "1 kipoi  DeepSEAKeras  0.1     <environment: 0x556afc757e38>\n",
       "2 kipoi  extended_coda 0.1     <environment: 0x556afc764260>\n",
       "  contributors                 \n",
       "1 <environment: 0x556afbb0d538>\n",
       "2 <environment: 0x556afbaff708>\n",
       "  doc                                                                                                                                                                                                                                                                                                                                                                                                                                                                                \n",
       "1 This CNN is based on the DeepSEA model from Zhou and Troyanskaya (2015). It categorically predicts 918 cell type-specific epigenetic features from DNA sequence. The model is trained on publicly available ENCODE and Roadmap Epigenomics data and on DNA sequences of size 1000bp. The input of the tensor has to be (N, 1000, 4) for N samples, 1000bp window size and 4 nucleotides. Per sample, 918 probabilities of showing a specific epigentic feature will be predicted.\\n\n",
       "2 Single bp resolution ChIP-seq denoising - https://github.com/kundajelab/coda                                                                                                                                                                                                                                                                                                                                                                                                       \n",
       "  type  inputs             targets        postproc_score_variants license\n",
       "1 keras seq                TFBS_DHS_probs TRUE                    MIT    \n",
       "2 keras H3K27AC_subsampled H3K27ac        FALSE                   MIT    \n",
       "  cite_as                                      \n",
       "1 https://doi.org/10.1038/nmeth.3547           \n",
       "2 https://doi.org/10.1093/bioinformatics/btx243\n",
       "  trained_on                                                                                          \n",
       "1 ENCODE and Roadmap Epigenomics chromatin profiles https://www.nature.com/articles/nmeth.3547#methods\n",
       "2 Described in https://academic.oup.com/bioinformatics/article/33/14/i225/3953958#100805343           \n",
       "  training_procedure                                                                       \n",
       "1 https://www.nature.com/articles/nmeth.3547#methods                                       \n",
       "2 Described in https://academic.oup.com/bioinformatics/article/33/14/i225/3953958#100805343\n",
       "  tags                         \n",
       "1 <environment: 0x556afcddfd50>\n",
       "2 <environment: 0x556afcde7f60>"
      ]
     },
     "metadata": {},
     "output_type": "display_data"
    }
   ],
   "source": [
    "head(df, 2)"
   ]
  },
  {
   "cell_type": "markdown",
   "metadata": {},
   "source": [
    "### Get the kipoi model and make a prediction for the example files\n",
    "\n",
    "To run the following example, make sure you have all the dependencies installed. Run:\n",
    "\n",
    "```R\n",
    "kipoi$install_model_requirements(\"MaxEntScan/3prime\")\n",
    "```\n",
    "from R or\n",
    "```bash\n",
    "kipoi env install MaxEntScan/3prime\n",
    "```\n",
    "from the command-line. This will install all the required dependencies for both, the model and the dataloader."
   ]
  },
  {
   "cell_type": "code",
   "execution_count": null,
   "metadata": {},
   "outputs": [],
   "source": [
    "kipoi$install_model_requirements(\"MaxEntScan/3prime\")"
   ]
  },
  {
   "cell_type": "code",
   "execution_count": 10,
   "metadata": {},
   "outputs": [],
   "source": [
    "model <- kipoi$get_model(\"MaxEntScan/3prime\")"
   ]
  },
  {
   "cell_type": "code",
   "execution_count": 11,
   "metadata": {},
   "outputs": [],
   "source": [
    "predictions <- model$pipeline$predict_example()"
   ]
  },
  {
   "cell_type": "code",
   "execution_count": 12,
   "metadata": {},
   "outputs": [
    {
     "data": {
      "text/html": [
       "<ol class=list-inline>\n",
       "\t<li>6.72899227874919</li>\n",
       "\t<li>6.15729433240656</li>\n",
       "\t<li>7.14095214875511</li>\n",
       "\t<li>2.13760519765451</li>\n",
       "\t<li>-9.52033554891735</li>\n",
       "\t<li>9.54342300799607</li>\n",
       "</ol>\n"
      ],
      "text/latex": [
       "\\begin{enumerate*}\n",
       "\\item 6.72899227874919\n",
       "\\item 6.15729433240656\n",
       "\\item 7.14095214875511\n",
       "\\item 2.13760519765451\n",
       "\\item -9.52033554891735\n",
       "\\item 9.54342300799607\n",
       "\\end{enumerate*}\n"
      ],
      "text/markdown": [
       "1. 6.72899227874919\n",
       "2. 6.15729433240656\n",
       "3. 7.14095214875511\n",
       "4. 2.13760519765451\n",
       "5. -9.52033554891735\n",
       "6. 9.54342300799607\n",
       "\n",
       "\n"
      ],
      "text/plain": [
       "[1]  6.728992  6.157294  7.140952  2.137605 -9.520336  9.543423"
      ]
     },
     "metadata": {},
     "output_type": "display_data"
    }
   ],
   "source": [
    "head(predictions)"
   ]
  },
  {
   "cell_type": "markdown",
   "metadata": {},
   "source": [
    "### Use the model and dataloader independently"
   ]
  },
  {
   "cell_type": "code",
   "execution_count": 13,
   "metadata": {},
   "outputs": [],
   "source": [
    "# Get the dataloader\n",
    "setwd('~/.kipoi/models/MaxEntScan/3prime')\n",
    "\n",
    "dl <- model$default_dataloader(gtf_file='example_files/hg19.chr22.gtf', fasta_file='example_files/hg19.chr22.fa')"
   ]
  },
  {
   "cell_type": "code",
   "execution_count": 14,
   "metadata": {},
   "outputs": [],
   "source": [
    "# get a batch iterator\n",
    "it <- dl$batch_iter(batch_size=4)"
   ]
  },
  {
   "cell_type": "code",
   "execution_count": 15,
   "metadata": {},
   "outputs": [
    {
     "data": {
      "text/plain": [
       "DataLoaderIter"
      ]
     },
     "metadata": {},
     "output_type": "display_data"
    }
   ],
   "source": [
    "it"
   ]
  },
  {
   "cell_type": "code",
   "execution_count": 16,
   "metadata": {},
   "outputs": [],
   "source": [
    "# Retrieve a batch of data\n",
    "batch <- iter_next(it)"
   ]
  },
  {
   "cell_type": "code",
   "execution_count": 17,
   "metadata": {},
   "outputs": [
    {
     "name": "stdout",
     "output_type": "stream",
     "text": [
      "List of 2\n",
      " $ inputs  : chr [1:4(1d)] \"TCTTCTCTCCCCAATCTCAGCCT\" \"ATTCTCAGTTGTCTTTACAGTTT\" \"CCTTAGTTTTATTTTTTCAGAGT\" \"ATTTTTGTTTTTAGACATAGGAT\"\n",
      " $ metadata:List of 5\n",
      "  ..$ geneID      : chr [1:4(1d)] \"ENSG00000233866\" \"ENSG00000223875\" \"ENSG00000223875\" \"ENSG00000223875\"\n",
      "  ..$ transcriptID: chr [1:4(1d)] \"ENST00000424770\" \"ENST00000420638\" \"ENST00000420638\" \"ENST00000420638\"\n",
      "  ..$ biotype     : chr [1:4(1d)] \"lincRNA\" \"pseudogene\" \"pseudogene\" \"pseudogene\"\n",
      "  ..$ order       : num [1:4(1d)] 0 0 1 2\n",
      "  ..$ ranges      :List of 5\n",
      "  .. ..$ chr   : chr [1:4(1d)] \"22\" \"22\" \"22\" \"22\"\n",
      "  .. ..$ start : num [1:4(1d)] 16062790 16118910 16101471 16100645\n",
      "  .. ..$ end   : num [1:4(1d)] 16062813 16118933 16101494 16100668\n",
      "  .. ..$ id    : chr [1:4(1d)] \"ENSG00000233866\" \"ENSG00000223875\" \"ENSG00000223875\" \"ENSG00000223875\"\n",
      "  .. ..$ strand: chr [1:4(1d)] \"+\" \"-\" \"-\" \"-\"\n"
     ]
    }
   ],
   "source": [
    "str(batch)"
   ]
  },
  {
   "cell_type": "code",
   "execution_count": 18,
   "metadata": {},
   "outputs": [
    {
     "data": {
      "text/html": [
       "<ol class=list-inline>\n",
       "\t<li>6.72899227874919</li>\n",
       "\t<li>6.15729433240656</li>\n",
       "\t<li>7.14095214875511</li>\n",
       "\t<li>2.13760519765451</li>\n",
       "</ol>\n"
      ],
      "text/latex": [
       "\\begin{enumerate*}\n",
       "\\item 6.72899227874919\n",
       "\\item 6.15729433240656\n",
       "\\item 7.14095214875511\n",
       "\\item 2.13760519765451\n",
       "\\end{enumerate*}\n"
      ],
      "text/markdown": [
       "1. 6.72899227874919\n",
       "2. 6.15729433240656\n",
       "3. 7.14095214875511\n",
       "4. 2.13760519765451\n",
       "\n",
       "\n"
      ],
      "text/plain": [
       "[1] 6.728992 6.157294 7.140952 2.137605"
      ]
     },
     "metadata": {},
     "output_type": "display_data"
    }
   ],
   "source": [
    "# make the prediction with a model\n",
    "model$predict_on_batch(batch$inputs)"
   ]
  },
  {
   "cell_type": "markdown",
   "metadata": {},
   "source": [
    "## Troubleshooting\n",
    "\n",
    "Since Kipoi is not natively implemented in R, the error messages are cryptic and hence debugging can be a bit of a pain. \n",
    "\n",
    "### Run the same code in python or CLI\n",
    "\n",
    "When you encounter an error, try to run the analogous code snippet from the command line or python. A good starting point is to first run\n",
    "\n",
    "```\n",
    "$ kipoi test MaxEntScan/3prime --source=kipoi\n",
    "```\n",
    "\n",
    "from the command-line first. \n",
    "\n",
    "### Dependency issues\n",
    "\n",
    "It's very likely that the error will be due to missing dependencies. Also note that some models will work only with python 3 or python 2. To install all the required dependencies for the model, run:\n",
    "\n",
    "```\n",
    "$ kipoi env install MaxEntScan/3prime\n",
    "```\n",
    "\n",
    "This will install the dependencies into your current conda environment. If you wish to create a new environment with all the dependencies installed, run\n",
    "\n",
    "```\n",
    "$ kipoi env create MaxEntScan/3prime\n",
    "```\n",
    "\n",
    "To use that environment in R, run:\n",
    "\n",
    "```R\n",
    "use_condaenv(\"kipoi-MaxEntScan__3prime\")\n",
    "```\n",
    "\n",
    "Make sure you run that code snippet right after importing the `reticulate` library (i.e. make sure you run it before `kipoi <- import('kipoi')`)\n",
    "\n",
    "### Float/Double type issues\n",
    "\n",
    "When using a pytorch model: `DeepSEA/predict`"
   ]
  },
  {
   "cell_type": "code",
   "execution_count": null,
   "metadata": {},
   "outputs": [],
   "source": [
    "kipoi$install_model_requirements(\"DeepSEA/predict\")"
   ]
  },
  {
   "cell_type": "code",
   "execution_count": 19,
   "metadata": {},
   "outputs": [],
   "source": [
    "# Get the dataloader\n",
    "setwd('~/.kipoi/models/DeepSEA/predict')\n",
    "model <- kipoi$get_model(\"DeepSEA/predict\")\n",
    "dl <- model$default_dataloader(intervals_file='example_files/intervals.bed', fasta_file='example_files/hg38_chr22.fa')\n",
    "# get a batch iterator\n",
    "it <- dl$batch_iter(batch_size=4)\n",
    "# predict for a batch\n",
    "batch <- iter_next(it)"
   ]
  },
  {
   "cell_type": "code",
   "execution_count": 20,
   "metadata": {},
   "outputs": [],
   "source": [
    "# model$predict_on_batch(batch$inputs)"
   ]
  },
  {
   "cell_type": "markdown",
   "metadata": {},
   "source": [
    "We get an error:\n",
    "\n",
    "```\n",
    "Error in py_call_impl(callable, dots$args, dots$keywords): RuntimeError: Input type (CUDADoubleTensor) and weight type (CUDAFloatTensor) should be the same\n",
    "```\n",
    "\n",
    "This means that the feeded array is Double instead of Float."
   ]
  },
  {
   "cell_type": "markdown",
   "metadata": {},
   "source": [
    "R arrays are by default converted to float64 numpy dtype:"
   ]
  },
  {
   "cell_type": "code",
   "execution_count": 21,
   "metadata": {},
   "outputs": [
    {
     "data": {
      "text/plain": [
       "float64"
      ]
     },
     "metadata": {},
     "output_type": "display_data"
    }
   ],
   "source": [
    "np <- import(\"numpy\", convert=FALSE)\n",
    "np$array(0.1)$dtype"
   ]
  },
  {
   "cell_type": "code",
   "execution_count": 22,
   "metadata": {},
   "outputs": [
    {
     "data": {
      "text/plain": [
       "float64"
      ]
     },
     "metadata": {},
     "output_type": "display_data"
    }
   ],
   "source": [
    "np$array(batch$inputs)$dtype"
   ]
  },
  {
   "cell_type": "markdown",
   "metadata": {},
   "source": [
    "To fix this, we need to explicitly convert them to `float32` before passing the batch to the model:"
   ]
  },
  {
   "cell_type": "code",
   "execution_count": 23,
   "metadata": {},
   "outputs": [
    {
     "data": {
      "text/html": [
       "<table>\n",
       "<tbody>\n",
       "\t<tr><td>0.003497796 </td><td>0.003443634 </td><td>0.00475722  </td><td>0.006346597 </td><td>0.01217456  </td><td>0.008442441 </td><td>0.005778539 </td><td>0.007471715 </td><td>0.005652952 </td><td>0.009384833 </td><td>⋯           </td><td>0.0003717453</td><td>0.001310135 </td><td>0.01009644  </td><td>0.008201431 </td><td>0.0004381537</td><td>0.007473897 </td><td>0.009021533 </td><td>0.003500142 </td><td>0.003842842 </td><td>0.0003947651</td></tr>\n",
       "\t<tr><td>0.003497796 </td><td>0.003443634 </td><td>0.00475722  </td><td>0.006346597 </td><td>0.01217456  </td><td>0.008442441 </td><td>0.005778539 </td><td>0.007471715 </td><td>0.005652952 </td><td>0.009384833 </td><td>⋯           </td><td>0.0003717453</td><td>0.001310135 </td><td>0.01009644  </td><td>0.008201431 </td><td>0.0004381537</td><td>0.007473897 </td><td>0.009021533 </td><td>0.003500142 </td><td>0.003842842 </td><td>0.0003947651</td></tr>\n",
       "\t<tr><td>0.003497796 </td><td>0.003443634 </td><td>0.00475722  </td><td>0.006346597 </td><td>0.01217456  </td><td>0.008442441 </td><td>0.005778539 </td><td>0.007471715 </td><td>0.005652952 </td><td>0.009384833 </td><td>⋯           </td><td>0.0003717453</td><td>0.001310135 </td><td>0.01009644  </td><td>0.008201431 </td><td>0.0004381537</td><td>0.007473897 </td><td>0.009021533 </td><td>0.003500142 </td><td>0.003842842 </td><td>0.0003947651</td></tr>\n",
       "\t<tr><td>0.003497796 </td><td>0.003443634 </td><td>0.00475722  </td><td>0.006346597 </td><td>0.01217456  </td><td>0.008442441 </td><td>0.005778539 </td><td>0.007471715 </td><td>0.005652952 </td><td>0.009384833 </td><td>⋯           </td><td>0.0003717453</td><td>0.001310135 </td><td>0.01009644  </td><td>0.008201431 </td><td>0.0004381537</td><td>0.007473897 </td><td>0.009021533 </td><td>0.003500142 </td><td>0.003842842 </td><td>0.0003947651</td></tr>\n",
       "</tbody>\n",
       "</table>\n"
      ],
      "text/latex": [
       "\\begin{tabular}{lllllllllllllllllllllllllllllllllllllllllllllllllllllllllllllllllllllllllllllllllllllllllllllllllllllllllllllllllllllllllllllllllllllllllllllllllllllllllllllllllllllllllllllllllllllllllllllllllllllllllllllllllllllllllllllllllllllllllllllllllllllllllllllllllllllllllllllllllllllllllllllllllllllllllllllllllllllllllllllllllllllllllllllllllllllllllllllllllllllllllllllllllllllllllllllllllllllllllllllllllllllllllllllllllllllllllllllllllllllllllllllllllllllllllllllllllllllllllllllllllllllllllllllllllllllllllllllllllllllllllllllllllllllllllllllllllllllllllllllllllllllllllllllllllllllllllllllllllllllllllllllllllllllllllllllllllllllllllllllllllllllllllllllllllllllllllllllllllllllllllllllllllllllllllllllllllllllllllllllllllllllllllllllllllllllllllllllllllllllllllllllllllllllllllllllllllllllllllllllllllllllllllllllllllllllllllllllllllllllllllllllllllllllllllllllllllllllllllllllllllllllllllllllllllllllllllllllllllllllll}\n",
       "\t 0.003497796  & 0.003443634  & 0.00475722   & 0.006346597  & 0.01217456   & 0.008442441  & 0.005778539  & 0.007471715  & 0.005652952  & 0.009384833  & ⋯            & 0.0003717453 & 0.001310135  & 0.01009644   & 0.008201431  & 0.0004381537 & 0.007473897  & 0.009021533  & 0.003500142  & 0.003842842  & 0.0003947651\\\\\n",
       "\t 0.003497796  & 0.003443634  & 0.00475722   & 0.006346597  & 0.01217456   & 0.008442441  & 0.005778539  & 0.007471715  & 0.005652952  & 0.009384833  & ⋯            & 0.0003717453 & 0.001310135  & 0.01009644   & 0.008201431  & 0.0004381537 & 0.007473897  & 0.009021533  & 0.003500142  & 0.003842842  & 0.0003947651\\\\\n",
       "\t 0.003497796  & 0.003443634  & 0.00475722   & 0.006346597  & 0.01217456   & 0.008442441  & 0.005778539  & 0.007471715  & 0.005652952  & 0.009384833  & ⋯            & 0.0003717453 & 0.001310135  & 0.01009644   & 0.008201431  & 0.0004381537 & 0.007473897  & 0.009021533  & 0.003500142  & 0.003842842  & 0.0003947651\\\\\n",
       "\t 0.003497796  & 0.003443634  & 0.00475722   & 0.006346597  & 0.01217456   & 0.008442441  & 0.005778539  & 0.007471715  & 0.005652952  & 0.009384833  & ⋯            & 0.0003717453 & 0.001310135  & 0.01009644   & 0.008201431  & 0.0004381537 & 0.007473897  & 0.009021533  & 0.003500142  & 0.003842842  & 0.0003947651\\\\\n",
       "\\end{tabular}\n"
      ],
      "text/markdown": [
       "\n",
       "| 0.003497796  | 0.003443634  | 0.00475722   | 0.006346597  | 0.01217456   | 0.008442441  | 0.005778539  | 0.007471715  | 0.005652952  | 0.009384833  | ⋯            | 0.0003717453 | 0.001310135  | 0.01009644   | 0.008201431  | 0.0004381537 | 0.007473897  | 0.009021533  | 0.003500142  | 0.003842842  | 0.0003947651 | \n",
       "| 0.003497796  | 0.003443634  | 0.00475722   | 0.006346597  | 0.01217456   | 0.008442441  | 0.005778539  | 0.007471715  | 0.005652952  | 0.009384833  | ⋯            | 0.0003717453 | 0.001310135  | 0.01009644   | 0.008201431  | 0.0004381537 | 0.007473897  | 0.009021533  | 0.003500142  | 0.003842842  | 0.0003947651 | \n",
       "| 0.003497796  | 0.003443634  | 0.00475722   | 0.006346597  | 0.01217456   | 0.008442441  | 0.005778539  | 0.007471715  | 0.005652952  | 0.009384833  | ⋯            | 0.0003717453 | 0.001310135  | 0.01009644   | 0.008201431  | 0.0004381537 | 0.007473897  | 0.009021533  | 0.003500142  | 0.003842842  | 0.0003947651 | \n",
       "| 0.003497796  | 0.003443634  | 0.00475722   | 0.006346597  | 0.01217456   | 0.008442441  | 0.005778539  | 0.007471715  | 0.005652952  | 0.009384833  | ⋯            | 0.0003717453 | 0.001310135  | 0.01009644   | 0.008201431  | 0.0004381537 | 0.007473897  | 0.009021533  | 0.003500142  | 0.003842842  | 0.0003947651 | \n",
       "\n",
       "\n"
      ],
      "text/plain": [
       "     [,1]        [,2]        [,3]       [,4]        [,5]       [,6]       \n",
       "[1,] 0.003497796 0.003443634 0.00475722 0.006346597 0.01217456 0.008442441\n",
       "[2,] 0.003497796 0.003443634 0.00475722 0.006346597 0.01217456 0.008442441\n",
       "[3,] 0.003497796 0.003443634 0.00475722 0.006346597 0.01217456 0.008442441\n",
       "[4,] 0.003497796 0.003443634 0.00475722 0.006346597 0.01217456 0.008442441\n",
       "     [,7]        [,8]        [,9]        [,10]       [,11] [,12]       \n",
       "[1,] 0.005778539 0.007471715 0.005652952 0.009384833 ⋯     0.0003717453\n",
       "[2,] 0.005778539 0.007471715 0.005652952 0.009384833 ⋯     0.0003717453\n",
       "[3,] 0.005778539 0.007471715 0.005652952 0.009384833 ⋯     0.0003717453\n",
       "[4,] 0.005778539 0.007471715 0.005652952 0.009384833 ⋯     0.0003717453\n",
       "     [,13]       [,14]      [,15]       [,16]        [,17]       [,18]      \n",
       "[1,] 0.001310135 0.01009644 0.008201431 0.0004381537 0.007473897 0.009021533\n",
       "[2,] 0.001310135 0.01009644 0.008201431 0.0004381537 0.007473897 0.009021533\n",
       "[3,] 0.001310135 0.01009644 0.008201431 0.0004381537 0.007473897 0.009021533\n",
       "[4,] 0.001310135 0.01009644 0.008201431 0.0004381537 0.007473897 0.009021533\n",
       "     [,19]       [,20]       [,21]       \n",
       "[1,] 0.003500142 0.003842842 0.0003947651\n",
       "[2,] 0.003500142 0.003842842 0.0003947651\n",
       "[3,] 0.003500142 0.003842842 0.0003947651\n",
       "[4,] 0.003500142 0.003842842 0.0003947651"
      ]
     },
     "metadata": {},
     "output_type": "display_data"
    }
   ],
   "source": [
    "model$predict_on_batch(np$array(batch$inputs, dtype='float32'))"
   ]
  }
 ],
 "metadata": {
  "kernelspec": {
   "display_name": "R",
   "language": "R",
   "name": "ir"
  },
  "language_info": {
   "codemirror_mode": "r",
   "file_extension": ".r",
   "mimetype": "text/x-r-source",
   "name": "R",
   "pygments_lexer": "r",
   "version": "3.4.2"
  }
 },
 "nbformat": 4,
 "nbformat_minor": 2
}
