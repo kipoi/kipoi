{
 "cells": [
  {
   "cell_type": "markdown",
   "metadata": {},
   "source": [
    "# Variant effect prediction\n",
    "Variant effect prediction offers a simple way to predict effects of SNVs using any model that uses DNA sequence as an input. Many different scoring methods can be chosen, but the principle relies on in-silico mutagenesis. The default input is a VCF and the default output again is a VCF annotated with predictions of variant effects. \n",
    "\n",
    "For details please take a look at the documentation in Postprocessing/Variant effect prediction. This iPython notebook goes through the basic programmatic steps that are needed to preform variant effect prediction. First a variant-centered approach will be taken and secondly overlap-based variant effect prediction will be presented. For details in how this is done programmatically, please refer to the documentation."
   ]
  },
  {
   "cell_type": "markdown",
   "metadata": {},
   "source": [
    "## Variant centered effect prediction\n",
    "Models that accept input `.bed` files can make use of variant-centered effect prediction. This procedure starts out from the query VCF and generates genomic regions of the length of the model input, centered on the individual variant in the VCF.The model dataloader is then used to produce the model input samples for those regions, which are then mutated according to the alleles in the VCF:\n",
    "\n",
    "![img](http://kipoi.org/docs/img/notebooks/simple_var_region_generation.png)\n",
    "\n",
    "First an instance of `SnvCenteredRg` generates a temporary bed file with regions matching the input sequence length defined in the model.yaml input schema. Then the model dataloader is used to preduce the model input in batches. These chunks of data are then modified by the effect prediction algorithm, the model batch prediction function is triggered for all mutated sequence sets and finally the scoring method is applied.\n",
    "\n",
    "The selected scoring methods compare model predicitons for sequences carrying the reference or alternative allele. Those scoring methods can be `Diff` for simple subtraction of prediction, `Logit` for substraction of logit-transformed model predictions, or `DeepSEA_effect` which is a combination of `Diff` and `Logit`, which was published in the Troyanskaya et al. (2015) publication.\n",
    "\n",
    "Let's start out by loading the DeepSEA model and dataloader factory:"
   ]
  },
  {
   "cell_type": "code",
   "execution_count": 1,
   "metadata": {},
   "outputs": [
    {
     "name": "stdout",
     "output_type": "stream",
     "text": [
      "Conda dependencies to be installed:\n",
      "['h5py', 'pytorch::pytorch-cpu>=0.2.0']\n",
      "Solving environment: ...working... done\n",
      "\n",
      "# All requested packages already installed.\n",
      "\n",
      "pip dependencies to be installed:\n",
      "[]\n",
      "Conda dependencies to be installed:\n",
      "['python=3.5', 'numpy', 'pandas', 'cython']\n",
      "Solving environment: ...working... done\n",
      "\n",
      "# All requested packages already installed.\n",
      "\n",
      "pip dependencies to be installed:\n",
      "['genomelake', 'pybedtools']\n",
      "Requirement already satisfied: genomelake in /nfs/research1/stegle/users/rkreuzhu/conda-envs/kipoi/lib/python3.5/site-packages (0.1.4)\n",
      "Requirement already satisfied: pybedtools in /nfs/research1/stegle/users/rkreuzhu/conda-envs/kipoi/lib/python3.5/site-packages (0.7.10)\n",
      "Requirement already satisfied: numpy in /nfs/research1/stegle/users/rkreuzhu/conda-envs/kipoi/lib/python3.5/site-packages (from genomelake) (1.14.3)\n",
      "Requirement already satisfied: six>=1.9.0 in /nfs/research1/stegle/users/rkreuzhu/conda-envs/kipoi/lib/python3.5/site-packages (from genomelake) (1.11.0)\n",
      "Requirement already satisfied: pyBigWig in /nfs/research1/stegle/users/rkreuzhu/conda-envs/kipoi/lib/python3.5/site-packages (from genomelake) (0.3.11)\n",
      "Requirement already satisfied: pysam in /nfs/research1/stegle/users/rkreuzhu/conda-envs/kipoi/lib/python3.5/site-packages (from genomelake) (0.14.1)\n",
      "Requirement already satisfied: bcolz>=1.1 in /nfs/research1/stegle/users/rkreuzhu/conda-envs/kipoi/lib/python3.5/site-packages (from genomelake) (1.2.1)\n"
     ]
    }
   ],
   "source": [
    "import kipoi\n",
    "model_name = \"DeepSEA/variantEffects\"\n",
    "kipoi.pipeline.install_model_requirements(model_name)\n",
    "# get the model\n",
    "model = kipoi.get_model(model_name)\n",
    "# get the dataloader factory\n",
    "Dataloader = kipoi.get_dataloader_factory(model_name)"
   ]
  },
  {
   "cell_type": "markdown",
   "metadata": {},
   "source": [
    "Next we will have to define the variants we want to look at, let's look at a sample VCF in chromosome 22:"
   ]
  },
  {
   "cell_type": "code",
   "execution_count": 2,
   "metadata": {},
   "outputs": [
    {
     "name": "stdout",
     "output_type": "stream",
     "text": [
      "##fileformat=VCFv4.0\r\n",
      "##FILTER=<ID=PASS,Description=\"All filters passed\">\r\n",
      "##contig=<ID=chr1,length=249250621>\r\n",
      "##contig=<ID=chr2,length=243199373>\r\n",
      "##contig=<ID=chr3,length=198022430>\r\n",
      "##contig=<ID=chr4,length=191154276>\r\n",
      "##contig=<ID=chr5,length=180915260>\r\n",
      "##contig=<ID=chr6,length=171115067>\r\n",
      "##contig=<ID=chr7,length=159138663>\r\n",
      "##contig=<ID=chr8,length=146364022>\r\n",
      "##contig=<ID=chr9,length=141213431>\r\n",
      "##contig=<ID=chr10,length=135534747>\r\n",
      "##contig=<ID=chr11,length=135006516>\r\n",
      "##contig=<ID=chr12,length=133851895>\r\n",
      "##contig=<ID=chr13,length=115169878>\r\n",
      "##contig=<ID=chr14,length=107349540>\r\n",
      "##contig=<ID=chr15,length=102531392>\r\n",
      "##contig=<ID=chr16,length=90354753>\r\n",
      "##contig=<ID=chr17,length=81195210>\r\n",
      "##contig=<ID=chr18,length=78077248>\r\n",
      "##contig=<ID=chr19,length=59128983>\r\n",
      "##contig=<ID=chr20,length=63025520>\r\n",
      "##contig=<ID=chr21,length=48129895>\r\n",
      "##contig=<ID=chr22,length=51304566>\r\n",
      "##contig=<ID=chrX,length=155270560>\r\n",
      "##contig=<ID=chrY,length=59373566>\r\n",
      "##contig=<ID=chrMT,length=16569>\r\n",
      "#CHROM\tPOS\tID\tREF\tALT\tQUAL\tFILTER\tINFO\r\n",
      "chr22\t41320486\t4\tG\tT\t.\t.\t.\r\n",
      "chr22\t31009031\t9\tT\tG\t.\t.\t.\r\n",
      "chr22\t43024150\t15\tC\tG\t.\t.\t.\r\n",
      "chr22\t43027392\t16\tA\tG\t.\t.\t.\r\n",
      "chr22\t37469571\t122\tC\tT\t.\t.\t.\r\n",
      "chr22\t37465112\t123\tC\tG\t.\t.\t.\r\n",
      "chr22\t37494466\t124\tG\tT\t.\t.\t.\r\n",
      "chr22\t18561373\t177\tG\tT\t.\t.\t.\r\n",
      "chr22\t51065593\t241\tC\tT\t.\t.\t.\r\n",
      "chr22\t51064006\t242\tC\tT\t.\t.\t.\r\n",
      "chr22\t51065269\t243\tG\tA\t.\t.\t.\r\n",
      "chr22\t30032866\t260\tG\tT\t.\t.\t.\r\n"
     ]
    }
   ],
   "source": [
    "!head -n 40 example_data/clinvar_donor_acceptor_chr22.vcf"
   ]
  },
  {
   "cell_type": "markdown",
   "metadata": {},
   "source": [
    "Now we will define path variable for vcf input and output paths and instantiate a VcfWriter, which will write out the annotated VCF:"
   ]
  },
  {
   "cell_type": "code",
   "execution_count": 3,
   "metadata": {},
   "outputs": [],
   "source": [
    "from kipoi.postprocessing.variant_effects import VcfWriter\n",
    "# The input vcf path\n",
    "vcf_path = \"example_data/clinvar_donor_acceptor_chr22.vcf\"\n",
    "# The output vcf path, based on the input file name    \n",
    "out_vcf_fpath = vcf_path[:-4] + \"%s.vcf\"%model_name.replace(\"/\", \"_\")\n",
    "# The writer object that will output the annotated VCF\n",
    "writer = VcfWriter(model, vcf_path, out_vcf_fpath)"
   ]
  },
  {
   "cell_type": "markdown",
   "metadata": {},
   "source": [
    "Then we need to instantiate an object that can generate variant-centered regions (`SnvCenteredRg` objects). This class needs information on the model input sequence length which is extracted automatically within `ModelInfoExtractor` objects:"
   ]
  },
  {
   "cell_type": "code",
   "execution_count": 4,
   "metadata": {},
   "outputs": [],
   "source": [
    "# Information extraction from dataloader and model\n",
    "model_info = kipoi.postprocessing.variant_effects.ModelInfoExtractor(model, Dataloader)\n",
    "# vcf_to_region will generate a variant-centered regions when presented a VCF record.\n",
    "vcf_to_region = kipoi.postprocessing.variant_effects.SnvCenteredRg(model_info)"
   ]
  },
  {
   "cell_type": "markdown",
   "metadata": {},
   "source": [
    "Now we can define the required dataloader arguments, omitting the `intervals_file` as this will be replaced by the automatically generated bed file:"
   ]
  },
  {
   "cell_type": "code",
   "execution_count": 5,
   "metadata": {},
   "outputs": [],
   "source": [
    "dataloader_arguments = {\"fasta_file\": \"example_data/hg19_chr22.fa\"}"
   ]
  },
  {
   "cell_type": "markdown",
   "metadata": {},
   "source": [
    "This is the moment to run the variant effect prediction:"
   ]
  },
  {
   "cell_type": "code",
   "execution_count": 6,
   "metadata": {},
   "outputs": [
    {
     "name": "stderr",
     "output_type": "stream",
     "text": [
      "100%|██████████| 14/14 [00:01<00:00,  8.16it/s]\n"
     ]
    }
   ],
   "source": [
    "import kipoi.postprocessing.variant_effects.snv_predict as sp\n",
    "from kipoi.postprocessing.variant_effects import Diff, DeepSEA_effect\n",
    "sp.predict_snvs(model,\n",
    "                Dataloader,\n",
    "                vcf_path,\n",
    "                batch_size = 32,\n",
    "                dataloader_args=dataloader_arguments,\n",
    "                vcf_to_region=vcf_to_region,\n",
    "                evaluation_function_kwargs={'diff_types': {'diff': Diff(\"mean\"), 'deepsea_effect': DeepSEA_effect(\"mean\")}},\n",
    "                sync_pred_writer=writer)"
   ]
  },
  {
   "cell_type": "markdown",
   "metadata": {},
   "source": [
    "In the example above we have used the variant scoring method `Diff` and `DeepSEA_effect` from `kipoi.postprocessing.variant_effects`. As mentioned above variant scoring methods calculate the difference between predictions for reference and alternative, but there is another dimension to this: Models that have the `use_rc: true` flag set in their model.yaml file (DeepSEA/variantEffects does) will not only be queried with the reference and alternative carrying input sequences, but also with the reverse complement of the the sequences. In order to know of to combine predictions for forward and reverse sequences there is a initialisation flag (here set to: `\"mean\"`) for the variant scoring methods. `\"mean\"` in this case means that after calculating the effect (e.g.: Difference) the average over the difference between the prediction for the forward and for the reverse sequence should be returned. Setting `\"mean\"` complies with what was used in the Troyanskaya et al. publication.\n",
    "\n",
    "Now let's look at the output:"
   ]
  },
  {
   "cell_type": "code",
   "execution_count": 7,
   "metadata": {},
   "outputs": [
    {
     "name": "stdout",
     "output_type": "stream",
     "text": [
      "##fileformat=VCFv4.0\n",
      "##INFO=<ID=KV:kipoi:DeepSEA/variantEffects:DIFF,Number=.,Type=String,Description...\n",
      "##INFO=<ID=KV:kipoi:DeepSEA/variantEffects:DEEPSEA_EFFECT,Number=.,Type=String,D...\n",
      "##INFO=<ID=KV:kipoi:DeepSEA/variantEffects:rID,Number=.,Type=String,Description=...\n",
      "##FILTER=<ID=PASS,Description=\"All filters passed\">\n",
      "##contig=<ID=chr1,length=249250621>\n",
      "##contig=<ID=chr2,length=243199373>\n",
      "##contig=<ID=chr3,length=198022430>\n",
      "##contig=<ID=chr4,length=191154276>\n",
      "##contig=<ID=chr5,length=180915260>\n",
      "##contig=<ID=chr6,length=171115067>\n",
      "##contig=<ID=chr7,length=159138663>\n",
      "##contig=<ID=chr8,length=146364022>\n",
      "##contig=<ID=chr9,length=141213431>\n",
      "##contig=<ID=chr10,length=135534747>\n",
      "##contig=<ID=chr11,length=135006516>\n",
      "##contig=<ID=chr12,length=133851895>\n",
      "##contig=<ID=chr13,length=115169878>\n",
      "##contig=<ID=chr14,length=107349540>\n",
      "##contig=<ID=chr15,length=102531392>\n",
      "##contig=<ID=chr16,length=90354753>\n",
      "##contig=<ID=chr17,length=81195210>\n",
      "##contig=<ID=chr18,length=78077248>\n",
      "##contig=<ID=chr19,length=59128983>\n",
      "##contig=<ID=chr20,length=63025520>\n",
      "##contig=<ID=chr21,length=48129895>\n",
      "##contig=<ID=chr22,length=51304566>\n",
      "##contig=<ID=chrX,length=155270560>\n",
      "##contig=<ID=chrY,length=59373566>\n",
      "##contig=<ID=chrMT,length=16569>\n",
      "#CHROM\tPOS\tID\tREF\tALT\tQUAL\tFILTER\tINFO\n",
      "chr22\t41320486\t4\tG\tT\t.\t.\tKV:kipoi:DeepSEA/variantEffects:DIFF=-0.00285012|-0.000...\n",
      "chr22\t31009031\t9\tT\tG\t.\t.\tKV:kipoi:DeepSEA/variantEffects:DIFF=-0.02733294|-0.008...\n",
      "chr22\t43024150\t15\tC\tG\t.\t.\tKV:kipoi:DeepSEA/variantEffects:DIFF=0.01077348|0.0007...\n",
      "chr22\t43027392\t16\tA\tG\t.\t.\tKV:kipoi:DeepSEA/variantEffects:DIFF=-0.12174627|-0.24...\n",
      "chr22\t37469571\t122\tC\tT\t.\t.\tKV:kipoi:DeepSEA/variantEffects:DIFF=-0.00654630|0.00...\n",
      "chr22\t37465112\t123\tC\tG\t.\t.\tKV:kipoi:DeepSEA/variantEffects:DIFF=0.00574895|0.003...\n",
      "chr22\t37494466\t124\tG\tT\t.\t.\tKV:kipoi:DeepSEA/variantEffects:DIFF=0.01308706|0.001...\n",
      "chr22\t18561373\t177\tG\tT\t.\t.\tKV:kipoi:DeepSEA/variantEffects:DIFF=-0.00669497|0.00...\n",
      "chr22\t51065593\t241\tC\tT\t.\t.\tKV:kipoi:DeepSEA/variantEffects:DIFF=0.00409312|0.001...\n",
      "chr22\t51064006\t242\tC\tT\t.\t.\tKV:kipoi:DeepSEA/variantEffects:DIFF=0.00095598|0.000...\n"
     ]
    }
   ],
   "source": [
    "# Let's print out the first 40 lines of the annotated VCF (up to 80 characters per line maximum)\n",
    "with open(\"example_data/clinvar_donor_acceptor_chr22DeepSEA_variantEffects.vcf\") as ifh:\n",
    "    for i,l in enumerate(ifh):\n",
    "        long_line = \"\"\n",
    "        if len(l)>80:\n",
    "            long_line = \"...\"\n",
    "        print(l[:80].rstrip() +long_line)\n",
    "        if i >=40:\n",
    "            break"
   ]
  },
  {
   "cell_type": "markdown",
   "metadata": {},
   "source": [
    "This shows that variants have been annotated with variant effect scores. For every different scoring method a different INFO tag was created and the score of every model output is concantenated with the `|` separator symbol. A legend is given in the header section of the VCF. The name tag indicates with model was used, wich version of it and it displays the scoring function label (`DIFF`) which is derived from the scoring function label defined in the `evaluation_function_kwargs` dictionary (`'diff'`)."
   ]
  },
  {
   "cell_type": "markdown",
   "metadata": {},
   "source": [
    "The most comprehensive representation of effect preditions is in the annotated VCF. Kipoi offers a VCF parser class that enables simple parsing of annotated VCFs:"
   ]
  },
  {
   "cell_type": "code",
   "execution_count": 8,
   "metadata": {},
   "outputs": [
    {
     "name": "stdout",
     "output_type": "stream",
     "text": [
      "[('kipoi', 'DeepSEA/variantEffects', 'DEEPSEA_EFFECT'), ('kipoi', 'DeepSEA/variantEffects', 'DIFF'), ('kipoi', 'DeepSEA/variantEffects', 'rID')]\n"
     ]
    }
   ],
   "source": [
    "from kipoi.postprocessing.variant_effects import KipoiVCFParser\n",
    "vcf_reader = KipoiVCFParser(\"example_data/clinvar_donor_acceptor_chr22DeepSEA_variantEffects.vcf\")\n",
    "\n",
    "#We can have a look at the different labels which were created in the VCF\n",
    "print(list(vcf_reader.kipoi_parsed_colnames.values()))"
   ]
  },
  {
   "cell_type": "markdown",
   "metadata": {},
   "source": [
    "We can see that two scores have been saved - `'DEEPSEA_EFFECT'` and `'DIFF'`. Additionally there is `'rID'` which is the region ID - that is the ID given by the dataloader for a genomic region which was overlapped with the variant to get the prediction that is listed in the effect score columns mentioned before. Let's take a look at the VCF entries:"
   ]
  },
  {
   "cell_type": "code",
   "execution_count": 9,
   "metadata": {},
   "outputs": [
    {
     "name": "stdout",
     "output_type": "stream",
     "text": [
      "  variant_id variant_chr  variant_pos variant_ref variant_alt  \\\n",
      "0          4       chr22     41320486           G           T   \n",
      "1          9       chr22     31009031           T           G   \n",
      "2         15       chr22     43024150           C           G   \n",
      "3         16       chr22     43027392           A           G   \n",
      "4        122       chr22     37469571           C           T   \n",
      "\n",
      "   KV_DeepSEA/variantEffects_DIFF_8988T_DNase_None_0  \\\n",
      "0                                          -0.002850   \n",
      "1                                          -0.027333   \n",
      "2                                           0.010773   \n",
      "3                                          -0.121746   \n",
      "4                                          -0.006546   \n",
      "\n",
      "   KV_DeepSEA/variantEffects_DIFF_AoSMC_DNase_None_1  \n",
      "0                                          -0.000094  \n",
      "1                                          -0.008740  \n",
      "2                                           0.000702  \n",
      "3                                          -0.247322  \n",
      "4                                           0.000784  \n"
     ]
    }
   ],
   "source": [
    "import pandas as pd\n",
    "entries = [el for el in vcf_reader]\n",
    "print(pd.DataFrame(entries).head().iloc[:,:7])"
   ]
  },
  {
   "cell_type": "markdown",
   "metadata": {},
   "source": [
    "Another way to access effect predicitons programmatically is to keep all the results in memory and receive them as a dictionary of pandas dataframes:\n"
   ]
  },
  {
   "cell_type": "code",
   "execution_count": 10,
   "metadata": {},
   "outputs": [
    {
     "name": "stderr",
     "output_type": "stream",
     "text": [
      "100%|██████████| 14/14 [00:01<00:00, 13.34it/s]\n"
     ]
    }
   ],
   "source": [
    "effects = sp.predict_snvs(model,\n",
    "            Dataloader,\n",
    "            vcf_path,\n",
    "            batch_size = 32,\n",
    "            dataloader_args=dataloader_arguments,\n",
    "            vcf_to_region=vcf_to_region,\n",
    "            evaluation_function_kwargs={'diff_types': {'diff': Diff(\"mean\"), 'deepsea_effect': DeepSEA_effect(\"mean\")}},\n",
    "            return_predictions=True)"
   ]
  },
  {
   "cell_type": "markdown",
   "metadata": {},
   "source": [
    "For every key in the `evaluation_function_kwargs` dictionary there is a key in `effects` and (the equivalent of an additional INFO tag in the VCF). Now let's take a look at the results:"
   ]
  },
  {
   "cell_type": "code",
   "execution_count": 11,
   "metadata": {},
   "outputs": [
    {
     "name": "stdout",
     "output_type": "stream",
     "text": [
      "deepsea_effect\n",
      "                        8988T_DNase_None  AoSMC_DNase_None  \\\n",
      "chr22:41320486:G:['T']          0.000377      9.666139e-07   \n",
      "chr22:31009031:T:['G']          0.004129      3.683223e-03   \n",
      "chr22:43024150:C:['G']          0.001582      1.824524e-04   \n",
      "chr22:43027392:A:['G']          0.068382      2.689585e-01   \n",
      "chr22:37469571:C:['T']          0.001174      4.173281e-04   \n",
      "\n",
      "                        Chorion_DNase_None  CLL_DNase_None  \n",
      "chr22:41320486:G:['T']            0.000162        0.000040  \n",
      "chr22:31009031:T:['G']            0.000201        0.002139  \n",
      "chr22:43024150:C:['G']            0.000322        0.000033  \n",
      "chr22:43027392:A:['G']            0.133855        0.000773  \n",
      "chr22:37469571:C:['T']            0.000008        0.000079  \n",
      "--------------------------------------------------------------------------------\n",
      "diff\n",
      "                        8988T_DNase_None  AoSMC_DNase_None  \\\n",
      "chr22:41320486:G:['T']         -0.002850         -0.000094   \n",
      "chr22:31009031:T:['G']         -0.027333         -0.008740   \n",
      "chr22:43024150:C:['G']          0.010773          0.000702   \n",
      "chr22:43027392:A:['G']         -0.121746         -0.247322   \n",
      "chr22:37469571:C:['T']         -0.006546          0.000784   \n",
      "\n",
      "                        Chorion_DNase_None  CLL_DNase_None  \n",
      "chr22:41320486:G:['T']           -0.001533       -0.000353  \n",
      "chr22:31009031:T:['G']           -0.003499       -0.008144  \n",
      "chr22:43024150:C:['G']            0.004689       -0.000609  \n",
      "chr22:43027392:A:['G']           -0.167689       -0.010695  \n",
      "chr22:37469571:C:['T']           -0.000383       -0.000924  \n",
      "--------------------------------------------------------------------------------\n"
     ]
    }
   ],
   "source": [
    "for k in effects:\n",
    "    print(k)\n",
    "    print(effects[k].head().iloc[:,:4])\n",
    "    print(\"-\"*80)"
   ]
  },
  {
   "cell_type": "markdown",
   "metadata": {},
   "source": [
    "We see that for `diff` and `deepsea_effect` there is a dataframe with variant identifiers as rows and model output labels as columns. The DeepSEA model predicts 919 tasks simultaneously hence there are 919 columns in the dataframe."
   ]
  },
  {
   "cell_type": "markdown",
   "metadata": {},
   "source": [
    "## Overlap based prediction\n",
    "Models that cannot predict on every region of the genome might not accept a `.bed` file as dataloader input. An example of such a model is a splicing model. Those models only work in certain regions of the genome. Here variant effect prediction can be executed based on overlaps between the regions generated by the dataloader and the variants defined in the VCF:\n",
    "\n",
    "![img](../docs/theme_dir/img/notebooks/simple_var_overlap.png)\n",
    "The procedure is similar to the variant centered effect prediction explained above, but in this case no temporary bed file is generated and the effect prediction is based on all the regions generated by the dataloader which overlap any variant in the VCF. If a region is overlapped by two variants the effect of the two variants is predicted independently.\n",
    "\n",
    "Here the VCF has to be tabixed so that a regional lookup can be performed efficiently, this can be done by using the `ensure_tabixed` function, the rest remains the same as before:"
   ]
  },
  {
   "cell_type": "code",
   "execution_count": null,
   "metadata": {},
   "outputs": [],
   "source": []
  },
  {
   "cell_type": "code",
   "execution_count": 12,
   "metadata": {},
   "outputs": [
    {
     "name": "stdout",
     "output_type": "stream",
     "text": [
      "Conda dependencies to be installed:\n",
      "['numpy']\n",
      "Solving environment: ...working... done\n",
      "\n",
      "# All requested packages already installed.\n",
      "\n",
      "pip dependencies to be installed:\n",
      "[]\n",
      "Conda dependencies to be installed:\n",
      "['python=3.5', 'bioconda::pysam']\n",
      "Solving environment: ...working... done\n",
      "\n",
      "# All requested packages already installed.\n",
      "\n",
      "pip dependencies to be installed:\n",
      "[]\n"
     ]
    }
   ],
   "source": [
    "import kipoi\n",
    "from kipoi.postprocessing.variant_effects import VcfWriter\n",
    "from kipoi.postprocessing.variant_effects import ensure_tabixed_vcf\n",
    "# Use a splicing model\n",
    "model_name = \"HAL\"\n",
    "# install dependencies\n",
    "kipoi.pipeline.install_model_requirements(model_name)\n",
    "# get the model\n",
    "model = kipoi.get_model(model_name)\n",
    "# get the dataloader factory\n",
    "Dataloader = kipoi.get_dataloader_factory(model_name)\n",
    "# The input vcf path\n",
    "vcf_path = \"example_data/clinvar_donor_acceptor_chr22.vcf\"\n",
    "\n",
    "# Make sure that the vcf is bgzipped and tabixed, if not then generate the compressed vcf in the same place\n",
    "vcf_path_tbx = ensure_tabixed_vcf(vcf_path)\n",
    "\n",
    "# The output vcf path, based on the input file name    \n",
    "out_vcf_fpath = vcf_path[:-4] + \"%s.vcf\"%model_name.replace(\"/\", \"_\")\n",
    "# The writer object that will output the annotated VCF\n",
    "writer = VcfWriter(model, vcf_path, out_vcf_fpath)"
   ]
  },
  {
   "cell_type": "markdown",
   "metadata": {},
   "source": [
    "This time we don't need an object that generates regions, hence we can directly define the dataloader arguments and run the prediction:"
   ]
  },
  {
   "cell_type": "code",
   "execution_count": 13,
   "metadata": {},
   "outputs": [
    {
     "name": "stderr",
     "output_type": "stream",
     "text": [
      "100%|██████████| 709/709 [00:03<00:00, 203.32it/s]\n"
     ]
    }
   ],
   "source": [
    "from kipoi.postprocessing.variant_effects import Diff, predict_snvs\n",
    "dataloader_arguments = {\"gtf_file\":\"example_data/Homo_sapiens.GRCh37.75.filtered_chr22.gtf\",\n",
    "                               \"fasta_file\": \"example_data/hg19_chr22.fa\"}\n",
    "\n",
    "effects = predict_snvs(model,\n",
    "                        Dataloader,\n",
    "                        vcf_path_tbx,\n",
    "                        batch_size = 32,\n",
    "                        dataloader_args=dataloader_arguments,\n",
    "                        evaluation_function_kwargs={'diff_types': {'diff': Diff(\"mean\")}},\n",
    "                        sync_pred_writer=writer,\n",
    "                        return_predictions=True)"
   ]
  },
  {
   "cell_type": "markdown",
   "metadata": {},
   "source": [
    "Let's have a look at the VCF:"
   ]
  },
  {
   "cell_type": "code",
   "execution_count": 14,
   "metadata": {},
   "outputs": [
    {
     "name": "stdout",
     "output_type": "stream",
     "text": [
      "##fileformat=VCFv4.0\n",
      "##INFO=<ID=KV:kipoi:HAL:DIFF,Number=.,Type=String,Description=\"DIFF SNV effect p...\n",
      "##INFO=<ID=KV:kipoi:HAL:rID,Number=.,Type=String,Description=\"Range or region id...\n",
      "##FILTER=<ID=PASS,Description=\"All filters passed\">\n",
      "##contig=<ID=chr1,length=249250621>\n",
      "##contig=<ID=chr2,length=243199373>\n",
      "##contig=<ID=chr3,length=198022430>\n",
      "##contig=<ID=chr4,length=191154276>\n",
      "##contig=<ID=chr5,length=180915260>\n",
      "##contig=<ID=chr6,length=171115067>\n",
      "##contig=<ID=chr7,length=159138663>\n",
      "##contig=<ID=chr8,length=146364022>\n",
      "##contig=<ID=chr9,length=141213431>\n",
      "##contig=<ID=chr10,length=135534747>\n",
      "##contig=<ID=chr11,length=135006516>\n",
      "##contig=<ID=chr12,length=133851895>\n",
      "##contig=<ID=chr13,length=115169878>\n",
      "##contig=<ID=chr14,length=107349540>\n",
      "##contig=<ID=chr15,length=102531392>\n",
      "##contig=<ID=chr16,length=90354753>\n",
      "##contig=<ID=chr17,length=81195210>\n",
      "##contig=<ID=chr18,length=78077248>\n",
      "##contig=<ID=chr19,length=59128983>\n",
      "##contig=<ID=chr20,length=63025520>\n",
      "##contig=<ID=chr21,length=48129895>\n",
      "##contig=<ID=chr22,length=51304566>\n",
      "##contig=<ID=chrX,length=155270560>\n",
      "##contig=<ID=chrY,length=59373566>\n",
      "##contig=<ID=chrMT,length=16569>\n",
      "#CHROM\tPOS\tID\tREF\tALT\tQUAL\tFILTER\tINFO\n",
      "chr22\t17684454\t4461\tG\tA\t.\t.\tKV:kipoi:HAL:DIFF=0.10586491;KV:kipoi:HAL:rID=290\n",
      "chr22\t17669232\t7178\tT\tC\t.\t.\tKV:kipoi:HAL:DIFF=0.00000000;KV:kipoi:HAL:rID=293\n",
      "chr22\t17669232\t7178\tT\tC\t.\t.\tKV:kipoi:HAL:DIFF=0.00000000;KV:kipoi:HAL:rID=299\n",
      "chr22\t17684454\t4461\tG\tA\t.\t.\tKV:kipoi:HAL:DIFF=0.10586491;KV:kipoi:HAL:rID=304\n",
      "chr22\t17669232\t7178\tT\tC\t.\t.\tKV:kipoi:HAL:DIFF=0.00000000;KV:kipoi:HAL:rID=307\n",
      "chr22\t17684454\t4461\tG\tA\t.\t.\tKV:kipoi:HAL:DIFF=0.10586491;KV:kipoi:HAL:rID=313\n",
      "chr22\t17669232\t7178\tT\tC\t.\t.\tKV:kipoi:HAL:DIFF=0.00000000;KV:kipoi:HAL:rID=316\n",
      "chr22\t17684454\t4461\tG\tA\t.\t.\tKV:kipoi:HAL:DIFF=0.10586491;KV:kipoi:HAL:rID=322\n",
      "chr22\t17669232\t7178\tT\tC\t.\t.\tKV:kipoi:HAL:DIFF=0.00000000;KV:kipoi:HAL:rID=325\n",
      "chr22\t17669232\t7178\tT\tC\t.\t.\tKV:kipoi:HAL:DIFF=0.00000000;KV:kipoi:HAL:rID=328\n",
      "chr22\t18561370\t7302\tC\tT\t.\t.\tKV:kipoi:HAL:DIFF=-1.33794269;KV:kipoi:HAL:rID=824\n"
     ]
    }
   ],
   "source": [
    "# A slightly convoluted way of printing out the first 40 lines and up to 80 characters per line maximum\n",
    "with open(\"example_data/clinvar_donor_acceptor_chr22HAL.vcf\") as ifh:\n",
    "    for i,l in enumerate(ifh):\n",
    "        long_line = \"\"\n",
    "        if len(l)>80:\n",
    "            long_line = \"...\"\n",
    "        print(l[:80].rstrip() +long_line)\n",
    "        if i >=40:\n",
    "            break"
   ]
  },
  {
   "cell_type": "markdown",
   "metadata": {},
   "source": [
    "And the prediction output this time is less helpful because it's the ids that the dataloader created which are displayed as index. In general it is advisable to use the output VCF for more detailed information on which variant was overlapped with which region fo produce a prediction."
   ]
  },
  {
   "cell_type": "code",
   "execution_count": 15,
   "metadata": {},
   "outputs": [
    {
     "name": "stdout",
     "output_type": "stream",
     "text": [
      "diff\n",
      "            0\n",
      "290  0.105865\n",
      "293  0.000000\n",
      "299  0.000000\n",
      "304  0.105865\n",
      "307  0.000000\n",
      "--------------------------------------------------------------------------------\n"
     ]
    }
   ],
   "source": [
    "for k in effects:\n",
    "    print(k)\n",
    "    print(effects[k].head())\n",
    "    print(\"-\"*80)"
   ]
  },
  {
   "cell_type": "markdown",
   "metadata": {},
   "source": [
    "## Command-line based effect prediction\n",
    "The above command can also conveniently be executed using the command line:\n"
   ]
  },
  {
   "cell_type": "code",
   "execution_count": 16,
   "metadata": {},
   "outputs": [
    {
     "name": "stdout",
     "output_type": "stream",
     "text": [
      "kipoi postproc score_variants DeepSEA/variantEffects --dataloader_args='{\"fasta_file\": \"example_data/hg19_chr22.fa\"}' --vcf_path example_data/clinvar_donor_acceptor_chr22.vcf --out_vcf_fpath example_data/clinvar_donor_acceptor_chr22DeepSEA_variantEffects.vcf --scoring diff deepsea_effect\n"
     ]
    }
   ],
   "source": [
    "import json\n",
    "import os\n",
    "model_name = \"DeepSEA/variantEffects\"\n",
    "dl_args = json.dumps({\"fasta_file\": \"example_data/hg19_chr22.fa\"})\n",
    "out_vcf_fpath = vcf_path[:-4] + \"%s.vcf\"%model_name.replace(\"/\", \"_\")\n",
    "scorings = \"diff deepsea_effect\"\n",
    "command = (\"kipoi postproc score_variants {model} \"\n",
    "           \"--dataloader_args='{dl_args}' \"\n",
    "           \"--vcf_path {input_vcf} \"\n",
    "           \"--out_vcf_fpath {output_vcf} \"\n",
    "           \"--scoring {scorings}\").format(model=model_name,\n",
    "                                          dl_args=dl_args,\n",
    "                                          input_vcf=vcf_path,\n",
    "                                          output_vcf=out_vcf_fpath,\n",
    "                                          scorings=scorings)\n",
    "# Print out the command:\n",
    "print(command)"
   ]
  },
  {
   "cell_type": "code",
   "execution_count": 17,
   "metadata": {},
   "outputs": [
    {
     "name": "stdout",
     "output_type": "stream",
     "text": [
      "usage: kipoi postproc score_variants [-h]\r\n",
      "                                     [--source {kipoi,dir,github-permalink} [{kipoi,dir,github-permalink} ...]]\r\n",
      "                                     [--dataloader DATALOADER [DATALOADER ...]]\r\n",
      "                                     [--dataloader_source DATALOADER_SOURCE [DATALOADER_SOURCE ...]]\r\n",
      "                                     [--dataloader_args DATALOADER_ARGS [DATALOADER_ARGS ...]]\r\n",
      "                                     [-i INPUT_VCF] [-o OUTPUT_VCF]\r\n",
      "                                     [--batch_size BATCH_SIZE]\r\n",
      "                                     [-n NUM_WORKERS] [-r RESTRICTION_BED]\r\n",
      "                                     [-e EXTRA_OUTPUT]\r\n",
      "                                     [-s SCORES [SCORES ...]]\r\n",
      "                                     [-k SCORE_KWARGS [SCORE_KWARGS ...]]\r\n",
      "                                     [-l SEQ_LENGTH [SEQ_LENGTH ...]]\r\n",
      "                                     [--std_var_id]\r\n",
      "                                     model [model ...]\r\n",
      "kipoi postproc score_variants: error: unrecognized arguments: --vcf_path example_data/clinvar_donor_acceptor_chr22.vcf --out_vcf_fpath example_data/clinvar_donor_acceptor_chr22DeepSEA_variantEffects.vcf --scoring diff deepsea_effect\r\n"
     ]
    }
   ],
   "source": [
    "! $command"
   ]
  },
  {
   "cell_type": "markdown",
   "metadata": {},
   "source": [
    "## Batch prediction\n",
    "Since the syntax basically doesn't change for different kinds of models a simple for-loop can be written to do what we just did on many models:"
   ]
  },
  {
   "cell_type": "code",
   "execution_count": 18,
   "metadata": {},
   "outputs": [
    {
     "name": "stderr",
     "output_type": "stream",
     "text": [
      "/nfs/research1/stegle/users/rkreuzhu/opt/model-zoo/kipoi/config.py:110: FutureWarning: Sorting because non-concatenation axis is not aligned. A future version\n",
      "of pandas will change to not sort by default.\n",
      "\n",
      "To accept the future behavior, pass 'sort=True'.\n",
      "\n",
      "To retain the current behavior and silence the warning, pass sort=False\n",
      "\n",
      "  return pd.concat(pd_list)[pd_list[0].columns]\n"
     ]
    }
   ],
   "source": [
    "import kipoi\n",
    "# Run effect predicton\n",
    "models_df = kipoi.list_models()\n",
    "models_substr = [\"HAL\", \"MaxEntScan\", \"labranchor\", \"rbp\"]\n",
    "models_df_subsets = {ms: models_df.loc[models_df[\"model\"].str.contains(ms)] for ms in models_substr}"
   ]
  },
  {
   "cell_type": "markdown",
   "metadata": {},
   "source": [
    "Let's make sure that all the dependencies are installed:"
   ]
  },
  {
   "cell_type": "code",
   "execution_count": 19,
   "metadata": {},
   "outputs": [
    {
     "name": "stdout",
     "output_type": "stream",
     "text": [
      "Conda dependencies to be installed:\n",
      "['numpy']\n",
      "Solving environment: ...working... done\n",
      "\n",
      "# All requested packages already installed.\n",
      "\n",
      "pip dependencies to be installed:\n",
      "[]\n",
      "Conda dependencies to be installed:\n",
      "['python=3.5', 'bioconda::pysam']\n",
      "Solving environment: ...working... done\n",
      "\n",
      "# All requested packages already installed.\n",
      "\n",
      "pip dependencies to be installed:\n",
      "[]\n",
      "Conda dependencies to be installed:\n",
      "['bioconda::maxentpy']\n",
      "Solving environment: ...working... done\n",
      "\n",
      "## Package Plan ##\n",
      "\n",
      "  environment location: /nfs/research1/stegle/users/rkreuzhu/conda-envs/kipoi\n",
      "\n",
      "  added / updated specs: \n",
      "    - maxentpy\n",
      "\n",
      "\n",
      "The following packages will be downloaded:\n",
      "\n",
      "    package                    |            build\n",
      "    ---------------------------|-----------------\n",
      "    msgpack-python-0.5.6       |   py35h6bb024c_0          95 KB\n",
      "\n",
      "The following NEW packages will be INSTALLED:\n",
      "\n",
      "    maxentpy:       0.0.1-py35_0         bioconda\n",
      "    msgpack-python: 0.5.6-py35h6bb024c_0         \n",
      "\n",
      "\n",
      "Downloading and Extracting Packages\n",
      "Preparing transaction: ...working... done\n",
      "Verifying transaction: ...working... done\n",
      "Executing transaction: ...working... done\n",
      "pip dependencies to be installed:\n",
      "[]\n",
      "Conda dependencies to be installed:\n",
      "['python=3.5', 'bioconda::pysam']\n",
      "Solving environment: ...working... done\n",
      "\n",
      "# All requested packages already installed.\n",
      "\n",
      "pip dependencies to be installed:\n",
      "[]\n",
      "Conda dependencies to be installed:\n",
      "[]\n",
      "pip dependencies to be installed:\n",
      "['tensorflow>=1.0.0', 'keras>=2.0.4']\n",
      "Requirement already satisfied: tensorflow>=1.0.0 in /nfs/research1/stegle/users/rkreuzhu/conda-envs/kipoi/lib/python3.5/site-packages (1.4.0)\n",
      "Requirement already satisfied: keras>=2.0.4 in /nfs/research1/stegle/users/rkreuzhu/conda-envs/kipoi/lib/python3.5/site-packages (2.1.4)\n",
      "Requirement already satisfied: enum34>=1.1.6 in /nfs/research1/stegle/users/rkreuzhu/conda-envs/kipoi/lib/python3.5/site-packages (from tensorflow>=1.0.0) (1.1.6)\n",
      "Requirement already satisfied: six>=1.10.0 in /nfs/research1/stegle/users/rkreuzhu/conda-envs/kipoi/lib/python3.5/site-packages (from tensorflow>=1.0.0) (1.11.0)\n",
      "Requirement already satisfied: protobuf>=3.3.0 in /nfs/research1/stegle/users/rkreuzhu/conda-envs/kipoi/lib/python3.5/site-packages (from tensorflow>=1.0.0) (3.5.2.post1)\n",
      "Requirement already satisfied: wheel>=0.26 in /nfs/research1/stegle/users/rkreuzhu/conda-envs/kipoi/lib/python3.5/site-packages (from tensorflow>=1.0.0) (0.31.0)\n",
      "Requirement already satisfied: numpy>=1.12.1 in /nfs/research1/stegle/users/rkreuzhu/conda-envs/kipoi/lib/python3.5/site-packages (from tensorflow>=1.0.0) (1.14.3)\n",
      "Requirement already satisfied: tensorflow-tensorboard<0.5.0,>=0.4.0rc1 in /nfs/research1/stegle/users/rkreuzhu/conda-envs/kipoi/lib/python3.5/site-packages (from tensorflow>=1.0.0) (0.4.0)\n",
      "Requirement already satisfied: scipy>=0.14 in /nfs/research1/stegle/users/rkreuzhu/conda-envs/kipoi/lib/python3.5/site-packages (from keras>=2.0.4) (1.1.0)\n",
      "Requirement already satisfied: pyyaml in /nfs/research1/stegle/users/rkreuzhu/conda-envs/kipoi/lib/python3.5/site-packages (from keras>=2.0.4) (3.12)\n",
      "Requirement already satisfied: setuptools in /nfs/research1/stegle/users/rkreuzhu/conda-envs/kipoi/lib/python3.5/site-packages (from protobuf>=3.3.0->tensorflow>=1.0.0) (39.1.0)\n",
      "Requirement already satisfied: bleach==1.5.0 in /nfs/research1/stegle/users/rkreuzhu/conda-envs/kipoi/lib/python3.5/site-packages (from tensorflow-tensorboard<0.5.0,>=0.4.0rc1->tensorflow>=1.0.0) (1.5.0)\n",
      "Requirement already satisfied: html5lib==0.9999999 in /nfs/research1/stegle/users/rkreuzhu/conda-envs/kipoi/lib/python3.5/site-packages (from tensorflow-tensorboard<0.5.0,>=0.4.0rc1->tensorflow>=1.0.0) (0.9999999)\n",
      "Requirement already satisfied: markdown>=2.6.8 in /nfs/research1/stegle/users/rkreuzhu/conda-envs/kipoi/lib/python3.5/site-packages (from tensorflow-tensorboard<0.5.0,>=0.4.0rc1->tensorflow>=1.0.0) (2.6.11)\n",
      "Requirement already satisfied: werkzeug>=0.11.10 in /nfs/research1/stegle/users/rkreuzhu/conda-envs/kipoi/lib/python3.5/site-packages (from tensorflow-tensorboard<0.5.0,>=0.4.0rc1->tensorflow>=1.0.0) (0.14.1)\n",
      "Conda dependencies to be installed:\n",
      "[]\n",
      "pip dependencies to be installed:\n",
      "['pysam', 'numpy']\n",
      "Requirement already satisfied: pysam in /nfs/research1/stegle/users/rkreuzhu/conda-envs/kipoi/lib/python3.5/site-packages (0.14.1)\n",
      "Requirement already satisfied: numpy in /nfs/research1/stegle/users/rkreuzhu/conda-envs/kipoi/lib/python3.5/site-packages (1.14.3)\n",
      "Conda dependencies to be installed:\n",
      "[]\n",
      "pip dependencies to be installed:\n",
      "['concise>=0.6.5', 'tensorflow>=1.4.1', 'keras>=2.0.4']\n",
      "Requirement already satisfied: concise>=0.6.5 in /nfs/research1/stegle/users/rkreuzhu/conda-envs/kipoi/lib/python3.5/site-packages (0.6.6)\n",
      "Collecting tensorflow>=1.4.1\n",
      "  Using cached https://files.pythonhosted.org/packages/6d/dc/464f59597a5a8282585238e6e3a7bb3770c3c1f1dc8ee72bd5be257178ec/tensorflow-1.8.0-cp35-cp35m-manylinux1_x86_64.whl\n",
      "Requirement already satisfied: keras>=2.0.4 in /nfs/research1/stegle/users/rkreuzhu/conda-envs/kipoi/lib/python3.5/site-packages (2.1.4)\n",
      "Requirement already satisfied: matplotlib in /nfs/research1/stegle/users/rkreuzhu/conda-envs/kipoi/lib/python3.5/site-packages (from concise>=0.6.5) (2.2.2)\n",
      "Requirement already satisfied: scikit-learn>=0.18 in /nfs/research1/stegle/users/rkreuzhu/conda-envs/kipoi/lib/python3.5/site-packages (from concise>=0.6.5) (0.19.1)\n",
      "Requirement already satisfied: pandas in /nfs/research1/stegle/users/rkreuzhu/conda-envs/kipoi/lib/python3.5/site-packages (from concise>=0.6.5) (0.23.0)\n",
      "Requirement already satisfied: numpy in /nfs/research1/stegle/users/rkreuzhu/conda-envs/kipoi/lib/python3.5/site-packages (from concise>=0.6.5) (1.14.3)\n",
      "Requirement already satisfied: hyperopt in /nfs/research1/stegle/users/rkreuzhu/conda-envs/kipoi/lib/python3.5/site-packages (from concise>=0.6.5) (0.1)\n",
      "Requirement already satisfied: descartes in /nfs/research1/stegle/users/rkreuzhu/conda-envs/kipoi/lib/python3.5/site-packages (from concise>=0.6.5) (1.1.0)\n",
      "Requirement already satisfied: shapely in /nfs/research1/stegle/users/rkreuzhu/conda-envs/kipoi/lib/python3.5/site-packages (from concise>=0.6.5) (1.6.4.post1)\n",
      "Requirement already satisfied: scipy in /nfs/research1/stegle/users/rkreuzhu/conda-envs/kipoi/lib/python3.5/site-packages (from concise>=0.6.5) (1.1.0)\n",
      "Requirement already satisfied: gtfparse>=1.0.7 in /nfs/research1/stegle/users/rkreuzhu/conda-envs/kipoi/lib/python3.5/site-packages (from concise>=0.6.5) (1.0.7)\n",
      "Requirement already satisfied: astor>=0.6.0 in /nfs/research1/stegle/users/rkreuzhu/conda-envs/kipoi/lib/python3.5/site-packages (from tensorflow>=1.4.1) (0.6.2)\n",
      "Requirement already satisfied: protobuf>=3.4.0 in /nfs/research1/stegle/users/rkreuzhu/conda-envs/kipoi/lib/python3.5/site-packages (from tensorflow>=1.4.1) (3.5.2.post1)\n",
      "Requirement already satisfied: tensorboard<1.9.0,>=1.8.0 in /nfs/research1/stegle/users/rkreuzhu/conda-envs/kipoi/lib/python3.5/site-packages (from tensorflow>=1.4.1) (1.8.0)\n",
      "Requirement already satisfied: six>=1.10.0 in /nfs/research1/stegle/users/rkreuzhu/conda-envs/kipoi/lib/python3.5/site-packages (from tensorflow>=1.4.1) (1.11.0)\n",
      "Requirement already satisfied: absl-py>=0.1.6 in /nfs/research1/stegle/users/rkreuzhu/conda-envs/kipoi/lib/python3.5/site-packages (from tensorflow>=1.4.1) (0.2.0)\n",
      "Requirement already satisfied: wheel>=0.26 in /nfs/research1/stegle/users/rkreuzhu/conda-envs/kipoi/lib/python3.5/site-packages (from tensorflow>=1.4.1) (0.31.0)\n",
      "Requirement already satisfied: termcolor>=1.1.0 in /nfs/research1/stegle/users/rkreuzhu/conda-envs/kipoi/lib/python3.5/site-packages (from tensorflow>=1.4.1) (1.1.0)\n",
      "Requirement already satisfied: gast>=0.2.0 in /nfs/research1/stegle/users/rkreuzhu/conda-envs/kipoi/lib/python3.5/site-packages (from tensorflow>=1.4.1) (0.2.0)\n",
      "Requirement already satisfied: grpcio>=1.8.6 in /nfs/research1/stegle/users/rkreuzhu/conda-envs/kipoi/lib/python3.5/site-packages (from tensorflow>=1.4.1) (1.11.0)\n",
      "Requirement already satisfied: pyyaml in /nfs/research1/stegle/users/rkreuzhu/conda-envs/kipoi/lib/python3.5/site-packages (from keras>=2.0.4) (3.12)\n",
      "Requirement already satisfied: cycler>=0.10 in /nfs/research1/stegle/users/rkreuzhu/conda-envs/kipoi/lib/python3.5/site-packages (from matplotlib->concise>=0.6.5) (0.10.0)\n",
      "Requirement already satisfied: pyparsing!=2.0.4,!=2.1.2,!=2.1.6,>=2.0.1 in /nfs/research1/stegle/users/rkreuzhu/conda-envs/kipoi/lib/python3.5/site-packages (from matplotlib->concise>=0.6.5) (2.2.0)\n",
      "Requirement already satisfied: python-dateutil>=2.1 in /nfs/research1/stegle/users/rkreuzhu/conda-envs/kipoi/lib/python3.5/site-packages (from matplotlib->concise>=0.6.5) (2.7.3)\n",
      "Requirement already satisfied: pytz in /nfs/research1/stegle/users/rkreuzhu/conda-envs/kipoi/lib/python3.5/site-packages (from matplotlib->concise>=0.6.5) (2018.4)\n",
      "Requirement already satisfied: kiwisolver>=1.0.1 in /nfs/research1/stegle/users/rkreuzhu/conda-envs/kipoi/lib/python3.5/site-packages (from matplotlib->concise>=0.6.5) (1.0.1)\n",
      "Requirement already satisfied: pymongo in /nfs/research1/stegle/users/rkreuzhu/conda-envs/kipoi/lib/python3.5/site-packages (from hyperopt->concise>=0.6.5) (3.6.1)\n",
      "Requirement already satisfied: future in /nfs/research1/stegle/users/rkreuzhu/conda-envs/kipoi/lib/python3.5/site-packages (from hyperopt->concise>=0.6.5) (0.16.0)\n",
      "Requirement already satisfied: networkx in /nfs/research1/stegle/users/rkreuzhu/conda-envs/kipoi/lib/python3.5/site-packages (from hyperopt->concise>=0.6.5) (2.1)\n",
      "Requirement already satisfied: nose in /nfs/research1/stegle/users/rkreuzhu/conda-envs/kipoi/lib/python3.5/site-packages (from hyperopt->concise>=0.6.5) (1.3.7)\n",
      "Requirement already satisfied: setuptools in /nfs/research1/stegle/users/rkreuzhu/conda-envs/kipoi/lib/python3.5/site-packages (from protobuf>=3.4.0->tensorflow>=1.4.1) (39.1.0)\n",
      "Requirement already satisfied: markdown>=2.6.8 in /nfs/research1/stegle/users/rkreuzhu/conda-envs/kipoi/lib/python3.5/site-packages (from tensorboard<1.9.0,>=1.8.0->tensorflow>=1.4.1) (2.6.11)\n",
      "Requirement already satisfied: bleach==1.5.0 in /nfs/research1/stegle/users/rkreuzhu/conda-envs/kipoi/lib/python3.5/site-packages (from tensorboard<1.9.0,>=1.8.0->tensorflow>=1.4.1) (1.5.0)\n",
      "Requirement already satisfied: html5lib==0.9999999 in /nfs/research1/stegle/users/rkreuzhu/conda-envs/kipoi/lib/python3.5/site-packages (from tensorboard<1.9.0,>=1.8.0->tensorflow>=1.4.1) (0.9999999)\n",
      "Requirement already satisfied: werkzeug>=0.11.10 in /nfs/research1/stegle/users/rkreuzhu/conda-envs/kipoi/lib/python3.5/site-packages (from tensorboard<1.9.0,>=1.8.0->tensorflow>=1.4.1) (0.14.1)\n",
      "Requirement already satisfied: decorator>=4.1.0 in /nfs/research1/stegle/users/rkreuzhu/conda-envs/kipoi/lib/python3.5/site-packages (from networkx->hyperopt->concise>=0.6.5) (4.3.0)\n"
     ]
    },
    {
     "name": "stdout",
     "output_type": "stream",
     "text": [
      "Installing collected packages: tensorflow\n",
      "  Found existing installation: tensorflow 1.4.0\n",
      "    Uninstalling tensorflow-1.4.0:\n",
      "      Successfully uninstalled tensorflow-1.4.0\n",
      "Successfully installed tensorflow-1.8.0\n",
      "Conda dependencies to be installed:\n",
      "['python>=3.5', 'cython']\n",
      "Solving environment: ...working... done\n",
      "\n",
      "# All requested packages already installed.\n",
      "\n",
      "pip dependencies to be installed:\n",
      "['scikit-learn==0.18.1', 'numpy', 'pandas', 'concise>=0.6.6', 'gtfparse>=1.0.7', 'pybedtools', 'pysam', 'genomelake']\n",
      "Collecting scikit-learn==0.18.1\n",
      "  Downloading https://files.pythonhosted.org/packages/a6/b9/8acd3dee9558504c433a24bcb0197230d5993e1b896e94d55838bc909b1e/scikit_learn-0.18.1-cp35-cp35m-manylinux1_x86_64.whl (11.7MB)\n",
      "Requirement already satisfied: numpy in /nfs/research1/stegle/users/rkreuzhu/conda-envs/kipoi/lib/python3.5/site-packages (1.14.3)\n",
      "Requirement already satisfied: pandas in /nfs/research1/stegle/users/rkreuzhu/conda-envs/kipoi/lib/python3.5/site-packages (0.23.0)\n",
      "Requirement already satisfied: concise>=0.6.6 in /nfs/research1/stegle/users/rkreuzhu/conda-envs/kipoi/lib/python3.5/site-packages (0.6.6)\n",
      "Requirement already satisfied: gtfparse>=1.0.7 in /nfs/research1/stegle/users/rkreuzhu/conda-envs/kipoi/lib/python3.5/site-packages (1.0.7)\n",
      "Requirement already satisfied: pybedtools in /nfs/research1/stegle/users/rkreuzhu/conda-envs/kipoi/lib/python3.5/site-packages (0.7.10)\n",
      "Requirement already satisfied: pysam in /nfs/research1/stegle/users/rkreuzhu/conda-envs/kipoi/lib/python3.5/site-packages (0.14.1)\n",
      "Requirement already satisfied: genomelake in /nfs/research1/stegle/users/rkreuzhu/conda-envs/kipoi/lib/python3.5/site-packages (0.1.4)\n",
      "Requirement already satisfied: python-dateutil>=2.5.0 in /nfs/research1/stegle/users/rkreuzhu/conda-envs/kipoi/lib/python3.5/site-packages (from pandas) (2.7.3)\n",
      "Requirement already satisfied: pytz>=2011k in /nfs/research1/stegle/users/rkreuzhu/conda-envs/kipoi/lib/python3.5/site-packages (from pandas) (2018.4)\n",
      "Requirement already satisfied: scipy in /nfs/research1/stegle/users/rkreuzhu/conda-envs/kipoi/lib/python3.5/site-packages (from concise>=0.6.6) (1.1.0)\n",
      "Requirement already satisfied: matplotlib in /nfs/research1/stegle/users/rkreuzhu/conda-envs/kipoi/lib/python3.5/site-packages (from concise>=0.6.6) (2.2.2)\n",
      "Requirement already satisfied: hyperopt in /nfs/research1/stegle/users/rkreuzhu/conda-envs/kipoi/lib/python3.5/site-packages (from concise>=0.6.6) (0.1)\n",
      "Requirement already satisfied: shapely in /nfs/research1/stegle/users/rkreuzhu/conda-envs/kipoi/lib/python3.5/site-packages (from concise>=0.6.6) (1.6.4.post1)\n",
      "Requirement already satisfied: descartes in /nfs/research1/stegle/users/rkreuzhu/conda-envs/kipoi/lib/python3.5/site-packages (from concise>=0.6.6) (1.1.0)\n",
      "Requirement already satisfied: keras>=2.0.4 in /nfs/research1/stegle/users/rkreuzhu/conda-envs/kipoi/lib/python3.5/site-packages (from concise>=0.6.6) (2.1.4)\n",
      "Requirement already satisfied: six in /nfs/research1/stegle/users/rkreuzhu/conda-envs/kipoi/lib/python3.5/site-packages (from pybedtools) (1.11.0)\n",
      "Requirement already satisfied: pyBigWig in /nfs/research1/stegle/users/rkreuzhu/conda-envs/kipoi/lib/python3.5/site-packages (from genomelake) (0.3.11)\n",
      "Requirement already satisfied: bcolz>=1.1 in /nfs/research1/stegle/users/rkreuzhu/conda-envs/kipoi/lib/python3.5/site-packages (from genomelake) (1.2.1)\n",
      "Requirement already satisfied: cycler>=0.10 in /nfs/research1/stegle/users/rkreuzhu/conda-envs/kipoi/lib/python3.5/site-packages (from matplotlib->concise>=0.6.6) (0.10.0)\n",
      "Requirement already satisfied: pyparsing!=2.0.4,!=2.1.2,!=2.1.6,>=2.0.1 in /nfs/research1/stegle/users/rkreuzhu/conda-envs/kipoi/lib/python3.5/site-packages (from matplotlib->concise>=0.6.6) (2.2.0)\n",
      "Requirement already satisfied: kiwisolver>=1.0.1 in /nfs/research1/stegle/users/rkreuzhu/conda-envs/kipoi/lib/python3.5/site-packages (from matplotlib->concise>=0.6.6) (1.0.1)\n",
      "Requirement already satisfied: pymongo in /nfs/research1/stegle/users/rkreuzhu/conda-envs/kipoi/lib/python3.5/site-packages (from hyperopt->concise>=0.6.6) (3.6.1)\n",
      "Requirement already satisfied: networkx in /nfs/research1/stegle/users/rkreuzhu/conda-envs/kipoi/lib/python3.5/site-packages (from hyperopt->concise>=0.6.6) (2.1)\n",
      "Requirement already satisfied: future in /nfs/research1/stegle/users/rkreuzhu/conda-envs/kipoi/lib/python3.5/site-packages (from hyperopt->concise>=0.6.6) (0.16.0)\n",
      "Requirement already satisfied: nose in /nfs/research1/stegle/users/rkreuzhu/conda-envs/kipoi/lib/python3.5/site-packages (from hyperopt->concise>=0.6.6) (1.3.7)\n",
      "Requirement already satisfied: pyyaml in /nfs/research1/stegle/users/rkreuzhu/conda-envs/kipoi/lib/python3.5/site-packages (from keras>=2.0.4->concise>=0.6.6) (3.12)\n",
      "Requirement already satisfied: setuptools in /nfs/research1/stegle/users/rkreuzhu/conda-envs/kipoi/lib/python3.5/site-packages (from kiwisolver>=1.0.1->matplotlib->concise>=0.6.6) (39.1.0)\n",
      "Requirement already satisfied: decorator>=4.1.0 in /nfs/research1/stegle/users/rkreuzhu/conda-envs/kipoi/lib/python3.5/site-packages (from networkx->hyperopt->concise>=0.6.6) (4.3.0)\n",
      "Installing collected packages: scikit-learn\n",
      "  Found existing installation: scikit-learn 0.19.1\n",
      "    Uninstalling scikit-learn-0.19.1:\n",
      "      Successfully uninstalled scikit-learn-0.19.1\n",
      "Successfully installed scikit-learn-0.19.1\n"
     ]
    }
   ],
   "source": [
    "for ms in models_substr:\n",
    "    model_name = models_df_subsets[ms][\"model\"].iloc[0]\n",
    "    kipoi.pipeline.install_model_requirements(model_name)"
   ]
  },
  {
   "cell_type": "markdown",
   "metadata": {},
   "source": [
    "Now we are good to go:"
   ]
  },
  {
   "cell_type": "code",
   "execution_count": 20,
   "metadata": {},
   "outputs": [
    {
     "name": "stdout",
     "output_type": "stream",
     "text": [
      "HAL\n"
     ]
    },
    {
     "name": "stderr",
     "output_type": "stream",
     "text": [
      "100%|██████████| 709/709 [00:03<00:00, 200.82it/s]\n"
     ]
    },
    {
     "name": "stdout",
     "output_type": "stream",
     "text": [
      "MaxEntScan/3prime\n"
     ]
    },
    {
     "name": "stderr",
     "output_type": "stream",
     "text": [
      "100%|██████████| 709/709 [00:01<00:00, 481.39it/s]\n",
      "/nfs/research1/stegle/users/rkreuzhu/conda-envs/kipoi/lib/python3.5/site-packages/h5py/__init__.py:36: FutureWarning: Conversion of the second argument of issubdtype from `float` to `np.floating` is deprecated. In future, it will be treated as `np.float64 == np.dtype(float).type`.\n",
      "  from ._conv import register_converters as _register_converters\n",
      "Using TensorFlow backend.\n",
      "/nfs/research1/stegle/users/rkreuzhu/conda-envs/kipoi/lib/python3.5/site-packages/keras/models.py:291: UserWarning: Error in loading the saved optimizer state. As a result, your model is starting with a freshly initialized optimizer.\n",
      "  warnings.warn('Error in loading the saved optimizer '\n"
     ]
    },
    {
     "name": "stdout",
     "output_type": "stream",
     "text": [
      "labranchor\n"
     ]
    },
    {
     "name": "stderr",
     "output_type": "stream",
     "text": [
      "100%|██████████| 709/709 [00:05<00:00, 130.12it/s]\n",
      "2018-05-22 11:56:04,858 [INFO] successfully loaded the dataloader from /nfs/research1/stegle/users/rkreuzhu/.kipoi/models/rbp_eclip/AARS/dataloader.py::SeqDistDataset\n",
      "/nfs/research1/stegle/users/rkreuzhu/conda-envs/kipoi/lib/python3.5/site-packages/keras/models.py:291: UserWarning: Error in loading the saved optimizer state. As a result, your model is starting with a freshly initialized optimizer.\n",
      "  warnings.warn('Error in loading the saved optimizer '\n",
      "2018-05-22 11:56:07,228 [INFO] successfully loaded the model from model_files/model.h5\n",
      "2018-05-22 11:56:07,231 [INFO] dataloader.output_schema is compatible with model.schema\n",
      "2018-05-22 11:56:07,427 [INFO] git-lfs pull -I rbp_eclip/AARS/**\n"
     ]
    },
    {
     "name": "stdout",
     "output_type": "stream",
     "text": [
      "rbp_eclip/AARS\n"
     ]
    },
    {
     "name": "stderr",
     "output_type": "stream",
     "text": [
      "2018-05-22 11:56:07,657 [INFO] git-lfs pull -I rbp_eclip/template/**\n",
      "2018-05-22 11:56:07,881 [INFO] dataloader rbp_eclip/AARS loaded\n",
      "2018-05-22 11:56:07,909 [INFO] successfully loaded the dataloader from /nfs/research1/stegle/users/rkreuzhu/.kipoi/models/rbp_eclip/AARS/dataloader.py::SeqDistDataset\n",
      "2018-05-22 11:56:08,886 [INFO] Extracted GTF attributes: ['gene_id', 'gene_name', 'gene_source', 'gene_biotype', 'transcript_id', 'transcript_name', 'transcript_source', 'exon_number', 'exon_id', 'tag', 'protein_id', 'ccds_id']\n",
      "  0%|          | 0/14 [00:00<?, ?it/s]INFO:2018-05-22 11:56:09,358:genomelake] Running landmark extractors..\n",
      "2018-05-22 11:56:09,358 [INFO] Running landmark extractors..\n",
      "/nfs/research1/stegle/users/rkreuzhu/conda-envs/kipoi/lib/python3.5/site-packages/concise/utils/position.py:55: FutureWarning: from_items is deprecated. Please use DataFrame.from_dict(dict(items), ...) instead. DataFrame.from_dict(OrderedDict(items)) may be used to preserve the key order.\n",
      "  (\"strand\", gtf.strand)])\n",
      "/nfs/research1/stegle/users/rkreuzhu/conda-envs/kipoi/lib/python3.5/site-packages/concise/utils/position.py:62: FutureWarning: from_items is deprecated. Please use DataFrame.from_dict(dict(items), ...) instead. DataFrame.from_dict(OrderedDict(items)) may be used to preserve the key order.\n",
      "  (\"strand\", gtf.strand)])\n",
      "INFO:2018-05-22 11:56:09,539:genomelake] Done!\n",
      "2018-05-22 11:56:09,539 [INFO] Done!\n",
      "100%|██████████| 14/14 [00:03<00:00,  3.55it/s]\n"
     ]
    }
   ],
   "source": [
    "# Run variant effect prediction using a basic Diff\n",
    "\n",
    "import kipoi\n",
    "from kipoi.postprocessing.variant_effects import ensure_tabixed_vcf\n",
    "import kipoi.postprocessing.variant_effects.snv_predict as sp\n",
    "from kipoi.postprocessing.variant_effects import VcfWriter\n",
    "from kipoi.postprocessing.variant_effects import Diff\n",
    "\n",
    "\n",
    "\n",
    "splicing_dl_args = {\"gtf_file\":\"example_data/Homo_sapiens.GRCh37.75.filtered_chr22.gtf\",\n",
    "                               \"fasta_file\": \"example_data/hg19_chr22.fa\"}\n",
    "dataloader_args_dict = {\"HAL\": splicing_dl_args,\n",
    "                        \"labranchor\": splicing_dl_args,\n",
    "                        \"MaxEntScan\":splicing_dl_args,\n",
    "                        \"rbp\": {\"fasta_file\": \"example_data/hg19_chr22.fa\",\n",
    "                               \"gtf_file\":\"example_data/Homo_sapiens.GRCh37.75_chr22.gtf\"}\n",
    "                       }\n",
    "\n",
    "for ms in models_substr:\n",
    "    model_name = models_df_subsets[ms][\"model\"].iloc[0]\n",
    "    #kipoi.pipeline.install_model_requirements(model_name)\n",
    "    model = kipoi.get_model(model_name)\n",
    "    vcf_path = \"example_data/clinvar_donor_acceptor_chr22.vcf\"\n",
    "    vcf_path_tbx = ensure_tabixed_vcf(vcf_path)\n",
    "    \n",
    "    out_vcf_fpath = vcf_path[:-4] + \"%s.vcf\"%model_name.replace(\"/\", \"_\")\n",
    "\n",
    "    writer = VcfWriter(model, vcf_path, out_vcf_fpath)\n",
    "    \n",
    "    print(model_name)\n",
    "    \n",
    "    Dataloader = kipoi.get_dataloader_factory(model_name)\n",
    "    dataloader_arguments = dataloader_args_dict[ms]\n",
    "    model_info = kipoi.postprocessing.variant_effects.ModelInfoExtractor(model, Dataloader)\n",
    "    vcf_to_region = None\n",
    "    if ms == \"rbp\":\n",
    "        vcf_to_region = kipoi.postprocessing.variant_effects.SnvCenteredRg(model_info)\n",
    "    sp.predict_snvs(model,\n",
    "                    Dataloader,\n",
    "                    vcf_path_tbx,\n",
    "                    batch_size = 32,\n",
    "                    dataloader_args=dataloader_arguments,\n",
    "                    vcf_to_region=vcf_to_region,\n",
    "                    evaluation_function_kwargs={'diff_types': {'diff': Diff(\"mean\")}},\n",
    "                    sync_pred_writer=writer)\n",
    "    writer.close()"
   ]
  },
  {
   "cell_type": "markdown",
   "metadata": {},
   "source": [
    "let's validate that things have worked:"
   ]
  },
  {
   "cell_type": "code",
   "execution_count": 21,
   "metadata": {},
   "outputs": [
    {
     "name": "stdout",
     "output_type": "stream",
     "text": [
      "      40 example_data/clinvar_donor_acceptor_chr22_2varsDeepSEA_variantEffects.vcf\n",
      "      33 example_data/clinvar_donor_acceptor_chr22_2vars.vcf\n",
      "      33 example_data/clinvar_donor_acceptor_chr22_5vars.vcf\n",
      "     450 example_data/clinvar_donor_acceptor_chr22DeepSEA_variantEffects.vcf\n",
      "    2035 example_data/clinvar_donor_acceptor_chr22HAL.vcf\n",
      "     794 example_data/clinvar_donor_acceptor_chr22labranchor.vcf\n",
      "    1176 example_data/clinvar_donor_acceptor_chr22MaxEntScan_3prime.vcf\n",
      "     449 example_data/clinvar_donor_acceptor_chr22rbp_eclip_AARS.vcf\n",
      "     447 example_data/clinvar_donor_acceptor_chr22.vcf\n",
      "    5457 total\n"
     ]
    }
   ],
   "source": [
    "! wc -l example_data/clinvar_donor_acceptor_chr22*.vcf"
   ]
  },
  {
   "cell_type": "code",
   "execution_count": null,
   "metadata": {},
   "outputs": [],
   "source": []
  }
 ],
 "metadata": {
  "kernelspec": {
   "display_name": "Python 3",
   "language": "python",
   "name": "python3"
  },
  "language_info": {
   "codemirror_mode": {
    "name": "ipython",
    "version": 3
   },
   "file_extension": ".py",
   "mimetype": "text/x-python",
   "name": "python",
   "nbconvert_exporter": "python",
   "pygments_lexer": "ipython3",
   "version": "3.5.5"
  }
 },
 "nbformat": 4,
 "nbformat_minor": 2
}
